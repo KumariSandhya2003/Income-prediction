{
 "cells": [
  {
   "cell_type": "markdown",
   "metadata": {},
   "source": [
    "<h1 id=\"tocheading\">Table of Contents</h1>\n",
    "<div id=\"toc\"></div>"
   ]
  },
  {
   "cell_type": "markdown",
   "metadata": {},
   "source": [
    "## NB1_Adult_Income_Prediction- Introduction\n",
    "\n",
    "  Dataset: The adult dataset is from the 1994 Census database. It is also known as “Census Income” dataset. Details of this dataset can be found at UCI Machine Learning Repository.The dataset used in this project has 32561 records and a binomial label indicating a salary of <=50K or >50K.\n",
    "  \n",
    "  Objective: To predict whether an individual’s annual income exceeds $50,000 USD using the set of variables in this data set. Read this file in directly from the URL address, named it \"adult\". Using Scikit learn to create following 4 different Machine Learning techniques:\n",
    "  \n",
    "    -K-nearest neighbor\n",
    "    -Decision Tree\n",
    "    -Random Forest\n",
    "    -Bagging\n",
    "    -Extra Trees\n",
    "    -Gradient Boosting\n",
    "    -AdaBoost\n",
    "    -Stacking\n",
    "    -Artificial Neural Network(ANN)\n",
    "    -Stochastic Gradient Descent\n",
    "    -SVM(Support Vector Machine)"
   ]
  },
  {
   "cell_type": "code",
   "execution_count": 3,
   "metadata": {},
   "outputs": [],
   "source": [
    "import urllib\n",
    "import requests\n",
    "import pandas as pd\n",
    "import numpy as np \n",
    "import matplotlib.pyplot as plt\n",
    "import warnings\n",
    "warnings.filterwarnings('ignore')\n",
    "import seaborn as sns"
   ]
  },
  {
   "cell_type": "code",
   "execution_count": 4,
   "metadata": {},
   "outputs": [
    {
     "data": {
      "application/javascript": [
       "$.getScript('https://kmahelona.github.io/ipython_notebook_goodies/ipython_notebook_toc.js')\n"
      ],
      "text/plain": [
       "<IPython.core.display.Javascript object>"
      ]
     },
     "metadata": {},
     "output_type": "display_data"
    }
   ],
   "source": [
    "%%javascript\n",
    "$.getScript('https://kmahelona.github.io/ipython_notebook_goodies/ipython_notebook_toc.js')"
   ]
  },
  {
   "cell_type": "code",
   "execution_count": 5,
   "metadata": {},
   "outputs": [
    {
     "data": {
      "text/html": [
       "<div>\n",
       "<style scoped>\n",
       "    .dataframe tbody tr th:only-of-type {\n",
       "        vertical-align: middle;\n",
       "    }\n",
       "\n",
       "    .dataframe tbody tr th {\n",
       "        vertical-align: top;\n",
       "    }\n",
       "\n",
       "    .dataframe thead th {\n",
       "        text-align: right;\n",
       "    }\n",
       "</style>\n",
       "<table border=\"1\" class=\"dataframe\">\n",
       "  <thead>\n",
       "    <tr style=\"text-align: right;\">\n",
       "      <th></th>\n",
       "      <th>0</th>\n",
       "      <th>1</th>\n",
       "      <th>2</th>\n",
       "      <th>3</th>\n",
       "      <th>4</th>\n",
       "      <th>5</th>\n",
       "      <th>6</th>\n",
       "      <th>7</th>\n",
       "      <th>8</th>\n",
       "      <th>9</th>\n",
       "      <th>10</th>\n",
       "      <th>11</th>\n",
       "      <th>12</th>\n",
       "      <th>13</th>\n",
       "      <th>14</th>\n",
       "    </tr>\n",
       "  </thead>\n",
       "  <tbody>\n",
       "    <tr>\n",
       "      <th>0</th>\n",
       "      <td>39</td>\n",
       "      <td>State-gov</td>\n",
       "      <td>77516</td>\n",
       "      <td>Bachelors</td>\n",
       "      <td>13</td>\n",
       "      <td>Never-married</td>\n",
       "      <td>Adm-clerical</td>\n",
       "      <td>Not-in-family</td>\n",
       "      <td>White</td>\n",
       "      <td>Male</td>\n",
       "      <td>2174</td>\n",
       "      <td>0</td>\n",
       "      <td>40</td>\n",
       "      <td>United-States</td>\n",
       "      <td>&lt;=50K</td>\n",
       "    </tr>\n",
       "    <tr>\n",
       "      <th>1</th>\n",
       "      <td>50</td>\n",
       "      <td>Self-emp-not-inc</td>\n",
       "      <td>83311</td>\n",
       "      <td>Bachelors</td>\n",
       "      <td>13</td>\n",
       "      <td>Married-civ-spouse</td>\n",
       "      <td>Exec-managerial</td>\n",
       "      <td>Husband</td>\n",
       "      <td>White</td>\n",
       "      <td>Male</td>\n",
       "      <td>0</td>\n",
       "      <td>0</td>\n",
       "      <td>13</td>\n",
       "      <td>United-States</td>\n",
       "      <td>&lt;=50K</td>\n",
       "    </tr>\n",
       "    <tr>\n",
       "      <th>2</th>\n",
       "      <td>38</td>\n",
       "      <td>Private</td>\n",
       "      <td>215646</td>\n",
       "      <td>HS-grad</td>\n",
       "      <td>9</td>\n",
       "      <td>Divorced</td>\n",
       "      <td>Handlers-cleaners</td>\n",
       "      <td>Not-in-family</td>\n",
       "      <td>White</td>\n",
       "      <td>Male</td>\n",
       "      <td>0</td>\n",
       "      <td>0</td>\n",
       "      <td>40</td>\n",
       "      <td>United-States</td>\n",
       "      <td>&lt;=50K</td>\n",
       "    </tr>\n",
       "  </tbody>\n",
       "</table>\n",
       "</div>"
      ],
      "text/plain": [
       "   0                  1       2           3   4                    5   \\\n",
       "0  39          State-gov   77516   Bachelors  13        Never-married   \n",
       "1  50   Self-emp-not-inc   83311   Bachelors  13   Married-civ-spouse   \n",
       "2  38            Private  215646     HS-grad   9             Divorced   \n",
       "\n",
       "                   6               7       8      9     10  11  12  \\\n",
       "0        Adm-clerical   Not-in-family   White   Male  2174   0  40   \n",
       "1     Exec-managerial         Husband   White   Male     0   0  13   \n",
       "2   Handlers-cleaners   Not-in-family   White   Male     0   0  40   \n",
       "\n",
       "               13      14  \n",
       "0   United-States   <=50K  \n",
       "1   United-States   <=50K  \n",
       "2   United-States   <=50K  "
      ]
     },
     "execution_count": 5,
     "metadata": {},
     "output_type": "execute_result"
    }
   ],
   "source": [
    "# Retrieving dataset from the web\n",
    "url = 'https://archive.ics.uci.edu/ml/machine-learning-databases/adult/adult.data'\n",
    "\n",
    "adult = pd.read_csv(url, delimiter=',',header = None)\n",
    "# displaying first 3 rows\n",
    "adult[:3]"
   ]
  },
  {
   "cell_type": "code",
   "execution_count": 6,
   "metadata": {},
   "outputs": [
    {
     "data": {
      "text/html": [
       "<div>\n",
       "<style scoped>\n",
       "    .dataframe tbody tr th:only-of-type {\n",
       "        vertical-align: middle;\n",
       "    }\n",
       "\n",
       "    .dataframe tbody tr th {\n",
       "        vertical-align: top;\n",
       "    }\n",
       "\n",
       "    .dataframe thead th {\n",
       "        text-align: right;\n",
       "    }\n",
       "</style>\n",
       "<table border=\"1\" class=\"dataframe\">\n",
       "  <thead>\n",
       "    <tr style=\"text-align: right;\">\n",
       "      <th></th>\n",
       "      <th>0</th>\n",
       "      <th>1</th>\n",
       "      <th>2</th>\n",
       "      <th>3</th>\n",
       "      <th>4</th>\n",
       "      <th>5</th>\n",
       "      <th>6</th>\n",
       "      <th>7</th>\n",
       "      <th>8</th>\n",
       "      <th>9</th>\n",
       "      <th>10</th>\n",
       "      <th>11</th>\n",
       "      <th>12</th>\n",
       "      <th>13</th>\n",
       "      <th>14</th>\n",
       "    </tr>\n",
       "  </thead>\n",
       "  <tbody>\n",
       "    <tr>\n",
       "      <th>32558</th>\n",
       "      <td>58</td>\n",
       "      <td>Private</td>\n",
       "      <td>151910</td>\n",
       "      <td>HS-grad</td>\n",
       "      <td>9</td>\n",
       "      <td>Widowed</td>\n",
       "      <td>Adm-clerical</td>\n",
       "      <td>Unmarried</td>\n",
       "      <td>White</td>\n",
       "      <td>Female</td>\n",
       "      <td>0</td>\n",
       "      <td>0</td>\n",
       "      <td>40</td>\n",
       "      <td>United-States</td>\n",
       "      <td>&lt;=50K</td>\n",
       "    </tr>\n",
       "    <tr>\n",
       "      <th>32559</th>\n",
       "      <td>22</td>\n",
       "      <td>Private</td>\n",
       "      <td>201490</td>\n",
       "      <td>HS-grad</td>\n",
       "      <td>9</td>\n",
       "      <td>Never-married</td>\n",
       "      <td>Adm-clerical</td>\n",
       "      <td>Own-child</td>\n",
       "      <td>White</td>\n",
       "      <td>Male</td>\n",
       "      <td>0</td>\n",
       "      <td>0</td>\n",
       "      <td>20</td>\n",
       "      <td>United-States</td>\n",
       "      <td>&lt;=50K</td>\n",
       "    </tr>\n",
       "    <tr>\n",
       "      <th>32560</th>\n",
       "      <td>52</td>\n",
       "      <td>Self-emp-inc</td>\n",
       "      <td>287927</td>\n",
       "      <td>HS-grad</td>\n",
       "      <td>9</td>\n",
       "      <td>Married-civ-spouse</td>\n",
       "      <td>Exec-managerial</td>\n",
       "      <td>Wife</td>\n",
       "      <td>White</td>\n",
       "      <td>Female</td>\n",
       "      <td>15024</td>\n",
       "      <td>0</td>\n",
       "      <td>40</td>\n",
       "      <td>United-States</td>\n",
       "      <td>&gt;50K</td>\n",
       "    </tr>\n",
       "  </tbody>\n",
       "</table>\n",
       "</div>"
      ],
      "text/plain": [
       "       0              1       2         3   4                    5   \\\n",
       "32558  58        Private  151910   HS-grad   9              Widowed   \n",
       "32559  22        Private  201490   HS-grad   9        Never-married   \n",
       "32560  52   Self-emp-inc  287927   HS-grad   9   Married-civ-spouse   \n",
       "\n",
       "                     6           7       8        9      10  11  12  \\\n",
       "32558      Adm-clerical   Unmarried   White   Female      0   0  40   \n",
       "32559      Adm-clerical   Own-child   White     Male      0   0  20   \n",
       "32560   Exec-managerial        Wife   White   Female  15024   0  40   \n",
       "\n",
       "                   13      14  \n",
       "32558   United-States   <=50K  \n",
       "32559   United-States   <=50K  \n",
       "32560   United-States    >50K  "
      ]
     },
     "execution_count": 6,
     "metadata": {},
     "output_type": "execute_result"
    }
   ],
   "source": [
    "# displaying last 3 rows\n",
    "adult[32558:]\n"
   ]
  },
  {
   "cell_type": "code",
   "execution_count": 7,
   "metadata": {},
   "outputs": [
    {
     "data": {
      "text/plain": [
       "(32561, 15)"
      ]
     },
     "execution_count": 7,
     "metadata": {},
     "output_type": "execute_result"
    }
   ],
   "source": [
    "# checking the shape of the dataframe(rows,columns)\n",
    "adult.shape"
   ]
  },
  {
   "cell_type": "code",
   "execution_count": 8,
   "metadata": {},
   "outputs": [],
   "source": [
    "# collecting all unpredictive columns and somewhat redundant data to drop such as education\n",
    "# relationship and finalweight because education_num can represent education,\n",
    "# gender and marital-status can represent relationship and finalweight isn't a considerable factor\n",
    "# in predicting an individual's income.\n",
    "\n",
    "column_list = [2]+[3]+[7]"
   ]
  },
  {
   "cell_type": "code",
   "execution_count": 9,
   "metadata": {},
   "outputs": [],
   "source": [
    "# following command works only when I used header=None, if header is left unhandled \n",
    "# it raises an error \"columns are not on axis=1\" \n",
    "adult=adult.drop(column_list, axis= 1)"
   ]
  },
  {
   "cell_type": "code",
   "execution_count": 10,
   "metadata": {},
   "outputs": [],
   "source": [
    "# https://stackoverflow.com/questions/11346283/renaming-columns-in-pandas\n",
    "#  supplying a list to the set_axis method that is equal in length to the number of columns\n",
    "# using set_axis with a list and inplace=False\n",
    "adult = adult.set_axis(['age','workclass','education_num',\n",
    "             'marital_status','occupation','race','gender','capital_gain','capital_loss',\n",
    "              'hours_per_week','native_country','income'], axis='columns', inplace=False)\n"
   ]
  },
  {
   "cell_type": "code",
   "execution_count": 11,
   "metadata": {},
   "outputs": [
    {
     "data": {
      "text/plain": [
       "(32561, 12)"
      ]
     },
     "execution_count": 11,
     "metadata": {},
     "output_type": "execute_result"
    }
   ],
   "source": [
    "# rechecking dimension of the data frame\n",
    "adult.shape"
   ]
  },
  {
   "cell_type": "code",
   "execution_count": 12,
   "metadata": {},
   "outputs": [
    {
     "name": "stdout",
     "output_type": "stream",
     "text": [
      "<class 'pandas.core.frame.DataFrame'>\n",
      "RangeIndex: 32561 entries, 0 to 32560\n",
      "Data columns (total 12 columns):\n",
      "age               32561 non-null int64\n",
      "workclass         32561 non-null object\n",
      "education_num     32561 non-null int64\n",
      "marital_status    32561 non-null object\n",
      "occupation        32561 non-null object\n",
      "race              32561 non-null object\n",
      "gender            32561 non-null object\n",
      "capital_gain      32561 non-null int64\n",
      "capital_loss      32561 non-null int64\n",
      "hours_per_week    32561 non-null int64\n",
      "native_country    32561 non-null object\n",
      "income            32561 non-null object\n",
      "dtypes: int64(5), object(7)\n",
      "memory usage: 3.0+ MB\n"
     ]
    }
   ],
   "source": [
    "# all columns with their data type,range, null/non-null values  in the data frame\n",
    "\n",
    "adult.info()"
   ]
  },
  {
   "cell_type": "markdown",
   "metadata": {},
   "source": [
    "### Adult Data Info:\n",
    "1. Dataset description: Now, the dataset has 32561 observations and 12 variables. \n",
    "2. Objective: A supervised learning to learn the relationship between the independent variables such as 'workclass,\"education\", \"occupation\",\"working hours per week\",\"race\",\"age\",\"gender\" and the binary dependent variable which is Incomewith label: <=50K and >50K .\n",
    "Altogether, 7 categorical and 5 numeric independent variables with all non-null values.\n",
    "3.As per the documentaion page of the dataset: 7% have missing attribute values.\n",
    "Class Distribution for Target variable:\n",
    "Probability for the label '>50K' : 23.93% / 24.78% (without unknowns) \n",
    "Probability for the label '<=50K' : 76.07% / 75.22% (without unknowns) "
   ]
  },
  {
   "cell_type": "code",
   "execution_count": 13,
   "metadata": {},
   "outputs": [
    {
     "data": {
      "text/html": [
       "<div>\n",
       "<style scoped>\n",
       "    .dataframe tbody tr th:only-of-type {\n",
       "        vertical-align: middle;\n",
       "    }\n",
       "\n",
       "    .dataframe tbody tr th {\n",
       "        vertical-align: top;\n",
       "    }\n",
       "\n",
       "    .dataframe thead th {\n",
       "        text-align: right;\n",
       "    }\n",
       "</style>\n",
       "<table border=\"1\" class=\"dataframe\">\n",
       "  <thead>\n",
       "    <tr style=\"text-align: right;\">\n",
       "      <th></th>\n",
       "      <th>age</th>\n",
       "      <th>education_num</th>\n",
       "      <th>capital_gain</th>\n",
       "      <th>capital_loss</th>\n",
       "      <th>hours_per_week</th>\n",
       "    </tr>\n",
       "  </thead>\n",
       "  <tbody>\n",
       "    <tr>\n",
       "      <th>count</th>\n",
       "      <td>32561.000000</td>\n",
       "      <td>32561.000000</td>\n",
       "      <td>32561.000000</td>\n",
       "      <td>32561.000000</td>\n",
       "      <td>32561.000000</td>\n",
       "    </tr>\n",
       "    <tr>\n",
       "      <th>mean</th>\n",
       "      <td>38.581647</td>\n",
       "      <td>10.080679</td>\n",
       "      <td>1077.648844</td>\n",
       "      <td>87.303830</td>\n",
       "      <td>40.437456</td>\n",
       "    </tr>\n",
       "    <tr>\n",
       "      <th>std</th>\n",
       "      <td>13.640433</td>\n",
       "      <td>2.572720</td>\n",
       "      <td>7385.292085</td>\n",
       "      <td>402.960219</td>\n",
       "      <td>12.347429</td>\n",
       "    </tr>\n",
       "    <tr>\n",
       "      <th>min</th>\n",
       "      <td>17.000000</td>\n",
       "      <td>1.000000</td>\n",
       "      <td>0.000000</td>\n",
       "      <td>0.000000</td>\n",
       "      <td>1.000000</td>\n",
       "    </tr>\n",
       "    <tr>\n",
       "      <th>25%</th>\n",
       "      <td>28.000000</td>\n",
       "      <td>9.000000</td>\n",
       "      <td>0.000000</td>\n",
       "      <td>0.000000</td>\n",
       "      <td>40.000000</td>\n",
       "    </tr>\n",
       "    <tr>\n",
       "      <th>50%</th>\n",
       "      <td>37.000000</td>\n",
       "      <td>10.000000</td>\n",
       "      <td>0.000000</td>\n",
       "      <td>0.000000</td>\n",
       "      <td>40.000000</td>\n",
       "    </tr>\n",
       "    <tr>\n",
       "      <th>75%</th>\n",
       "      <td>48.000000</td>\n",
       "      <td>12.000000</td>\n",
       "      <td>0.000000</td>\n",
       "      <td>0.000000</td>\n",
       "      <td>45.000000</td>\n",
       "    </tr>\n",
       "    <tr>\n",
       "      <th>max</th>\n",
       "      <td>90.000000</td>\n",
       "      <td>16.000000</td>\n",
       "      <td>99999.000000</td>\n",
       "      <td>4356.000000</td>\n",
       "      <td>99.000000</td>\n",
       "    </tr>\n",
       "  </tbody>\n",
       "</table>\n",
       "</div>"
      ],
      "text/plain": [
       "                age  education_num  capital_gain  capital_loss  hours_per_week\n",
       "count  32561.000000   32561.000000  32561.000000  32561.000000    32561.000000\n",
       "mean      38.581647      10.080679   1077.648844     87.303830       40.437456\n",
       "std       13.640433       2.572720   7385.292085    402.960219       12.347429\n",
       "min       17.000000       1.000000      0.000000      0.000000        1.000000\n",
       "25%       28.000000       9.000000      0.000000      0.000000       40.000000\n",
       "50%       37.000000      10.000000      0.000000      0.000000       40.000000\n",
       "75%       48.000000      12.000000      0.000000      0.000000       45.000000\n",
       "max       90.000000      16.000000  99999.000000   4356.000000       99.000000"
      ]
     },
     "execution_count": 13,
     "metadata": {},
     "output_type": "execute_result"
    }
   ],
   "source": [
    "# descriptive statistics for 'numeric' independent variables.\n",
    "adult.describe()"
   ]
  },
  {
   "cell_type": "code",
   "execution_count": 14,
   "metadata": {},
   "outputs": [
    {
     "data": {
      "text/html": [
       "<div>\n",
       "<style scoped>\n",
       "    .dataframe tbody tr th:only-of-type {\n",
       "        vertical-align: middle;\n",
       "    }\n",
       "\n",
       "    .dataframe tbody tr th {\n",
       "        vertical-align: top;\n",
       "    }\n",
       "\n",
       "    .dataframe thead th {\n",
       "        text-align: right;\n",
       "    }\n",
       "</style>\n",
       "<table border=\"1\" class=\"dataframe\">\n",
       "  <thead>\n",
       "    <tr style=\"text-align: right;\">\n",
       "      <th></th>\n",
       "      <th>income</th>\n",
       "      <th>age</th>\n",
       "      <th>workclass</th>\n",
       "      <th>education_num</th>\n",
       "      <th>marital_status</th>\n",
       "      <th>occupation</th>\n",
       "      <th>race</th>\n",
       "      <th>gender</th>\n",
       "      <th>capital_gain</th>\n",
       "      <th>capital_loss</th>\n",
       "      <th>hours_per_week</th>\n",
       "      <th>native_country</th>\n",
       "    </tr>\n",
       "  </thead>\n",
       "  <tbody>\n",
       "    <tr>\n",
       "      <th>0</th>\n",
       "      <td>&lt;=50K</td>\n",
       "      <td>39</td>\n",
       "      <td>State-gov</td>\n",
       "      <td>13</td>\n",
       "      <td>Never-married</td>\n",
       "      <td>Adm-clerical</td>\n",
       "      <td>White</td>\n",
       "      <td>Male</td>\n",
       "      <td>2174</td>\n",
       "      <td>0</td>\n",
       "      <td>40</td>\n",
       "      <td>United-States</td>\n",
       "    </tr>\n",
       "    <tr>\n",
       "      <th>1</th>\n",
       "      <td>&lt;=50K</td>\n",
       "      <td>50</td>\n",
       "      <td>Self-emp-not-inc</td>\n",
       "      <td>13</td>\n",
       "      <td>Married-civ-spouse</td>\n",
       "      <td>Exec-managerial</td>\n",
       "      <td>White</td>\n",
       "      <td>Male</td>\n",
       "      <td>0</td>\n",
       "      <td>0</td>\n",
       "      <td>13</td>\n",
       "      <td>United-States</td>\n",
       "    </tr>\n",
       "    <tr>\n",
       "      <th>2</th>\n",
       "      <td>&lt;=50K</td>\n",
       "      <td>38</td>\n",
       "      <td>Private</td>\n",
       "      <td>9</td>\n",
       "      <td>Divorced</td>\n",
       "      <td>Handlers-cleaners</td>\n",
       "      <td>White</td>\n",
       "      <td>Male</td>\n",
       "      <td>0</td>\n",
       "      <td>0</td>\n",
       "      <td>40</td>\n",
       "      <td>United-States</td>\n",
       "    </tr>\n",
       "  </tbody>\n",
       "</table>\n",
       "</div>"
      ],
      "text/plain": [
       "   income  age          workclass  education_num       marital_status  \\\n",
       "0   <=50K   39          State-gov             13        Never-married   \n",
       "1   <=50K   50   Self-emp-not-inc             13   Married-civ-spouse   \n",
       "2   <=50K   38            Private              9             Divorced   \n",
       "\n",
       "           occupation    race gender  capital_gain  capital_loss  \\\n",
       "0        Adm-clerical   White   Male          2174             0   \n",
       "1     Exec-managerial   White   Male             0             0   \n",
       "2   Handlers-cleaners   White   Male             0             0   \n",
       "\n",
       "   hours_per_week  native_country  \n",
       "0              40   United-States  \n",
       "1              13   United-States  \n",
       "2              40   United-States  "
      ]
     },
     "execution_count": 14,
     "metadata": {},
     "output_type": "execute_result"
    }
   ],
   "source": [
    "# designating target variable name\n",
    "targetName = 'income'\n",
    "targetSeries = adult[targetName]\n",
    "#remove target from current location and insert in column 0\n",
    "del adult[targetName]\n",
    "adult.insert(0, targetName, targetSeries)\n",
    "#targetSeries #new target \n",
    "#reprint dataframe and see target is in position 0\n",
    "adult[:3]\n"
   ]
  },
  {
   "cell_type": "markdown",
   "metadata": {},
   "source": [
    "### Exploratory Data Analysis"
   ]
  },
  {
   "cell_type": "code",
   "execution_count": 15,
   "metadata": {},
   "outputs": [
    {
     "data": {
      "text/plain": [
       "<matplotlib.axes._subplots.AxesSubplot at 0x2faff063898>"
      ]
     },
     "execution_count": 15,
     "metadata": {},
     "output_type": "execute_result"
    },
    {
     "data": {
      "image/png": "[encoded data removed]",
      "text/plain": [
       "<Figure size 432x288 with 1 Axes>"
      ]
     },
     "metadata": {
      "needs_background": "light"
     },
     "output_type": "display_data"
    }
   ],
   "source": [
    "# EDA on target variable\n",
    "sns.countplot(x='income', data=adult)  "
   ]
  },
  {
   "cell_type": "markdown",
   "metadata": {},
   "source": [
    "#### 24720 people out of 32561 observations are making <=50k whereas 7841 people  are making >50k. \n",
    "Income: <=50K (76%), >=50K (24%), clearly an imbalanced data"
   ]
  },
  {
   "cell_type": "code",
   "execution_count": 16,
   "metadata": {},
   "outputs": [
    {
     "data": {
      "text/html": [
       "<div>\n",
       "<style scoped>\n",
       "    .dataframe tbody tr th:only-of-type {\n",
       "        vertical-align: middle;\n",
       "    }\n",
       "\n",
       "    .dataframe tbody tr th {\n",
       "        vertical-align: top;\n",
       "    }\n",
       "\n",
       "    .dataframe thead th {\n",
       "        text-align: right;\n",
       "    }\n",
       "</style>\n",
       "<table border=\"1\" class=\"dataframe\">\n",
       "  <thead>\n",
       "    <tr style=\"text-align: right;\">\n",
       "      <th></th>\n",
       "      <th>age</th>\n",
       "      <th>education_num</th>\n",
       "      <th>capital_gain</th>\n",
       "      <th>capital_loss</th>\n",
       "      <th>hours_per_week</th>\n",
       "    </tr>\n",
       "  </thead>\n",
       "  <tbody>\n",
       "    <tr>\n",
       "      <th>0</th>\n",
       "      <td>39</td>\n",
       "      <td>13</td>\n",
       "      <td>2174</td>\n",
       "      <td>0</td>\n",
       "      <td>40</td>\n",
       "    </tr>\n",
       "    <tr>\n",
       "      <th>1</th>\n",
       "      <td>50</td>\n",
       "      <td>13</td>\n",
       "      <td>0</td>\n",
       "      <td>0</td>\n",
       "      <td>13</td>\n",
       "    </tr>\n",
       "    <tr>\n",
       "      <th>2</th>\n",
       "      <td>38</td>\n",
       "      <td>9</td>\n",
       "      <td>0</td>\n",
       "      <td>0</td>\n",
       "      <td>40</td>\n",
       "    </tr>\n",
       "  </tbody>\n",
       "</table>\n",
       "</div>"
      ],
      "text/plain": [
       "   age  education_num  capital_gain  capital_loss  hours_per_week\n",
       "0   39             13          2174             0              40\n",
       "1   50             13             0             0              13\n",
       "2   38              9             0             0              40"
      ]
     },
     "execution_count": 16,
     "metadata": {},
     "output_type": "execute_result"
    }
   ],
   "source": [
    "# creating a new dataframe which contains all numeric variables\n",
    "num_df = adult.select_dtypes(include=['int64']).copy()\n",
    "\n",
    "num_df.replace('^\\s+', '', regex=True, inplace=True)\n",
    "num_df[:3]"
   ]
  },
  {
   "cell_type": "code",
   "execution_count": 17,
   "metadata": {},
   "outputs": [
    {
     "data": {
      "text/plain": [
       "<matplotlib.axes._subplots.AxesSubplot at 0x2fa8c66d7b8>"
      ]
     },
     "execution_count": 17,
     "metadata": {},
     "output_type": "execute_result"
    },
    {
     "data": {
      "image/png": "[encoded data removed]",
      "text/plain": [
       "<Figure size 720x576 with 2 Axes>"
      ]
     },
     "metadata": {
      "needs_background": "light"
     },
     "output_type": "display_data"
    }
   ],
   "source": [
    "# Visual representation of correlation outputs using seaborn :\n",
    "import seaborn as sns\n",
    "f, ax = plt.subplots(figsize=(10, 8))\n",
    "corr = num_df.corr()\n",
    "sns.heatmap(corr, mask=np.zeros_like(corr, dtype=np.bool), cmap=sns.diverging_palette(20,120, as_cmap=True),\n",
    "            square=True, ax=ax)\n",
    "# features are positively correlated with correlation value is below 0.50"
   ]
  },
  {
   "cell_type": "code",
   "execution_count": 18,
   "metadata": {},
   "outputs": [
    {
     "data": {
      "text/plain": [
       "<matplotlib.axes._subplots.AxesSubplot at 0x2fa8c6d6da0>"
      ]
     },
     "execution_count": 18,
     "metadata": {},
     "output_type": "execute_result"
    },
    {
     "data": {
      "image/png": "[encoded data removed]",
      "text/plain": [
       "<Figure size 432x288 with 1 Axes>"
      ]
     },
     "metadata": {
      "needs_background": "light"
     },
     "output_type": "display_data"
    }
   ],
   "source": [
    "#let's check Income and worked-hours weekly\n",
    "sns.boxplot(y='hours_per_week', x='income', data=adult, hue=\"income\")"
   ]
  },
  {
   "cell_type": "code",
   "execution_count": 19,
   "metadata": {},
   "outputs": [
    {
     "data": {
      "text/plain": [
       "<matplotlib.axes._subplots.AxesSubplot at 0x2fa8cff37f0>"
      ]
     },
     "execution_count": 19,
     "metadata": {},
     "output_type": "execute_result"
    },
    {
     "data": {
      "image/png": "[encoded data removed]",
      "text/plain": [
       "<Figure size 432x288 with 1 Axes>"
      ]
     },
     "metadata": {
      "needs_background": "light"
     },
     "output_type": "display_data"
    }
   ],
   "source": [
    "#let's check Income by capital_gain \n",
    "sns.boxplot(y='capital_gain', x='income', data=adult, hue=\"income\")"
   ]
  },
  {
   "cell_type": "code",
   "execution_count": 20,
   "metadata": {},
   "outputs": [
    {
     "data": {
      "text/plain": [
       "<matplotlib.axes._subplots.AxesSubplot at 0x2fa8d064e10>"
      ]
     },
     "execution_count": 20,
     "metadata": {},
     "output_type": "execute_result"
    },
    {
     "data": {
      "image/png": "[encoded data removed]",
      "text/plain": [
       "<Figure size 432x288 with 1 Axes>"
      ]
     },
     "metadata": {
      "needs_background": "light"
     },
     "output_type": "display_data"
    }
   ],
   "source": [
    "#let's check Income and capital loss\n",
    "sns.boxplot(y='capital_loss', x='income', data=adult, hue=\"income\")"
   ]
  },
  {
   "cell_type": "markdown",
   "metadata": {},
   "source": [
    "capital_gain and capital_loss are two numeric independent variables describing income and loss from financial investments. \n",
    "As we can see, most observations have 0  capital gain and/or capital loss,\n",
    "dropping it for it's not predictive for further analysis."
   ]
  },
  {
   "cell_type": "code",
   "execution_count": 21,
   "metadata": {},
   "outputs": [],
   "source": [
    "adult = adult.drop(['capital_gain','capital_loss'], axis=1)"
   ]
  },
  {
   "cell_type": "code",
   "execution_count": 22,
   "metadata": {},
   "outputs": [
    {
     "data": {
      "text/plain": [
       "<matplotlib.axes._subplots.AxesSubplot at 0x2fa8d0dbf98>"
      ]
     },
     "execution_count": 22,
     "metadata": {},
     "output_type": "execute_result"
    },
    {
     "data": {
      "image/png": "[encoded data removed]",
      "text/plain": [
       "<Figure size 432x288 with 1 Axes>"
      ]
     },
     "metadata": {
      "needs_background": "light"
     },
     "output_type": "display_data"
    }
   ],
   "source": [
    "#let's check age versus income\n",
    "sns.boxplot(y='age', x='income', data=adult, hue=\"income\")"
   ]
  },
  {
   "cell_type": "code",
   "execution_count": 23,
   "metadata": {},
   "outputs": [
    {
     "data": {
      "text/plain": [
       "<matplotlib.axes._subplots.AxesSubplot at 0x2fa8d14c908>"
      ]
     },
     "execution_count": 23,
     "metadata": {},
     "output_type": "execute_result"
    },
    {
     "data": {
      "image/png": "[encoded data removed]",
      "text/plain": [
       "<Figure size 432x288 with 1 Axes>"
      ]
     },
     "metadata": {
      "needs_background": "light"
     },
     "output_type": "display_data"
    }
   ],
   "source": [
    "sns.countplot(x='education_num', data=adult,)"
   ]
  },
  {
   "cell_type": "markdown",
   "metadata": {},
   "source": [
    "As we see, 32% are high school graduates(approx. 10420),22% went to some college(approx. 7163) and 16.5% have a bachelor’s degree(approx. 5373).\n",
    "11th-7;HS-grad = 9; Bachelors=13;Masters-14;Doctorate-16."
   ]
  },
  {
   "cell_type": "code",
   "execution_count": 24,
   "metadata": {},
   "outputs": [
    {
     "data": {
      "text/plain": [
       "count    32561.000000\n",
       "mean        10.080679\n",
       "std          2.572720\n",
       "min          1.000000\n",
       "25%          9.000000\n",
       "50%         10.000000\n",
       "75%         12.000000\n",
       "max         16.000000\n",
       "Name: education_num, dtype: float64"
      ]
     },
     "execution_count": 24,
     "metadata": {},
     "output_type": "execute_result"
    }
   ],
   "source": [
    "adult['education_num'].describe()"
   ]
  },
  {
   "cell_type": "code",
   "execution_count": 25,
   "metadata": {},
   "outputs": [
    {
     "data": {
      "text/plain": [
       "<matplotlib.axes._subplots.AxesSubplot at 0x2fa8d1e1e80>"
      ]
     },
     "execution_count": 25,
     "metadata": {},
     "output_type": "execute_result"
    },
    {
     "data": {
      "image/png": "[encoded data removed]",
      "text/plain": [
       "<Figure size 432x288 with 1 Axes>"
      ]
     },
     "metadata": {
      "needs_background": "light"
     },
     "output_type": "display_data"
    }
   ],
   "source": [
    "sns.countplot(x='education_num', hue='income', data=adult,)\n"
   ]
  },
  {
   "cell_type": "markdown",
   "metadata": {},
   "source": [
    "More than 20,000 observations with bachelor's degree are making >50k followed by higher secondary graduates and some kind of college education. Interestingly,very less observations with Masters and Doctorate degrees are making >50k but good to see percentage of >50k is more than <=50k.\n",
    "\n",
    "#### Let's check categorical variables"
   ]
  },
  {
   "cell_type": "code",
   "execution_count": 26,
   "metadata": {},
   "outputs": [
    {
     "data": {
      "text/plain": [
       " Male      21790\n",
       " Female    10771\n",
       "Name: gender, dtype: int64"
      ]
     },
     "execution_count": 26,
     "metadata": {},
     "output_type": "execute_result"
    }
   ],
   "source": [
    "adult['gender'].value_counts()\n",
    "#In the dataset, 67% are male and 33% female."
   ]
  },
  {
   "cell_type": "code",
   "execution_count": 27,
   "metadata": {},
   "outputs": [
    {
     "data": {
      "text/plain": [
       "<matplotlib.axes._subplots.AxesSubplot at 0x2fa8d2aa6d8>"
      ]
     },
     "execution_count": 27,
     "metadata": {},
     "output_type": "execute_result"
    },
    {
     "data": {
      "image/png": "[encoded data removed]",
      "text/plain": [
       "<Figure size 432x288 with 1 Axes>"
      ]
     },
     "metadata": {
      "needs_background": "light"
     },
     "output_type": "display_data"
    }
   ],
   "source": [
    "#let's check Income by age and gender\n",
    "sns.boxplot(y='age', x='gender', data=adult, hue=\"income\")"
   ]
  },
  {
   "cell_type": "markdown",
   "metadata": {},
   "source": [
    "####  Clearly, boxplot is depicting that majority of the observations make less than  50,000 USD a year. \n",
    "Median  age  for  those  who make over 50,000 USD annually is in between 40-50 years.Outliers can be seen in people who're making over 50,000 USD and graph shows that female are underrepresenting here in comparison to male."
   ]
  },
  {
   "cell_type": "code",
   "execution_count": 28,
   "metadata": {},
   "outputs": [
    {
     "data": {
      "text/plain": [
       " Private             22696\n",
       " Self-emp-not-inc     2541\n",
       " Local-gov            2093\n",
       " ?                    1836\n",
       " State-gov            1298\n",
       " Self-emp-inc         1116\n",
       " Federal-gov           960\n",
       " Without-pay            14\n",
       " Never-worked            7\n",
       "Name: workclass, dtype: int64"
      ]
     },
     "execution_count": 28,
     "metadata": {},
     "output_type": "execute_result"
    }
   ],
   "source": [
    "adult['workclass'].value_counts()"
   ]
  },
  {
   "cell_type": "markdown",
   "metadata": {},
   "source": [
    "Let's check out workclass variable, which describes the employment type such as farming, clerical or managerial. 69.4% values are Private;7.8% of values are self-employed with no income whereas 6% of values are unknown (‘?’).\n",
    "\n",
    "I'd rename '?' as 'Unknown' category, then combine all government job into one class 'Govt_class', 'self-employed' jobs together. Similarly, 'without-pay' & 'never-worked' don't contribute to the data being separate, so, I'd combine it with 'Unknown'."
   ]
  },
  {
   "cell_type": "code",
   "execution_count": 29,
   "metadata": {},
   "outputs": [],
   "source": [
    "# finding all ' ?' values, notice that there's a space before ?\n",
    "workclass_missing_ind = adult[adult['workclass'] == \" ?\"].index\n",
    "#adult.loc[workclass_missing_ind]"
   ]
  },
  {
   "cell_type": "code",
   "execution_count": 30,
   "metadata": {},
   "outputs": [],
   "source": [
    "# naming 'Unknown'\n",
    "adult.loc[workclass_missing_ind, 'workclass'] = str(' Unknown')"
   ]
  },
  {
   "cell_type": "code",
   "execution_count": 31,
   "metadata": {},
   "outputs": [],
   "source": [
    "# stripping leading space from the labels \n",
    "adult['workclass'] = adult['workclass'].str.strip()"
   ]
  },
  {
   "cell_type": "code",
   "execution_count": 32,
   "metadata": {},
   "outputs": [],
   "source": [
    "# combining all government job together\n",
    "govt_class = adult[(adult['workclass'] == \"Federal-gov\") + (adult['workclass'] == \"Local-gov\") + (adult['workclass'] == \"State-gov\")].index"
   ]
  },
  {
   "cell_type": "code",
   "execution_count": 33,
   "metadata": {},
   "outputs": [],
   "source": [
    "#adult.loc[govt_class]"
   ]
  },
  {
   "cell_type": "code",
   "execution_count": 34,
   "metadata": {},
   "outputs": [],
   "source": [
    "# naming as \"Govt_class\"\n",
    "adult.loc[govt_class, 'workclass'] = str('Govt_class')"
   ]
  },
  {
   "cell_type": "code",
   "execution_count": 35,
   "metadata": {},
   "outputs": [
    {
     "data": {
      "text/plain": [
       "Private             22696\n",
       "Govt_class           4351\n",
       "Self-emp-not-inc     2541\n",
       "Unknown              1836\n",
       "Self-emp-inc         1116\n",
       "Without-pay            14\n",
       "Never-worked            7\n",
       "Name: workclass, dtype: int64"
      ]
     },
     "execution_count": 35,
     "metadata": {},
     "output_type": "execute_result"
    }
   ],
   "source": [
    "# checking out values\n",
    "adult['workclass'].value_counts()"
   ]
  },
  {
   "cell_type": "code",
   "execution_count": 36,
   "metadata": {},
   "outputs": [],
   "source": [
    "# combining all government job together\n",
    "self_employed = adult[(adult['workclass'] == \"Self-emp-not-inc\") + (adult['workclass'] == \"Self-emp-inc\")].index"
   ]
  },
  {
   "cell_type": "code",
   "execution_count": 37,
   "metadata": {},
   "outputs": [],
   "source": [
    "#adult.loc[self_employed]"
   ]
  },
  {
   "cell_type": "code",
   "execution_count": 38,
   "metadata": {},
   "outputs": [],
   "source": [
    "# naming the label\n",
    "adult.loc[self_employed, 'workclass'] = str('Self_Employed')"
   ]
  },
  {
   "cell_type": "code",
   "execution_count": 39,
   "metadata": {},
   "outputs": [],
   "source": [
    "# combining all uninformative groups together\n",
    "Other_class = adult[(adult['workclass'] == \"Without-pay\") + (adult['workclass'] == \"Never-worked\")+(adult['workclass'] == \"Unknown\")].index"
   ]
  },
  {
   "cell_type": "code",
   "execution_count": 40,
   "metadata": {},
   "outputs": [],
   "source": [
    "# naming the label\n",
    "adult.loc[Other_class, 'workclass'] = str('Other_Class')"
   ]
  },
  {
   "cell_type": "code",
   "execution_count": 41,
   "metadata": {},
   "outputs": [
    {
     "data": {
      "text/plain": [
       "Private          22696\n",
       "Govt_class        4351\n",
       "Self_Employed     3657\n",
       "Other_Class       1857\n",
       "Name: workclass, dtype: int64"
      ]
     },
     "execution_count": 41,
     "metadata": {},
     "output_type": "execute_result"
    }
   ],
   "source": [
    "# now, we are left with four categories\n",
    "adult['workclass'].value_counts()"
   ]
  },
  {
   "cell_type": "code",
   "execution_count": 42,
   "metadata": {},
   "outputs": [
    {
     "data": {
      "text/plain": [
       "<matplotlib.axes._subplots.AxesSubplot at 0x2fa8d8484a8>"
      ]
     },
     "execution_count": 42,
     "metadata": {},
     "output_type": "execute_result"
    },
    {
     "data": {
      "image/png": "[encoded data removed]",
      "text/plain": [
       "<Figure size 432x288 with 1 Axes>"
      ]
     },
     "metadata": {
      "needs_background": "light"
     },
     "output_type": "display_data"
    }
   ],
   "source": [
    "# let's check relationship between two categories of income and four categories of workclass\n",
    "sns.countplot(y='workclass', hue='income', data=adult,)"
   ]
  },
  {
   "cell_type": "markdown",
   "metadata": {},
   "source": [
    "As we observe, maximum observations are in 'private'workclass with  highly imbalanced income group."
   ]
  },
  {
   "cell_type": "markdown",
   "metadata": {},
   "source": [
    "Let's check occupation variable"
   ]
  },
  {
   "cell_type": "code",
   "execution_count": 43,
   "metadata": {},
   "outputs": [
    {
     "data": {
      "text/plain": [
       " Prof-specialty       4140\n",
       " Craft-repair         4099\n",
       " Exec-managerial      4066\n",
       " Adm-clerical         3770\n",
       " Sales                3650\n",
       " Other-service        3295\n",
       " Machine-op-inspct    2002\n",
       " ?                    1843\n",
       " Transport-moving     1597\n",
       " Handlers-cleaners    1370\n",
       " Farming-fishing       994\n",
       " Tech-support          928\n",
       " Protective-serv       649\n",
       " Priv-house-serv       149\n",
       " Armed-Forces            9\n",
       "Name: occupation, dtype: int64"
      ]
     },
     "execution_count": 43,
     "metadata": {},
     "output_type": "execute_result"
    }
   ],
   "source": [
    "# checking values\n",
    "adult['occupation'].value_counts()"
   ]
  },
  {
   "cell_type": "markdown",
   "metadata": {},
   "source": [
    "12.7% are professional specialist, 6% values are unknown, evenly distributed except armed forces (0.03%) and private house servant (0.5%)"
   ]
  },
  {
   "cell_type": "code",
   "execution_count": 44,
   "metadata": {},
   "outputs": [],
   "source": [
    "# stripping the ' ' from the label\n",
    "adult['occupation'] = adult['occupation'].str.strip()"
   ]
  },
  {
   "cell_type": "code",
   "execution_count": 45,
   "metadata": {},
   "outputs": [],
   "source": [
    "occupation_missing_ind = adult[adult['occupation'] == \"?\"].index\n",
    "#adult.loc[occupation_missing_ind]"
   ]
  },
  {
   "cell_type": "code",
   "execution_count": 46,
   "metadata": {},
   "outputs": [],
   "source": [
    "# renaming \"Unknown\"\n",
    "adult.loc[occupation_missing_ind, 'occupation'] = str('Unknown')"
   ]
  },
  {
   "cell_type": "code",
   "execution_count": 47,
   "metadata": {},
   "outputs": [],
   "source": [
    "# combining all administrative/managerial/executive/professional groups together\n",
    "admin_jobs = adult[(adult['occupation'] == \"Exec-managerial\") + (adult['occupation'] == \"Adm-clerical\") +  (adult['occupation'] == \"Prof-specialty\")+ (adult['occupation'] == \"Sales\")].index"
   ]
  },
  {
   "cell_type": "code",
   "execution_count": 48,
   "metadata": {},
   "outputs": [],
   "source": [
    "# naming \"Admin\"\n",
    "adult.loc[admin_jobs, 'occupation'] = str('Admin')"
   ]
  },
  {
   "cell_type": "code",
   "execution_count": 49,
   "metadata": {},
   "outputs": [],
   "source": [
    "# combining all different-sector profession together\n",
    "tough_jobs = adult[(adult['occupation'] == \"Craft-repair\") + (adult['occupation'] == \"Machine-op-inspct\")+ (adult['occupation'] == \"Transport-moving\")+(adult['occupation'] == \"Handlers-cleaners\")+(adult['occupation'] == \"Farming-fishing\")].index"
   ]
  },
  {
   "cell_type": "code",
   "execution_count": 50,
   "metadata": {},
   "outputs": [],
   "source": [
    "# naming \"Tough_jobs\"\n",
    "adult.loc[tough_jobs, 'occupation'] = str('Tough_jobs')"
   ]
  },
  {
   "cell_type": "code",
   "execution_count": 51,
   "metadata": {},
   "outputs": [],
   "source": [
    "# combining all different-sector profession together\n",
    "services = adult[(adult['occupation'] == \"Other-service\") + (adult['occupation'] == \"Tech-support\")+ (adult['occupation'] == \"Protective-serv\")+(adult['occupation'] == \"Priv-house-serv\")+(adult['occupation'] == \"Armed-Forces\")].index"
   ]
  },
  {
   "cell_type": "code",
   "execution_count": 52,
   "metadata": {},
   "outputs": [],
   "source": [
    "# naming \"Services\"\n",
    "adult.loc[services, 'occupation'] = str('Services')"
   ]
  },
  {
   "cell_type": "code",
   "execution_count": 53,
   "metadata": {},
   "outputs": [
    {
     "data": {
      "text/plain": [
       "Admin         15626\n",
       "Tough_jobs    10062\n",
       "Services       5030\n",
       "Unknown        1843\n",
       "Name: occupation, dtype: int64"
      ]
     },
     "execution_count": 53,
     "metadata": {},
     "output_type": "execute_result"
    }
   ],
   "source": [
    "# finally, categories of occupation\n",
    "adult['occupation'].value_counts()"
   ]
  },
  {
   "cell_type": "markdown",
   "metadata": {},
   "source": [
    "So, we are left with four categories of occupation."
   ]
  },
  {
   "cell_type": "code",
   "execution_count": 54,
   "metadata": {},
   "outputs": [
    {
     "data": {
      "text/plain": [
       "<matplotlib.axes._subplots.AxesSubplot at 0x2fa8d6c0cf8>"
      ]
     },
     "execution_count": 54,
     "metadata": {},
     "output_type": "execute_result"
    },
    {
     "data": {
      "image/png": "[encoded data removed]",
      "text/plain": [
       "<Figure size 432x288 with 1 Axes>"
      ]
     },
     "metadata": {
      "needs_background": "light"
     },
     "output_type": "display_data"
    }
   ],
   "source": [
    "# let's check relationship between two categories of income and four categories of occupation\n",
    "sns.countplot(x='occupation', hue='income', data=adult,) "
   ]
  },
  {
   "cell_type": "markdown",
   "metadata": {},
   "source": [
    "As we see, Admin occupation has highest number of observations with nearly half of them are having income over >50k group. On the contrary, Tough jobs has quite an imbalanced income groups."
   ]
  },
  {
   "cell_type": "code",
   "execution_count": 55,
   "metadata": {},
   "outputs": [
    {
     "data": {
      "text/plain": [
       " Married-civ-spouse       14976\n",
       " Never-married            10683\n",
       " Divorced                  4443\n",
       " Separated                 1025\n",
       " Widowed                    993\n",
       " Married-spouse-absent      418\n",
       " Married-AF-spouse           23\n",
       "Name: marital_status, dtype: int64"
      ]
     },
     "execution_count": 55,
     "metadata": {},
     "output_type": "execute_result"
    }
   ],
   "source": [
    "# let's check categorical variable - 'marital status'\n",
    "adult['marital_status'].value_counts()"
   ]
  },
  {
   "cell_type": "markdown",
   "metadata": {},
   "source": [
    "7 categories to indicate the marital status of 35162 observations.\n",
    "46% are married, 33% are never married, 14% are divorced. Looking at the categories, married can be grouped into 1 category."
   ]
  },
  {
   "cell_type": "code",
   "execution_count": 56,
   "metadata": {},
   "outputs": [],
   "source": [
    "# stripping the ' ' from the label\n",
    "adult['marital_status'] = adult['marital_status'].str.strip()"
   ]
  },
  {
   "cell_type": "code",
   "execution_count": 57,
   "metadata": {},
   "outputs": [],
   "source": [
    "# combining all married groups together\n",
    "married = adult[(adult['marital_status'] == \"Married-civ-spouse\") + (adult['marital_status'] == \"Married-spouse-absent\") +  (adult['marital_status'] == \"Married-AF-spouse\")].index"
   ]
  },
  {
   "cell_type": "code",
   "execution_count": 58,
   "metadata": {},
   "outputs": [],
   "source": [
    "# naming \"Admin\"\n",
    "adult.loc[married, 'marital_status'] = str('Married')"
   ]
  },
  {
   "cell_type": "code",
   "execution_count": 59,
   "metadata": {},
   "outputs": [
    {
     "data": {
      "text/plain": [
       "<matplotlib.axes._subplots.AxesSubplot at 0x2fa8da28080>"
      ]
     },
     "execution_count": 59,
     "metadata": {},
     "output_type": "execute_result"
    },
    {
     "data": {
      "image/png": "[encoded data removed]",
      "text/plain": [
       "<Figure size 432x288 with 1 Axes>"
      ]
     },
     "metadata": {
      "needs_background": "light"
     },
     "output_type": "display_data"
    }
   ],
   "source": [
    "# let's check relationship between two categories of income and four categories of occupation\n",
    "sns.countplot(x='marital_status', hue='income', data=adult,) "
   ]
  },
  {
   "cell_type": "markdown",
   "metadata": {},
   "source": [
    "Finally, only 5 categories are left and above plot is telling that nearly half of married people are making over 50k USD whereas other categories are showing just the opposite."
   ]
  },
  {
   "cell_type": "code",
   "execution_count": 60,
   "metadata": {},
   "outputs": [],
   "source": [
    "# stripping leading space from labels\n",
    "adult['native_country'] =adult['native_country'].str.strip()"
   ]
  },
  {
   "cell_type": "code",
   "execution_count": 61,
   "metadata": {},
   "outputs": [
    {
     "data": {
      "text/plain": [
       "United-States                 29170\n",
       "Mexico                          643\n",
       "?                               583\n",
       "Philippines                     198\n",
       "Germany                         137\n",
       "Canada                          121\n",
       "Puerto-Rico                     114\n",
       "El-Salvador                     106\n",
       "India                           100\n",
       "Cuba                             95\n",
       "England                          90\n",
       "Jamaica                          81\n",
       "South                            80\n",
       "China                            75\n",
       "Italy                            73\n",
       "Dominican-Republic               70\n",
       "Vietnam                          67\n",
       "Guatemala                        64\n",
       "Japan                            62\n",
       "Poland                           60\n",
       "Columbia                         59\n",
       "Taiwan                           51\n",
       "Haiti                            44\n",
       "Iran                             43\n",
       "Portugal                         37\n",
       "Nicaragua                        34\n",
       "Peru                             31\n",
       "France                           29\n",
       "Greece                           29\n",
       "Ecuador                          28\n",
       "Ireland                          24\n",
       "Hong                             20\n",
       "Cambodia                         19\n",
       "Trinadad&Tobago                  19\n",
       "Laos                             18\n",
       "Thailand                         18\n",
       "Yugoslavia                       16\n",
       "Outlying-US(Guam-USVI-etc)       14\n",
       "Hungary                          13\n",
       "Honduras                         13\n",
       "Scotland                         12\n",
       "Holand-Netherlands                1\n",
       "Name: native_country, dtype: int64"
      ]
     },
     "execution_count": 61,
     "metadata": {},
     "output_type": "execute_result"
    }
   ],
   "source": [
    "# check out the values\n",
    "adult['native_country'].value_counts()"
   ]
  },
  {
   "cell_type": "markdown",
   "metadata": {},
   "source": [
    "Altogether, 42 categories, 90% are from United States,1.97% are from Mexico whereas 1.79% values are unknown. Let's convert \"?\" to Unknown.\n"
   ]
  },
  {
   "cell_type": "code",
   "execution_count": 62,
   "metadata": {},
   "outputs": [],
   "source": [
    "ntc_missing_ind = adult[adult['native_country'] == \"?\"].index\n",
    "#adult.loc[ntc_missing_ind]"
   ]
  },
  {
   "cell_type": "code",
   "execution_count": 63,
   "metadata": {},
   "outputs": [],
   "source": [
    "adult.loc[ntc_missing_ind, 'native_country'] = str('Unknown')"
   ]
  },
  {
   "cell_type": "code",
   "execution_count": 64,
   "metadata": {},
   "outputs": [
    {
     "data": {
      "text/plain": [
       "<matplotlib.axes._subplots.AxesSubplot at 0x2fa8ebe8860>"
      ]
     },
     "execution_count": 64,
     "metadata": {},
     "output_type": "execute_result"
    },
    {
     "data": {
      "image/png": "[encoded data removed]",
      "text/plain": [
       "<Figure size 432x288 with 1 Axes>"
      ]
     },
     "metadata": {
      "needs_background": "light"
     },
     "output_type": "display_data"
    }
   ],
   "source": [
    "# let's check relationship between two categories of income and four categories of occupation\n",
    "sns.countplot(x='native_country', hue='income', data=adult,) "
   ]
  },
  {
   "cell_type": "markdown",
   "metadata": {},
   "source": [
    "Native country displays high skewness as most observations are from United States. Not of very predictive nature, hence, excluding this variable from further analysis as well."
   ]
  },
  {
   "cell_type": "code",
   "execution_count": 65,
   "metadata": {},
   "outputs": [],
   "source": [
    "adult = adult.drop(['native_country'], axis=1)"
   ]
  },
  {
   "cell_type": "code",
   "execution_count": 66,
   "metadata": {},
   "outputs": [],
   "source": [
    "# stripping leading space from labels\n",
    "adult['race'] =adult['race'].str.strip()"
   ]
  },
  {
   "cell_type": "code",
   "execution_count": 67,
   "metadata": {},
   "outputs": [
    {
     "data": {
      "text/plain": [
       "White                 27816\n",
       "Black                  3124\n",
       "Asian-Pac-Islander     1039\n",
       "Amer-Indian-Eskimo      311\n",
       "Other                   271\n",
       "Name: race, dtype: int64"
      ]
     },
     "execution_count": 67,
     "metadata": {},
     "output_type": "execute_result"
    }
   ],
   "source": [
    "# race is categorical variable\n",
    "adult['race'].value_counts()\n",
    "#86% are White and 10% are Black with negligible proportions of others"
   ]
  },
  {
   "cell_type": "code",
   "execution_count": 68,
   "metadata": {},
   "outputs": [
    {
     "data": {
      "text/plain": [
       "<matplotlib.axes._subplots.AxesSubplot at 0x2fa8d5006d8>"
      ]
     },
     "execution_count": 68,
     "metadata": {},
     "output_type": "execute_result"
    },
    {
     "data": {
      "image/png": "[encoded data removed]",
      "text/plain": [
       "<Figure size 432x288 with 1 Axes>"
      ]
     },
     "metadata": {
      "needs_background": "light"
     },
     "output_type": "display_data"
    }
   ],
   "source": [
    "# let's check relationship between two categories of income and four categories of occupation\n",
    "sns.countplot(x='race', hue='income', data=adult,) "
   ]
  },
  {
   "cell_type": "markdown",
   "metadata": {},
   "source": [
    "Bar plot shows that White have high earning potentials – over 25% of the observations of these 2 races make above $50,000 annually."
   ]
  },
  {
   "cell_type": "code",
   "execution_count": 69,
   "metadata": {},
   "outputs": [
    {
     "data": {
      "text/html": [
       "<div>\n",
       "<style scoped>\n",
       "    .dataframe tbody tr th:only-of-type {\n",
       "        vertical-align: middle;\n",
       "    }\n",
       "\n",
       "    .dataframe tbody tr th {\n",
       "        vertical-align: top;\n",
       "    }\n",
       "\n",
       "    .dataframe thead th {\n",
       "        text-align: right;\n",
       "    }\n",
       "</style>\n",
       "<table border=\"1\" class=\"dataframe\">\n",
       "  <thead>\n",
       "    <tr style=\"text-align: right;\">\n",
       "      <th></th>\n",
       "      <th>income</th>\n",
       "      <th>age</th>\n",
       "      <th>workclass</th>\n",
       "      <th>education_num</th>\n",
       "      <th>marital_status</th>\n",
       "      <th>occupation</th>\n",
       "      <th>race</th>\n",
       "      <th>gender</th>\n",
       "      <th>hours_per_week</th>\n",
       "    </tr>\n",
       "  </thead>\n",
       "  <tbody>\n",
       "    <tr>\n",
       "      <th>0</th>\n",
       "      <td>&lt;=50K</td>\n",
       "      <td>39</td>\n",
       "      <td>Govt_class</td>\n",
       "      <td>13</td>\n",
       "      <td>Never-married</td>\n",
       "      <td>Admin</td>\n",
       "      <td>White</td>\n",
       "      <td>Male</td>\n",
       "      <td>40</td>\n",
       "    </tr>\n",
       "    <tr>\n",
       "      <th>1</th>\n",
       "      <td>&lt;=50K</td>\n",
       "      <td>50</td>\n",
       "      <td>Self_Employed</td>\n",
       "      <td>13</td>\n",
       "      <td>Married</td>\n",
       "      <td>Admin</td>\n",
       "      <td>White</td>\n",
       "      <td>Male</td>\n",
       "      <td>13</td>\n",
       "    </tr>\n",
       "    <tr>\n",
       "      <th>2</th>\n",
       "      <td>&lt;=50K</td>\n",
       "      <td>38</td>\n",
       "      <td>Private</td>\n",
       "      <td>9</td>\n",
       "      <td>Divorced</td>\n",
       "      <td>Tough_jobs</td>\n",
       "      <td>White</td>\n",
       "      <td>Male</td>\n",
       "      <td>40</td>\n",
       "    </tr>\n",
       "  </tbody>\n",
       "</table>\n",
       "</div>"
      ],
      "text/plain": [
       "   income  age      workclass  education_num marital_status  occupation  \\\n",
       "0   <=50K   39     Govt_class             13  Never-married       Admin   \n",
       "1   <=50K   50  Self_Employed             13        Married       Admin   \n",
       "2   <=50K   38        Private              9       Divorced  Tough_jobs   \n",
       "\n",
       "    race gender  hours_per_week  \n",
       "0  White   Male              40  \n",
       "1  White   Male              13  \n",
       "2  White   Male              40  "
      ]
     },
     "execution_count": 69,
     "metadata": {},
     "output_type": "execute_result"
    }
   ],
   "source": [
    "adult[:3]"
   ]
  },
  {
   "cell_type": "code",
   "execution_count": 87,
   "metadata": {},
   "outputs": [],
   "source": [
    "\n",
    "# All required packages\n",
    "%matplotlib inline \n",
    "import numpy as np\n",
    "import matplotlib.pyplot as plt\n",
    "import pandas as pd\n",
    "from sklearn import preprocessing\n",
    "from sklearn.model_selection import train_test_split\n",
    "from sklearn.metrics import accuracy_score, precision_score, recall_score, f1_score\n",
    "from sklearn.metrics import roc_curve, auc, confusion_matrix, classification_report\n",
    "from sklearn import tree \n",
    "from sklearn.ensemble import RandomForestClassifier\n",
    "from sklearn.model_selection import train_test_split\n",
    "import scipy.stats as ss\n",
    "from sklearn.neighbors import KNeighborsClassifier\n",
    "from sklearn.model_selection import learning_curve, GridSearchCV\n",
    "import time \n",
    "from operator import itemgetter\n",
    "import os\n",
    "from sklearn.model_selection import GridSearchCV\n",
    "from sklearn.tree import DecisionTreeClassifier, export_graphviz\n",
    "from sklearn import metrics"
   ]
  },
  {
   "cell_type": "code",
   "execution_count": 88,
   "metadata": {},
   "outputs": [
    {
     "data": {
      "text/html": [
       "<div>\n",
       "<style scoped>\n",
       "    .dataframe tbody tr th:only-of-type {\n",
       "        vertical-align: middle;\n",
       "    }\n",
       "\n",
       "    .dataframe tbody tr th {\n",
       "        vertical-align: top;\n",
       "    }\n",
       "\n",
       "    .dataframe thead th {\n",
       "        text-align: right;\n",
       "    }\n",
       "</style>\n",
       "<table border=\"1\" class=\"dataframe\">\n",
       "  <thead>\n",
       "    <tr style=\"text-align: right;\">\n",
       "      <th></th>\n",
       "      <th>income</th>\n",
       "      <th>age</th>\n",
       "      <th>workclass</th>\n",
       "      <th>education_num</th>\n",
       "      <th>marital_status</th>\n",
       "      <th>occupation</th>\n",
       "      <th>race</th>\n",
       "      <th>gender</th>\n",
       "      <th>hours_per_week</th>\n",
       "    </tr>\n",
       "  </thead>\n",
       "  <tbody>\n",
       "    <tr>\n",
       "      <th>0</th>\n",
       "      <td>0</td>\n",
       "      <td>39</td>\n",
       "      <td>Govt_class</td>\n",
       "      <td>13</td>\n",
       "      <td>Never-married</td>\n",
       "      <td>Admin</td>\n",
       "      <td>White</td>\n",
       "      <td>Male</td>\n",
       "      <td>40</td>\n",
       "    </tr>\n",
       "    <tr>\n",
       "      <th>1</th>\n",
       "      <td>0</td>\n",
       "      <td>50</td>\n",
       "      <td>Self_Employed</td>\n",
       "      <td>13</td>\n",
       "      <td>Married</td>\n",
       "      <td>Admin</td>\n",
       "      <td>White</td>\n",
       "      <td>Male</td>\n",
       "      <td>13</td>\n",
       "    </tr>\n",
       "    <tr>\n",
       "      <th>2</th>\n",
       "      <td>0</td>\n",
       "      <td>38</td>\n",
       "      <td>Private</td>\n",
       "      <td>9</td>\n",
       "      <td>Divorced</td>\n",
       "      <td>Tough_jobs</td>\n",
       "      <td>White</td>\n",
       "      <td>Male</td>\n",
       "      <td>40</td>\n",
       "    </tr>\n",
       "    <tr>\n",
       "      <th>3</th>\n",
       "      <td>0</td>\n",
       "      <td>53</td>\n",
       "      <td>Private</td>\n",
       "      <td>7</td>\n",
       "      <td>Married</td>\n",
       "      <td>Tough_jobs</td>\n",
       "      <td>Black</td>\n",
       "      <td>Male</td>\n",
       "      <td>40</td>\n",
       "    </tr>\n",
       "    <tr>\n",
       "      <th>4</th>\n",
       "      <td>0</td>\n",
       "      <td>28</td>\n",
       "      <td>Private</td>\n",
       "      <td>13</td>\n",
       "      <td>Married</td>\n",
       "      <td>Admin</td>\n",
       "      <td>Black</td>\n",
       "      <td>Female</td>\n",
       "      <td>40</td>\n",
       "    </tr>\n",
       "  </tbody>\n",
       "</table>\n",
       "</div>"
      ],
      "text/plain": [
       "   income  age      workclass  education_num marital_status  occupation  \\\n",
       "0       0   39     Govt_class             13  Never-married       Admin   \n",
       "1       0   50  Self_Employed             13        Married       Admin   \n",
       "2       0   38        Private              9       Divorced  Tough_jobs   \n",
       "3       0   53        Private              7        Married  Tough_jobs   \n",
       "4       0   28        Private             13        Married       Admin   \n",
       "\n",
       "    race   gender  hours_per_week  \n",
       "0  White     Male              40  \n",
       "1  White     Male              13  \n",
       "2  White     Male              40  \n",
       "3  Black     Male              40  \n",
       "4  Black   Female              40  "
      ]
     },
     "execution_count": 88,
     "metadata": {},
     "output_type": "execute_result"
    }
   ],
   "source": [
    "# let's check final look of the data frame\n",
    "df = adult\n",
    "df.head()\n",
    "# So, we have 8 independent variables "
   ]
  },
  {
   "cell_type": "code",
   "execution_count": 89,
   "metadata": {},
   "outputs": [],
   "source": [
    "# binarize target variable\n",
    "df['income'] = targetSeries\n",
    "#label_binarize(df['income'], classes=['<=50K', '>50K'])\n",
    "from sklearn import preprocessing\n",
    "le_dep = preprocessing.LabelEncoder()\n",
    "#to convert into numbers\n",
    "df['income'] = le_dep.fit_transform(df['income'])"
   ]
  },
  {
   "cell_type": "code",
   "execution_count": 90,
   "metadata": {},
   "outputs": [],
   "source": [
    "# perform data transformation\n",
    "for col in df.columns[1:]:\n",
    "\tattName = col\n",
    "\tdType = df[col].dtype\n",
    "\tmissing = pd.isnull(df[col]).any()\n",
    "\tuniqueCount = len(df[attName].value_counts(normalize=False))\n",
    "\t# discretize (create dummies)\n",
    "\tif dType == object:\n",
    "\t\tdf = pd.concat([df, pd.get_dummies(df[col], prefix=col)], axis=1)\n",
    "\t\tdel df[attName]"
   ]
  },
  {
   "cell_type": "code",
   "execution_count": 91,
   "metadata": {},
   "outputs": [
    {
     "data": {
      "text/html": [
       "<div>\n",
       "<style scoped>\n",
       "    .dataframe tbody tr th:only-of-type {\n",
       "        vertical-align: middle;\n",
       "    }\n",
       "\n",
       "    .dataframe tbody tr th {\n",
       "        vertical-align: top;\n",
       "    }\n",
       "\n",
       "    .dataframe thead th {\n",
       "        text-align: right;\n",
       "    }\n",
       "</style>\n",
       "<table border=\"1\" class=\"dataframe\">\n",
       "  <thead>\n",
       "    <tr style=\"text-align: right;\">\n",
       "      <th></th>\n",
       "      <th>income</th>\n",
       "      <th>age</th>\n",
       "      <th>education_num</th>\n",
       "      <th>hours_per_week</th>\n",
       "      <th>workclass_Govt_class</th>\n",
       "      <th>workclass_Other_Class</th>\n",
       "      <th>workclass_Private</th>\n",
       "      <th>workclass_Self_Employed</th>\n",
       "      <th>marital_status_Divorced</th>\n",
       "      <th>marital_status_Married</th>\n",
       "      <th>...</th>\n",
       "      <th>occupation_Services</th>\n",
       "      <th>occupation_Tough_jobs</th>\n",
       "      <th>occupation_Unknown</th>\n",
       "      <th>race_Amer-Indian-Eskimo</th>\n",
       "      <th>race_Asian-Pac-Islander</th>\n",
       "      <th>race_Black</th>\n",
       "      <th>race_Other</th>\n",
       "      <th>race_White</th>\n",
       "      <th>gender_ Female</th>\n",
       "      <th>gender_ Male</th>\n",
       "    </tr>\n",
       "  </thead>\n",
       "  <tbody>\n",
       "    <tr>\n",
       "      <th>0</th>\n",
       "      <td>0</td>\n",
       "      <td>39</td>\n",
       "      <td>13</td>\n",
       "      <td>40</td>\n",
       "      <td>1</td>\n",
       "      <td>0</td>\n",
       "      <td>0</td>\n",
       "      <td>0</td>\n",
       "      <td>0</td>\n",
       "      <td>0</td>\n",
       "      <td>...</td>\n",
       "      <td>0</td>\n",
       "      <td>0</td>\n",
       "      <td>0</td>\n",
       "      <td>0</td>\n",
       "      <td>0</td>\n",
       "      <td>0</td>\n",
       "      <td>0</td>\n",
       "      <td>1</td>\n",
       "      <td>0</td>\n",
       "      <td>1</td>\n",
       "    </tr>\n",
       "    <tr>\n",
       "      <th>1</th>\n",
       "      <td>0</td>\n",
       "      <td>50</td>\n",
       "      <td>13</td>\n",
       "      <td>13</td>\n",
       "      <td>0</td>\n",
       "      <td>0</td>\n",
       "      <td>0</td>\n",
       "      <td>1</td>\n",
       "      <td>0</td>\n",
       "      <td>1</td>\n",
       "      <td>...</td>\n",
       "      <td>0</td>\n",
       "      <td>0</td>\n",
       "      <td>0</td>\n",
       "      <td>0</td>\n",
       "      <td>0</td>\n",
       "      <td>0</td>\n",
       "      <td>0</td>\n",
       "      <td>1</td>\n",
       "      <td>0</td>\n",
       "      <td>1</td>\n",
       "    </tr>\n",
       "    <tr>\n",
       "      <th>2</th>\n",
       "      <td>0</td>\n",
       "      <td>38</td>\n",
       "      <td>9</td>\n",
       "      <td>40</td>\n",
       "      <td>0</td>\n",
       "      <td>0</td>\n",
       "      <td>1</td>\n",
       "      <td>0</td>\n",
       "      <td>1</td>\n",
       "      <td>0</td>\n",
       "      <td>...</td>\n",
       "      <td>0</td>\n",
       "      <td>1</td>\n",
       "      <td>0</td>\n",
       "      <td>0</td>\n",
       "      <td>0</td>\n",
       "      <td>0</td>\n",
       "      <td>0</td>\n",
       "      <td>1</td>\n",
       "      <td>0</td>\n",
       "      <td>1</td>\n",
       "    </tr>\n",
       "  </tbody>\n",
       "</table>\n",
       "<p>3 rows × 24 columns</p>\n",
       "</div>"
      ],
      "text/plain": [
       "   income  age  education_num  hours_per_week  workclass_Govt_class  \\\n",
       "0       0   39             13              40                     1   \n",
       "1       0   50             13              13                     0   \n",
       "2       0   38              9              40                     0   \n",
       "\n",
       "   workclass_Other_Class  workclass_Private  workclass_Self_Employed  \\\n",
       "0                      0                  0                        0   \n",
       "1                      0                  0                        1   \n",
       "2                      0                  1                        0   \n",
       "\n",
       "   marital_status_Divorced  marital_status_Married  ...  occupation_Services  \\\n",
       "0                        0                       0  ...                    0   \n",
       "1                        0                       1  ...                    0   \n",
       "2                        1                       0  ...                    0   \n",
       "\n",
       "   occupation_Tough_jobs  occupation_Unknown  race_Amer-Indian-Eskimo  \\\n",
       "0                      0                   0                        0   \n",
       "1                      0                   0                        0   \n",
       "2                      1                   0                        0   \n",
       "\n",
       "   race_Asian-Pac-Islander  race_Black  race_Other  race_White  \\\n",
       "0                        0           0           0           1   \n",
       "1                        0           0           0           1   \n",
       "2                        0           0           0           1   \n",
       "\n",
       "   gender_ Female  gender_ Male  \n",
       "0               0             1  \n",
       "1               0             1  \n",
       "2               0             1  \n",
       "\n",
       "[3 rows x 24 columns]"
      ]
     },
     "execution_count": 91,
     "metadata": {},
     "output_type": "execute_result"
    }
   ],
   "source": [
    "# first 3 rows\n",
    "df[:3]"
   ]
  },
  {
   "cell_type": "code",
   "execution_count": 92,
   "metadata": {},
   "outputs": [],
   "source": [
    "# define normal distribution fit function\n",
    "def fit_dist(dfColumn):\n",
    "# convert series into numpy array\n",
    "    ndArray = np.array(dfColumn)\n",
    "    # fit our data set against normal probability distribution\n",
    "    parameters = eval(\"ss.norm.fit(ndArray)\")\n",
    "    \n",
    "    # applying the Kolmogorov-Smirnof one sided test\n",
    "    D,p = ss.kstest(ndArray, \"norm\",args=parameters)\n",
    "    \n",
    "    if D < 0.02 and p > 0.05:\n",
    "                     \n",
    "        return True\n",
    "      \n",
    "    else:\n",
    "        return False\n",
    "        \n",
    "# \t\treturn False  \n",
    "    \n",
    "# impute missing values\n",
    "for col in df.columns[1:]:\n",
    "\tattName = col\n",
    "\tdType = df[col].dtype\n",
    "\tmissing = pd.isnull(df[col]).any()\n",
    "\tuniqueCount = len(df[attName].value_counts(normalize=False))\n",
    "\tdistCheck = fit_dist(df[attName])\n",
    "\tcol_mean = df[attName].dropna().mean()\n",
    "\tcol_median = df[attName].dropna().median()\n",
    "\tcol_mode = df[attName].dropna().mode()\n",
    "\tif (distCheck == True and missing == True and uniqueCount > 2):\n",
    "\t\tdf[attName] = df[attName].fillna(col_mean)\n",
    "\tif (distCheck == False and missing == True and uniqueCount > 2):\n",
    "\t\tdf[attName] = df[attName].fillna(col_median)\n",
    "\tif (distCheck == False and missing == True and uniqueCount <= 2):\n",
    "\t\tdf[attName] = df[attName].fillna(col_mode)"
   ]
  },
  {
   "cell_type": "code",
   "execution_count": 93,
   "metadata": {},
   "outputs": [
    {
     "data": {
      "text/html": [
       "<div>\n",
       "<style scoped>\n",
       "    .dataframe tbody tr th:only-of-type {\n",
       "        vertical-align: middle;\n",
       "    }\n",
       "\n",
       "    .dataframe tbody tr th {\n",
       "        vertical-align: top;\n",
       "    }\n",
       "\n",
       "    .dataframe thead th {\n",
       "        text-align: right;\n",
       "    }\n",
       "</style>\n",
       "<table border=\"1\" class=\"dataframe\">\n",
       "  <thead>\n",
       "    <tr style=\"text-align: right;\">\n",
       "      <th></th>\n",
       "      <th>income</th>\n",
       "      <th>age</th>\n",
       "      <th>education_num</th>\n",
       "      <th>hours_per_week</th>\n",
       "      <th>workclass_Govt_class</th>\n",
       "      <th>workclass_Other_Class</th>\n",
       "      <th>workclass_Private</th>\n",
       "      <th>workclass_Self_Employed</th>\n",
       "      <th>marital_status_Divorced</th>\n",
       "      <th>marital_status_Married</th>\n",
       "      <th>...</th>\n",
       "      <th>occupation_Services</th>\n",
       "      <th>occupation_Tough_jobs</th>\n",
       "      <th>occupation_Unknown</th>\n",
       "      <th>race_Amer-Indian-Eskimo</th>\n",
       "      <th>race_Asian-Pac-Islander</th>\n",
       "      <th>race_Black</th>\n",
       "      <th>race_Other</th>\n",
       "      <th>race_White</th>\n",
       "      <th>gender_ Female</th>\n",
       "      <th>gender_ Male</th>\n",
       "    </tr>\n",
       "  </thead>\n",
       "  <tbody>\n",
       "    <tr>\n",
       "      <th>0</th>\n",
       "      <td>0</td>\n",
       "      <td>39</td>\n",
       "      <td>13</td>\n",
       "      <td>40</td>\n",
       "      <td>1</td>\n",
       "      <td>0</td>\n",
       "      <td>0</td>\n",
       "      <td>0</td>\n",
       "      <td>0</td>\n",
       "      <td>0</td>\n",
       "      <td>...</td>\n",
       "      <td>0</td>\n",
       "      <td>0</td>\n",
       "      <td>0</td>\n",
       "      <td>0</td>\n",
       "      <td>0</td>\n",
       "      <td>0</td>\n",
       "      <td>0</td>\n",
       "      <td>1</td>\n",
       "      <td>0</td>\n",
       "      <td>1</td>\n",
       "    </tr>\n",
       "    <tr>\n",
       "      <th>1</th>\n",
       "      <td>0</td>\n",
       "      <td>50</td>\n",
       "      <td>13</td>\n",
       "      <td>13</td>\n",
       "      <td>0</td>\n",
       "      <td>0</td>\n",
       "      <td>0</td>\n",
       "      <td>1</td>\n",
       "      <td>0</td>\n",
       "      <td>1</td>\n",
       "      <td>...</td>\n",
       "      <td>0</td>\n",
       "      <td>0</td>\n",
       "      <td>0</td>\n",
       "      <td>0</td>\n",
       "      <td>0</td>\n",
       "      <td>0</td>\n",
       "      <td>0</td>\n",
       "      <td>1</td>\n",
       "      <td>0</td>\n",
       "      <td>1</td>\n",
       "    </tr>\n",
       "    <tr>\n",
       "      <th>2</th>\n",
       "      <td>0</td>\n",
       "      <td>38</td>\n",
       "      <td>9</td>\n",
       "      <td>40</td>\n",
       "      <td>0</td>\n",
       "      <td>0</td>\n",
       "      <td>1</td>\n",
       "      <td>0</td>\n",
       "      <td>1</td>\n",
       "      <td>0</td>\n",
       "      <td>...</td>\n",
       "      <td>0</td>\n",
       "      <td>1</td>\n",
       "      <td>0</td>\n",
       "      <td>0</td>\n",
       "      <td>0</td>\n",
       "      <td>0</td>\n",
       "      <td>0</td>\n",
       "      <td>1</td>\n",
       "      <td>0</td>\n",
       "      <td>1</td>\n",
       "    </tr>\n",
       "    <tr>\n",
       "      <th>3</th>\n",
       "      <td>0</td>\n",
       "      <td>53</td>\n",
       "      <td>7</td>\n",
       "      <td>40</td>\n",
       "      <td>0</td>\n",
       "      <td>0</td>\n",
       "      <td>1</td>\n",
       "      <td>0</td>\n",
       "      <td>0</td>\n",
       "      <td>1</td>\n",
       "      <td>...</td>\n",
       "      <td>0</td>\n",
       "      <td>1</td>\n",
       "      <td>0</td>\n",
       "      <td>0</td>\n",
       "      <td>0</td>\n",
       "      <td>1</td>\n",
       "      <td>0</td>\n",
       "      <td>0</td>\n",
       "      <td>0</td>\n",
       "      <td>1</td>\n",
       "    </tr>\n",
       "    <tr>\n",
       "      <th>4</th>\n",
       "      <td>0</td>\n",
       "      <td>28</td>\n",
       "      <td>13</td>\n",
       "      <td>40</td>\n",
       "      <td>0</td>\n",
       "      <td>0</td>\n",
       "      <td>1</td>\n",
       "      <td>0</td>\n",
       "      <td>0</td>\n",
       "      <td>1</td>\n",
       "      <td>...</td>\n",
       "      <td>0</td>\n",
       "      <td>0</td>\n",
       "      <td>0</td>\n",
       "      <td>0</td>\n",
       "      <td>0</td>\n",
       "      <td>1</td>\n",
       "      <td>0</td>\n",
       "      <td>0</td>\n",
       "      <td>1</td>\n",
       "      <td>0</td>\n",
       "    </tr>\n",
       "  </tbody>\n",
       "</table>\n",
       "<p>5 rows × 24 columns</p>\n",
       "</div>"
      ],
      "text/plain": [
       "   income  age  education_num  hours_per_week  workclass_Govt_class  \\\n",
       "0       0   39             13              40                     1   \n",
       "1       0   50             13              13                     0   \n",
       "2       0   38              9              40                     0   \n",
       "3       0   53              7              40                     0   \n",
       "4       0   28             13              40                     0   \n",
       "\n",
       "   workclass_Other_Class  workclass_Private  workclass_Self_Employed  \\\n",
       "0                      0                  0                        0   \n",
       "1                      0                  0                        1   \n",
       "2                      0                  1                        0   \n",
       "3                      0                  1                        0   \n",
       "4                      0                  1                        0   \n",
       "\n",
       "   marital_status_Divorced  marital_status_Married  ...  occupation_Services  \\\n",
       "0                        0                       0  ...                    0   \n",
       "1                        0                       1  ...                    0   \n",
       "2                        1                       0  ...                    0   \n",
       "3                        0                       1  ...                    0   \n",
       "4                        0                       1  ...                    0   \n",
       "\n",
       "   occupation_Tough_jobs  occupation_Unknown  race_Amer-Indian-Eskimo  \\\n",
       "0                      0                   0                        0   \n",
       "1                      0                   0                        0   \n",
       "2                      1                   0                        0   \n",
       "3                      1                   0                        0   \n",
       "4                      0                   0                        0   \n",
       "\n",
       "   race_Asian-Pac-Islander  race_Black  race_Other  race_White  \\\n",
       "0                        0           0           0           1   \n",
       "1                        0           0           0           1   \n",
       "2                        0           0           0           1   \n",
       "3                        0           1           0           0   \n",
       "4                        0           1           0           0   \n",
       "\n",
       "   gender_ Female  gender_ Male  \n",
       "0               0             1  \n",
       "1               0             1  \n",
       "2               0             1  \n",
       "3               0             1  \n",
       "4               1             0  \n",
       "\n",
       "[5 rows x 24 columns]"
      ]
     },
     "execution_count": 93,
     "metadata": {},
     "output_type": "execute_result"
    }
   ],
   "source": [
    "#df.shape #32561, 24\n",
    "df.head()"
   ]
  },
  {
   "cell_type": "code",
   "execution_count": 94,
   "metadata": {},
   "outputs": [],
   "source": [
    "# split dataset into testing and training\n",
    "income_train, income_test, income_train_target, income_test_target = train_test_split(\n",
    "    df.ix[:,1:].values, df.ix[:,0].values, test_size=0.30, random_state=4)"
   ]
  },
  {
   "cell_type": "code",
   "execution_count": 96,
   "metadata": {},
   "outputs": [
    {
     "name": "stdout",
     "output_type": "stream",
     "text": [
      "(22792, 23)\n",
      "(22792,)\n",
      "(9769, 23)\n",
      "(9769,)\n"
     ]
    }
   ],
   "source": [
    "# let's see the datasets' dimension\n",
    "print(income_train.shape)\n",
    "print(income_train_target.shape)\n",
    "\n",
    "print(income_test.shape)\n",
    "print(income_test_target.shape)\n"
   ]
  },
  {
   "cell_type": "markdown",
   "metadata": {},
   "source": [
    "### K-Nearest Neighbor (KNN)"
   ]
  },
  {
   "cell_type": "code",
   "execution_count": 97,
   "metadata": {},
   "outputs": [
    {
     "name": "stdout",
     "output_type": "stream",
     "text": [
      "KNeighborsClassifier(algorithm='auto', leaf_size=30, metric='minkowski',\n",
      "           metric_params=None, n_jobs=None, n_neighbors=3, p=2,\n",
      "           weights='uniform')\n",
      "[0 0 1 ... 1 0 1]\n",
      "[[6392 1009]\n",
      " [1058 1310]]\n",
      "0.7884123247005835\n",
      "                 precision    recall  f1-score   support\n",
      "\n",
      "high-earner= no       0.86      0.86      0.86      7401\n",
      "high-earner=yes       0.56      0.55      0.56      2368\n",
      "\n",
      "      micro avg       0.79      0.79      0.79      9769\n",
      "      macro avg       0.71      0.71      0.71      9769\n",
      "   weighted avg       0.79      0.79      0.79      9769\n",
      "\n"
     ]
    }
   ],
   "source": [
    "# 1st Model: k=3; metric='minkowski';weights='uniform'\n",
    "from sklearn.model_selection import cross_val_score\n",
    "from sklearn.neighbors import KNeighborsClassifier\n",
    "from sklearn import metrics\n",
    "neigh1 = KNeighborsClassifier(n_neighbors=3)\n",
    "neigh1.fit(income_train, income_train_target) \n",
    "# make predictions\n",
    "pred_Knn1 = neigh1.predict(income_test)\n",
    "# summarize the fit of the model\n",
    "print(confusion_matrix(income_test_target, pred_Knn1))\n",
    "target_names = [\"high-earner= no\", \"high-earner=yes\"]\n",
    "print(accuracy_score(income_test_target,pred_Knn1))\n",
    "print(classification_report(income_test_target, pred_Knn1, target_names=target_names))"
   ]
  },
  {
   "cell_type": "markdown",
   "metadata": {},
   "source": [
    "\n",
    "Accuracy score is 79% here in KNN model using k=3; metric='minkowski';weights='uniform'.\n",
    "\n",
    "For 'yes' (high-earner)) model achieves 56% precision and 55% recall. Precision tells us how many high-earner did our classifier predicted correctly that is 56% of observations predicted by the model were actual high-earner. On the other hand, 55% of the high-earner predicted by the model were predicted correctly,here, recall is predicted high-earner as a percentage of actual high-earner and that is 55%.\n",
    "\n",
    "For 'no' (low-earner) model achieves 86% precision and 86% recall. Precision tells us how many low-earner did our classifier predicted correctly that is 86% of the time when model predicted low-earner it was low-earner. On the other hand, recall is predicted low-earner as a percentage of actual low-earner that is 86% of the actual low-earner was predicted by the model correctly.\n",
    "\n",
    "For conclusion, model is performing okay in predicting high-earner that is 55%, whereas model is good in predicting low-earner that is 86%."
   ]
  },
  {
   "cell_type": "code",
   "execution_count": 98,
   "metadata": {},
   "outputs": [
    {
     "name": "stdout",
     "output_type": "stream",
     "text": [
      "[[6392 1009]\n",
      " [1058 1310]]\n"
     ]
    },
    {
     "data": {
      "text/plain": [
       "Text(0.5, 0, 'Predicted label')"
      ]
     },
     "execution_count": 98,
     "metadata": {},
     "output_type": "execute_result"
    },
    {
     "data": {
      "image/png": "[encoded data removed]",
      "text/plain": [
       "<Figure size 288x288 with 2 Axes>"
      ]
     },
     "metadata": {
      "needs_background": "light"
     },
     "output_type": "display_data"
    }
   ],
   "source": [
    "# display confusion matrix\n",
    "K3_cm_trial1 = confusion_matrix(income_test_target, pred_Knn1)\n",
    "print(K3_cm_trial1)\n",
    "plt.matshow(K3_cm_trial1)\n",
    "plt.title('Confusion matrix for Knn')\n",
    "plt.colorbar()\n",
    "plt.ylabel('True label')\n",
    "plt.xlabel('Predicted label')"
   ]
  },
  {
   "cell_type": "code",
   "execution_count": 99,
   "metadata": {},
   "outputs": [
    {
     "name": "stdout",
     "output_type": "stream",
     "text": [
      "Cross Validation Score for each K [0.79561404 0.79649123 0.79210526 0.78674857 0.78499342 0.7937692\n",
      " 0.78411584 0.80386134 0.79552435 0.77743635]\n"
     ]
    },
    {
     "data": {
      "text/plain": [
       "0.791065959886852"
      ]
     },
     "execution_count": 99,
     "metadata": {},
     "output_type": "execute_result"
    }
   ],
   "source": [
    "#verifing Knn=3 using metric='minkowski';weights='uniform'  with cross validation \n",
    "scores_neigh1 = cross_val_score(neigh1, income_train, income_train_target, cv=10,scoring ='accuracy')\n",
    "print(\"Cross Validation Score for each K\",scores_neigh1)\n",
    "scores_neigh1.mean()"
   ]
  },
  {
   "cell_type": "markdown",
   "metadata": {},
   "source": [
    "As we can see, during the first iteration the model achieved the testing accuracy of 80%, in the 2nd iteration 81% and so on.\n",
    "Range of testing accuracy is between 77.8%-80%.\n",
    "Next, we're averaging the testing accuracy across all ten iterations and using that as our estimate of out-of-sample accuracy. \n",
    "Our mean accuracy score is 79.10% whereas train tests split accuracy score 78.84% \n",
    "Hence, we can say that this model with cross-validation is slightly (0.26) better performing."
   ]
  },
  {
   "cell_type": "code",
   "execution_count": 100,
   "metadata": {},
   "outputs": [
    {
     "name": "stdout",
     "output_type": "stream",
     "text": [
      "                 precision    recall  f1-score   support\n",
      "\n",
      "high-earner= no       0.85      0.87      0.86      7401\n",
      "high-earner=yes       0.56      0.54      0.55      2368\n",
      "\n",
      "      micro avg       0.79      0.79      0.79      9769\n",
      "      macro avg       0.71      0.70      0.70      9769\n",
      "   weighted avg       0.78      0.79      0.78      9769\n",
      "\n",
      "[[6411  990]\n",
      " [1097 1271]]\n",
      "0.7863650322448562\n"
     ]
    }
   ],
   "source": [
    "# 2nd Model : k=3; metric='euclidean';weights='distance'\n",
    "from sklearn.neighbors import KNeighborsClassifier\n",
    "from sklearn import metrics\n",
    "neigh2 = KNeighborsClassifier(n_neighbors=3,metric = 'euclidean',weights='distance')\n",
    "neigh2.fit(income_train, income_train_target) \n",
    "# make predictions\n",
    "pred_Knn2 = neigh2.predict(income_test)\n",
    "# summarize the fit of the model\n",
    "target_names = [\"high-earner= no\", \"high-earner=yes\"]\n",
    "print(classification_report(income_test_target, pred_Knn2, target_names=target_names))\n",
    "print(confusion_matrix(income_test_target, pred_Knn2))\n",
    "print(accuracy_score(income_test_target,pred_Knn2))"
   ]
  },
  {
   "cell_type": "markdown",
   "metadata": {},
   "source": [
    "Accuracy score is around 79% here in KNN model using k=3; metric='euclidean';weights='distance'.\n",
    "\n",
    "For 'yes' (high-earner)) model achieves 56% precision and 54% recall. Precision tells us how many high-earner did our classifier predicted correctly that is 56% of observations predicted by the model were actual high-earner. On the other hand, 54% of the high-earner predicted by the model were predicted correctly,here, recall is predicted high-earner as a percentage of actual high-earner and that is 54%.\n",
    "\n",
    "For 'no' (low-earner) model achieves 85% precision and 87% recall. Precision tells us how many low-earner did our classifier predicted correctly that is 85% of the time when model predicted low-earner it was low-earner. On the other hand, recall is predicted low-earner as a percentage of actual low-earner that is 87% of the actual low-earner was predicted by the model correctly.\n",
    "\n",
    "For conclusion, model is performing okay in predicting high-earner that is 54%, whereas model is way good in predicting low-earner that is 87%. Low precision for high-earner and relatively high precision for low-earner indicates that misclassification in high-earner class is more than low-earner which is 1097/990 in this case. "
   ]
  },
  {
   "cell_type": "code",
   "execution_count": 101,
   "metadata": {},
   "outputs": [
    {
     "name": "stdout",
     "output_type": "stream",
     "text": [
      "[[6411  990]\n",
      " [1097 1271]]\n"
     ]
    },
    {
     "data": {
      "text/plain": [
       "Text(0.5, 0, 'Predicted label')"
      ]
     },
     "execution_count": 101,
     "metadata": {},
     "output_type": "execute_result"
    },
    {
     "data": {
      "image/png": "[encoded data removed]",
      "text/plain": [
       "<Figure size 288x288 with 2 Axes>"
      ]
     },
     "metadata": {
      "needs_background": "light"
     },
     "output_type": "display_data"
    }
   ],
   "source": [
    "# display confusion matrix\n",
    "K3_cm_trial2 = confusion_matrix(income_test_target, pred_Knn2)\n",
    "print(K3_cm_trial2)\n",
    "plt.matshow(K3_cm_trial2)\n",
    "plt.title('Confusion matrix for Knn')\n",
    "plt.colorbar()\n",
    "plt.ylabel('True label')\n",
    "plt.xlabel('Predicted label')"
   ]
  },
  {
   "cell_type": "code",
   "execution_count": 102,
   "metadata": {},
   "outputs": [
    {
     "name": "stdout",
     "output_type": "stream",
     "text": [
      "Cross Validation Score for each K [0.79342105 0.79122807 0.7877193  0.78806494 0.78279947 0.78850373\n",
      " 0.77972795 0.79508556 0.79420799 0.77216857]\n"
     ]
    },
    {
     "data": {
      "text/plain": [
       "0.7872926634553694"
      ]
     },
     "execution_count": 102,
     "metadata": {},
     "output_type": "execute_result"
    }
   ],
   "source": [
    "#verifing Knn=3  with cross validation \n",
    "scores_neigh2 = cross_val_score(neigh2, income_train, income_train_target, cv=10,scoring ='accuracy')\n",
    "print(\"Cross Validation Score for each K\",scores_neigh2)\n",
    "scores_neigh2.mean()"
   ]
  },
  {
   "cell_type": "markdown",
   "metadata": {},
   "source": [
    "knn using k=3; metric='euclidean';weights='distance'.\n",
    "\n",
    "Range of testing accuracy is between 77.2%-79.5%. \n",
    "Our mean accuracy score is around 78.72%. \n",
    "Previous train tests split accuracy score = 78.63%.\n",
    "So, we can say that this model with cross-validation is almost(0.09) nearly performing same as previous train tests split."
   ]
  },
  {
   "cell_type": "code",
   "execution_count": 103,
   "metadata": {},
   "outputs": [
    {
     "name": "stdout",
     "output_type": "stream",
     "text": [
      "                 precision    recall  f1-score   support\n",
      "\n",
      "high-earner= no       0.85      0.87      0.86      7401\n",
      "high-earner=yes       0.57      0.52      0.55      2368\n",
      "\n",
      "      micro avg       0.79      0.79      0.79      9769\n",
      "      macro avg       0.71      0.70      0.70      9769\n",
      "   weighted avg       0.78      0.79      0.79      9769\n",
      "\n",
      "[[6466  935]\n",
      " [1129 1239]]\n",
      "0.7887194185689426\n"
     ]
    }
   ],
   "source": [
    "# 3rd Model : k=3; metric='manhattan';weights='distance'\n",
    "from sklearn.neighbors import KNeighborsClassifier\n",
    "from sklearn import metrics\n",
    "neigh3 = KNeighborsClassifier(n_neighbors=3,metric = 'manhattan',weights='distance')\n",
    "neigh3.fit(income_train, income_train_target) \n",
    "# make predictions\n",
    "pred_Knn3 = neigh3.predict(income_test)\n",
    "# summarize the fit of the model\n",
    "target_names = [\"high-earner= no\", \"high-earner=yes\"]\n",
    "print(classification_report(income_test_target, pred_Knn3,target_names=target_names))\n",
    "print(confusion_matrix(income_test_target, pred_Knn3))\n",
    "print(accuracy_score(income_test_target,pred_Knn3))"
   ]
  },
  {
   "cell_type": "markdown",
   "metadata": {},
   "source": [
    "Accuracy score is around 78.9% here in KNN model using k=3; metric='manhattan';weights='distance'.\n",
    "\n",
    "For class=1 (high-earner)) model achieves 57% precision and 52% recall. \n",
    "\n",
    "For class-0 (low-earner) model achieves 85% precision and 87% recall. \n",
    "\n",
    "Again, model is performing not so okay in predicting high-earner that is 52%, whereas model is way good in predicting low-earner that is 87%. Low precision for high-earner and high precision for low-earner indicates that misclassification in high-earner class is more than low-earner which is 1129/935 in this case."
   ]
  },
  {
   "cell_type": "code",
   "execution_count": 104,
   "metadata": {},
   "outputs": [
    {
     "name": "stdout",
     "output_type": "stream",
     "text": [
      "[[6466  935]\n",
      " [1129 1239]]\n"
     ]
    },
    {
     "data": {
      "text/plain": [
       "Text(0.5, 0, 'Predicted label')"
      ]
     },
     "execution_count": 104,
     "metadata": {},
     "output_type": "execute_result"
    },
    {
     "data": {
      "image/png": "[encoded data removed]",
      "text/plain": [
       "<Figure size 288x288 with 2 Axes>"
      ]
     },
     "metadata": {
      "needs_background": "light"
     },
     "output_type": "display_data"
    }
   ],
   "source": [
    "# display confusion matrix \n",
    "K3_cm_trial3 = confusion_matrix(income_test_target, pred_Knn3)\n",
    "print(K3_cm_trial3)\n",
    "plt.matshow(K3_cm_trial3)\n",
    "plt.title('Confusion matrix for Knn')\n",
    "plt.colorbar()\n",
    "plt.ylabel('True label')\n",
    "plt.xlabel('Predicted label')"
   ]
  },
  {
   "cell_type": "code",
   "execution_count": 105,
   "metadata": {},
   "outputs": [
    {
     "name": "stdout",
     "output_type": "stream",
     "text": [
      "Cross Validation Score for each K [0.79780702 0.79780702 0.79166667 0.79245283 0.79025889 0.79069767\n",
      " 0.79289162 0.79947345 0.79508556 0.77831431]\n"
     ]
    },
    {
     "data": {
      "text/plain": [
       "0.7926455038880669"
      ]
     },
     "execution_count": 105,
     "metadata": {},
     "output_type": "execute_result"
    }
   ],
   "source": [
    "#verifing Knn=3  with cross validation \n",
    "scores_neigh3 = cross_val_score(neigh3, income_train, income_train_target, cv=10,scoring ='accuracy')\n",
    "print(\"Cross Validation Score for each K\",scores_neigh3)\n",
    "scores_neigh3.mean()"
   ]
  },
  {
   "cell_type": "markdown",
   "metadata": {},
   "source": [
    "For KNN model using k=3; metric='manhattan';weights='distance' with cross-validation\n",
    "\n",
    "Range of testing accuracy is between 77.8%-79.9%. \n",
    "Our mean accuracy score is around 79.26%. \n",
    "Previous train tests split accuracy score = 78.9%.\n",
    "So, we can say that this model with cross-validation is slightly(0.36) better performing than previous train tests split."
   ]
  },
  {
   "cell_type": "code",
   "execution_count": 106,
   "metadata": {},
   "outputs": [
    {
     "name": "stdout",
     "output_type": "stream",
     "text": [
      "KNeighborsClassifier(algorithm='auto', leaf_size=30, metric='euclidean',\n",
      "           metric_params=None, n_jobs=None, n_neighbors=5, p=2,\n",
      "           weights='distance')\n",
      "[0 0 1 ... 1 0 1]\n",
      "                 precision    recall  f1-score   support\n",
      "\n",
      "high-earner= no       0.86      0.87      0.86      7401\n",
      "high-earner=yes       0.58      0.54      0.56      2368\n",
      "\n",
      "      micro avg       0.79      0.79      0.79      9769\n",
      "      macro avg       0.72      0.71      0.71      9769\n",
      "   weighted avg       0.79      0.79      0.79      9769\n",
      "\n",
      "[[6460  941]\n",
      " [1078 1290]]\n",
      "0.793325826594329\n"
     ]
    }
   ],
   "source": [
    "# 4th Model : k=5; metric='euclidean';weights='distance'\n",
    "from sklearn.neighbors import KNeighborsClassifier\n",
    "from sklearn import metrics\n",
    "neigh4 = KNeighborsClassifier(n_neighbors=5,metric='euclidean',weights='distance')\n",
    "neigh4.fit(income_train, income_train_target) \n",
    "# make predictions\n",
    "pred_Knn4 = neigh4.predict(income_test)\n",
    "# summarize the fit of the model\n",
    "target_names = [\"high-earner= no\", \"high-earner=yes\"]\n",
    "print(accuracy_score(income_test_target,pred_Knn4))\n",
    "print(confusion_matrix(income_test_target, pred_Knn4))\n",
    "print(classification_report(income_test_target, pred_Knn4,target_names=target_names))"
   ]
  },
  {
   "cell_type": "markdown",
   "metadata": {},
   "source": [
    "Accuracy score is around 79.3% here in KNN model using knn using k=5; metric='euclidean';weights='distance'.\n",
    "\n",
    "For class=1 (high-earner)) model achieves 58% precision and 54% recall. \n",
    "\n",
    "For class-0 (low-earner) model achieves 86% precision and 87% recall. \n",
    "\n",
    "For conclusion, model is performing okay in predicting high-earner that is 54%, whereas model is way good in predicting low-earner that is 87%. Low precision for high-earner and high precision for low-earner indicates that misclassification in high-earner class is more than low-earner which is 1078/941 in this case. "
   ]
  },
  {
   "cell_type": "code",
   "execution_count": 107,
   "metadata": {},
   "outputs": [
    {
     "name": "stdout",
     "output_type": "stream",
     "text": [
      "[[6460  941]\n",
      " [1078 1290]]\n"
     ]
    },
    {
     "data": {
      "text/plain": [
       "Text(0.5, 0, 'Predicted label')"
      ]
     },
     "execution_count": 107,
     "metadata": {},
     "output_type": "execute_result"
    },
    {
     "data": {
      "image/png": "[encoded data removed]",
      "text/plain": [
       "<Figure size 288x288 with 2 Axes>"
      ]
     },
     "metadata": {
      "needs_background": "light"
     },
     "output_type": "display_data"
    }
   ],
   "source": [
    "# display confusion matrix\n",
    "K5_cm_trial1 = confusion_matrix(income_test_target, pred_Knn4)\n",
    "print(K5_cm_trial1)\n",
    "plt.matshow(K5_cm_trial1)\n",
    "plt.title('Confusion matrix for Knn')\n",
    "plt.colorbar()\n",
    "plt.ylabel('True label')\n",
    "plt.xlabel('Predicted label')"
   ]
  },
  {
   "cell_type": "code",
   "execution_count": 108,
   "metadata": {},
   "outputs": [
    {
     "name": "stdout",
     "output_type": "stream",
     "text": [
      "Cross Validation Score for each K [0.80438596 0.79692982 0.79736842 0.80078982 0.79201404 0.79596314\n",
      " 0.79157525 0.80122861 0.79903466 0.78533802]\n"
     ]
    },
    {
     "data": {
      "text/plain": [
       "0.7964627755070328"
      ]
     },
     "execution_count": 108,
     "metadata": {},
     "output_type": "execute_result"
    }
   ],
   "source": [
    "#verifing Knn=5  with cross validation \n",
    "scores_neigh4 = cross_val_score(neigh4, income_train, income_train_target, cv=10,scoring ='accuracy')\n",
    "print(\"Cross Validation Score for each K\",scores_neigh4)\n",
    "scores_neigh4.mean()"
   ]
  },
  {
   "cell_type": "markdown",
   "metadata": {},
   "source": [
    "For knn using k=5; metric='euclidean';weights='distance' with cross-validation\n",
    "\n",
    "Range of testing accuracy is between 78.5%-80.43%. \n",
    "Our mean accuracy score is around 79.64%. \n",
    "Previous train tests split accuracy score = 79.33%.\n",
    "So, we can say that this model with cross-validation is slightly(0.31) better performing than previous train tests split."
   ]
  },
  {
   "cell_type": "code",
   "execution_count": 181,
   "metadata": {},
   "outputs": [
    {
     "name": "stdout",
     "output_type": "stream",
     "text": [
      "0.7987511516020064\n",
      "[[6452  949]\n",
      " [1017 1351]]\n",
      "                 precision    recall  f1-score   support\n",
      "\n",
      "high-earner= no       0.86      0.87      0.87      7401\n",
      "high-earner=yes       0.59      0.57      0.58      2368\n",
      "\n",
      "      micro avg       0.80      0.80      0.80      9769\n",
      "      macro avg       0.73      0.72      0.72      9769\n",
      "   weighted avg       0.80      0.80      0.80      9769\n",
      "\n"
     ]
    }
   ],
   "source": [
    "# 5th Model : k=5; metric='minkowski';weights='uniform'\n",
    "from sklearn.neighbors import KNeighborsClassifier\n",
    "from sklearn import metrics\n",
    "neigh5 = KNeighborsClassifier(n_neighbors=5)\n",
    "neigh5.fit(income_train, income_train_target) \n",
    "# make predictions\n",
    "pred_Knn5 = neigh5.predict(income_test)\n",
    "# summarize the fit of the model\n",
    "target_names = [\"high-earner= no\", \"high-earner=yes\"]\n",
    "print(accuracy_score(income_test_target,pred_Knn5))\n",
    "print(confusion_matrix(income_test_target, pred_Knn5))\n",
    "print(classification_report(income_test_target, pred_Knn5,target_names=target_names))"
   ]
  },
  {
   "cell_type": "markdown",
   "metadata": {},
   "source": [
    "Accuracy score is around 79.9% here in KNN model using knn using k=5; metric='euclidean';weights='distance'.\n",
    "\n",
    "For class=1 (high-earner)) model achieves 59% precision and 57% recall. \n",
    "\n",
    "For class-0 (low-earner) model achieves 86% precision and 87% recall. \n",
    "\n",
    "For conclusion, model is performing okay in predicting high-earner that is 57%(but improved than previous models), whereas model is way good in predicting low-earner that is 87%. Low precision for high-earner and high precision for low-earner indicates that misclassification in high-earner class is more than low-earner which is 1017/949 in this case. "
   ]
  },
  {
   "cell_type": "code",
   "execution_count": 238,
   "metadata": {},
   "outputs": [
    {
     "name": "stdout",
     "output_type": "stream",
     "text": [
      "[[6452  949]\n",
      " [1017 1351]]\n"
     ]
    },
    {
     "data": {
      "text/plain": [
       "Text(0.5, 0, 'Predicted label')"
      ]
     },
     "execution_count": 238,
     "metadata": {},
     "output_type": "execute_result"
    },
    {
     "data": {
      "image/png": "[encoded data removed]",
      "text/plain": [
       "<Figure size 288x288 with 2 Axes>"
      ]
     },
     "metadata": {
      "needs_background": "light"
     },
     "output_type": "display_data"
    }
   ],
   "source": [
    "# display confusion matrix\n",
    "K5_cm_trial2 = confusion_matrix(income_test_target, pred_Knn5)\n",
    "print(K5_cm_trial2)\n",
    "plt.matshow(K5_cm_trial2)\n",
    "plt.title('Confusion matrix for Knn')\n",
    "plt.colorbar()\n",
    "plt.ylabel('True label')\n",
    "plt.xlabel('Predicted label')"
   ]
  },
  {
   "cell_type": "code",
   "execution_count": 239,
   "metadata": {},
   "outputs": [
    {
     "name": "stdout",
     "output_type": "stream",
     "text": [
      "Cross Validation Score for each K [0.80833333 0.8004386  0.80087719 0.79991224 0.79991224 0.80298376\n",
      " 0.80035103 0.81088197 0.80517771 0.78884987]\n"
     ]
    },
    {
     "data": {
      "text/plain": [
       "0.8017717946794866"
      ]
     },
     "execution_count": 239,
     "metadata": {},
     "output_type": "execute_result"
    }
   ],
   "source": [
    "#verifing Knn=5  with cross validation \n",
    "scores_neigh5 = cross_val_score(neigh5, income_train, income_train_target, cv=10,scoring ='accuracy')\n",
    "print(\"Cross Validation Score for each K\",scores_neigh5)\n",
    "scores_neigh5.mean()"
   ]
  },
  {
   "cell_type": "markdown",
   "metadata": {},
   "source": [
    "For knn using k=5; metric='minkowski';weights='uniform' with cross-validation\n",
    "\n",
    "Range of testing accuracy is between 78.9%-81%. \n",
    "Our mean accuracy score is around 80%. \n",
    "Previous train tests split accuracy score = 79.9%.\n",
    "So, we can say that this model with cross-validation is almost(0.1) same as previous train tests split."
   ]
  },
  {
   "cell_type": "code",
   "execution_count": 183,
   "metadata": {},
   "outputs": [
    {
     "name": "stdout",
     "output_type": "stream",
     "text": [
      "0.795577848295629\n",
      "[[6511  890]\n",
      " [1107 1261]]\n",
      "                 precision    recall  f1-score   support\n",
      "\n",
      "high-earner= no       0.85      0.88      0.87      7401\n",
      "high-earner=yes       0.59      0.53      0.56      2368\n",
      "\n",
      "      micro avg       0.80      0.80      0.80      9769\n",
      "      macro avg       0.72      0.71      0.71      9769\n",
      "   weighted avg       0.79      0.80      0.79      9769\n",
      "\n"
     ]
    }
   ],
   "source": [
    "# 6th Model : k=5; metric='manhattan';weights='distance'\n",
    "from sklearn.neighbors import KNeighborsClassifier\n",
    "from sklearn import metrics\n",
    "neigh6 = KNeighborsClassifier(n_neighbors=5,metric='manhattan',weights='distance')\n",
    "neigh6.fit(income_train, income_train_target) \n",
    "# make predictions\n",
    "pred_Knn6 = neigh6.predict(income_test)\n",
    "# summarize the fit of the model\n",
    "target_names = [\"high-earner= no\", \"high-earner=yes\"]\n",
    "print(accuracy_score(income_test_target,pred_Knn6))\n",
    "print(confusion_matrix(income_test_target, pred_Knn6))\n",
    "print(classification_report(income_test_target, pred_Knn6,target_names = target_names))"
   ]
  },
  {
   "cell_type": "markdown",
   "metadata": {},
   "source": [
    "Accuracy score is around 79.6% here in KNN model using knn using k=5; metric='euclidean';weights='distance'.\n",
    "\n",
    "For class=1 (high-earner)) model achieves 59% precision and 53% recall. \n",
    "\n",
    "For class-0 (low-earner) model achieves 85% precision and 88% recall. \n",
    "\n",
    "Again, model is performing not so okay in predicting high-earner that is 53%, whereas model is way good in predicting low-earner that is 88%. Low precision for high-earner and high precision for low-earner indicates that misclassification in high-earner class is more than low-earner which is 1107/890 in this case. "
   ]
  },
  {
   "cell_type": "code",
   "execution_count": 157,
   "metadata": {},
   "outputs": [
    {
     "name": "stdout",
     "output_type": "stream",
     "text": [
      "[[6511  890]\n",
      " [1107 1261]]\n"
     ]
    },
    {
     "data": {
      "text/plain": [
       "Text(0.5, 0, 'Predicted label')"
      ]
     },
     "execution_count": 157,
     "metadata": {},
     "output_type": "execute_result"
    },
    {
     "data": {
      "image/png": "[encoded data removed]",
      "text/plain": [
       "<Figure size 288x288 with 2 Axes>"
      ]
     },
     "metadata": {
      "needs_background": "light"
     },
     "output_type": "display_data"
    }
   ],
   "source": [
    "# displaying confusion matrix\n",
    "K5_cm_trial3 = confusion_matrix(income_test_target, pred_Knn6)\n",
    "#print(K5_cm_trial3)\n",
    "plt.matshow(K5_cm_trial3)\n",
    "plt.title('Confusion matrix for Knn')\n",
    "plt.colorbar()\n",
    "plt.ylabel('True label')\n",
    "plt.xlabel('Predicted label')"
   ]
  },
  {
   "cell_type": "code",
   "execution_count": 158,
   "metadata": {},
   "outputs": [
    {
     "name": "stdout",
     "output_type": "stream",
     "text": [
      "Cross Validation Score for each K [0.80614035 0.80701754 0.80570175 0.80122861 0.79552435 0.79684072\n",
      " 0.79727951 0.80254498 0.80342255 0.78841089]\n"
     ]
    },
    {
     "data": {
      "text/plain": [
       "0.8004111255479429"
      ]
     },
     "execution_count": 158,
     "metadata": {},
     "output_type": "execute_result"
    }
   ],
   "source": [
    "#verifing Knn=5 with cross validation income_train, income_train_target\n",
    "scores_neigh6 = cross_val_score(neigh6, income_train, income_train_target, cv=10,scoring ='accuracy')\n",
    "print(\"Cross Validation Score for each K\",scores_neigh6)\n",
    "scores_neigh6.mean()"
   ]
  },
  {
   "cell_type": "markdown",
   "metadata": {},
   "source": [
    "For k=5; metric='manhattan';weights='distance' with cross-validation\n",
    "\n",
    "Range of testing accuracy is between 78.8%-80.7%. \n",
    "Our mean accuracy score is around 80%. \n",
    "Previous train tests split accuracy score = 79.6%.\n",
    "So, we can say that this model with cross-validation is almost(0.4) same as previous train tests split."
   ]
  },
  {
   "cell_type": "markdown",
   "metadata": {},
   "source": [
    "#### Using GridSearchCV to find efficient parameter tuning\n",
    "It allows us to define a grid of parameters that will be searched using K-fold cross-validation"
   ]
  },
  {
   "cell_type": "code",
   "execution_count": 112,
   "metadata": {},
   "outputs": [
    {
     "name": "stdout",
     "output_type": "stream",
     "text": [
      "[1, 2, 3, 4, 5, 6, 7, 8, 9, 10, 11, 12, 13, 14, 15, 16, 17, 18, 19, 20, 21, 22, 23, 24]\n"
     ]
    }
   ],
   "source": [
    "# defining the parameter values that should be searched\n",
    "k_range = list(range(1, 25))\n",
    "print(k_range)"
   ]
  },
  {
   "cell_type": "code",
   "execution_count": 113,
   "metadata": {},
   "outputs": [
    {
     "name": "stdout",
     "output_type": "stream",
     "text": [
      "{'n_neighbors': [1, 2, 3, 4, 5, 6, 7, 8, 9, 10, 11, 12, 13, 14, 15, 16, 17, 18, 19, 20, 21, 22, 23, 24]}\n"
     ]
    }
   ],
   "source": [
    "# create a parameter grid: map the parameter names to the values that should be searched\n",
    "param_grid = dict(n_neighbors=k_range)\n",
    "print(param_grid)"
   ]
  },
  {
   "cell_type": "code",
   "execution_count": 114,
   "metadata": {},
   "outputs": [],
   "source": [
    "# instantiating the grid\n",
    "knn = KNeighborsClassifier(n_neighbors=k_range)\n",
    "grid = GridSearchCV(knn, param_grid, cv=10, scoring='accuracy', return_train_score=False)"
   ]
  },
  {
   "cell_type": "code",
   "execution_count": 115,
   "metadata": {},
   "outputs": [
    {
     "data": {
      "text/plain": [
       "GridSearchCV(cv=10, error_score='raise-deprecating',\n",
       "       estimator=KNeighborsClassifier(algorithm='auto', leaf_size=30, metric='minkowski',\n",
       "           metric_params=None, n_jobs=None,\n",
       "           n_neighbors=[1, 2, 3, 4, 5, 6, 7, 8, 9, 10, 11, 12, 13, 14, 15, 16, 17, 18, 19, 20, 21, 22, 23, 24],\n",
       "           p=2, weights='uniform'),\n",
       "       fit_params=None, iid='warn', n_jobs=None,\n",
       "       param_grid={'n_neighbors': [1, 2, 3, 4, 5, 6, 7, 8, 9, 10, 11, 12, 13, 14, 15, 16, 17, 18, 19, 20, 21, 22, 23, 24]},\n",
       "       pre_dispatch='2*n_jobs', refit=True, return_train_score=False,\n",
       "       scoring='accuracy', verbose=0)"
      ]
     },
     "execution_count": 115,
     "metadata": {},
     "output_type": "execute_result"
    }
   ],
   "source": [
    "# fit the grid with data\n",
    "X = df.ix[:,1:].values \n",
    "#X\n",
    "y=df.ix[:,0].values\n",
    "#y\n",
    "grid.fit(X, y)"
   ]
  },
  {
   "cell_type": "code",
   "execution_count": 116,
   "metadata": {},
   "outputs": [
    {
     "data": {
      "text/html": [
       "<div>\n",
       "<style scoped>\n",
       "    .dataframe tbody tr th:only-of-type {\n",
       "        vertical-align: middle;\n",
       "    }\n",
       "\n",
       "    .dataframe tbody tr th {\n",
       "        vertical-align: top;\n",
       "    }\n",
       "\n",
       "    .dataframe thead th {\n",
       "        text-align: right;\n",
       "    }\n",
       "</style>\n",
       "<table border=\"1\" class=\"dataframe\">\n",
       "  <thead>\n",
       "    <tr style=\"text-align: right;\">\n",
       "      <th></th>\n",
       "      <th>mean_test_score</th>\n",
       "      <th>std_test_score</th>\n",
       "      <th>params</th>\n",
       "    </tr>\n",
       "  </thead>\n",
       "  <tbody>\n",
       "    <tr>\n",
       "      <th>0</th>\n",
       "      <td>0.766254</td>\n",
       "      <td>0.006798</td>\n",
       "      <td>{'n_neighbors': 1}</td>\n",
       "    </tr>\n",
       "    <tr>\n",
       "      <th>1</th>\n",
       "      <td>0.791468</td>\n",
       "      <td>0.005866</td>\n",
       "      <td>{'n_neighbors': 2}</td>\n",
       "    </tr>\n",
       "  </tbody>\n",
       "</table>\n",
       "</div>"
      ],
      "text/plain": [
       "   mean_test_score  std_test_score              params\n",
       "0         0.766254        0.006798  {'n_neighbors': 1}\n",
       "1         0.791468        0.005866  {'n_neighbors': 2}"
      ]
     },
     "execution_count": 116,
     "metadata": {},
     "output_type": "execute_result"
    }
   ],
   "source": [
    "# viewing the results as a pandas DataFrame\n",
    "import pandas as pd\n",
    "pd.DataFrame(grid.cv_results_)[['mean_test_score', 'std_test_score', 'params']][:2]"
   ]
  },
  {
   "cell_type": "code",
   "execution_count": 117,
   "metadata": {},
   "outputs": [
    {
     "name": "stdout",
     "output_type": "stream",
     "text": [
      "{'n_neighbors': 1}\n",
      "0.7662541076748257\n"
     ]
    }
   ],
   "source": [
    "# examining the first result\n",
    "print(grid.cv_results_['params'][0])\n",
    "print(grid.cv_results_['mean_test_score'][0])"
   ]
  },
  {
   "cell_type": "code",
   "execution_count": 118,
   "metadata": {},
   "outputs": [
    {
     "name": "stdout",
     "output_type": "stream",
     "text": [
      "[0.76625411 0.79146832 0.79263536 0.80372224 0.80249378 0.80854396\n",
      " 0.80713123 0.81158441 0.80900464 0.81272074 0.81275145 0.81471699\n",
      " 0.81186082 0.81514695 0.81229078 0.8147477  0.81428703 0.81428703\n",
      " 0.81434845 0.81545407 0.81250576 0.8152698  0.81342711 0.81302786]\n"
     ]
    }
   ],
   "source": [
    "# printing the array of mean scores only\n",
    "grid_mean_scores = grid.cv_results_['mean_test_score']\n",
    "print(grid_mean_scores)"
   ]
  },
  {
   "cell_type": "code",
   "execution_count": 119,
   "metadata": {},
   "outputs": [
    {
     "data": {
      "text/plain": [
       "Text(0, 0.5, 'Cross-Validated Accuracy')"
      ]
     },
     "execution_count": 119,
     "metadata": {},
     "output_type": "execute_result"
    },
    {
     "data": {
      "image/png": "[encoded data removed]",
      "text/plain": [
       "<Figure size 432x288 with 1 Axes>"
      ]
     },
     "metadata": {
      "needs_background": "light"
     },
     "output_type": "display_data"
    }
   ],
   "source": [
    "# plot the results\n",
    "plt.plot(k_range, grid_mean_scores)\n",
    "plt.xlabel('Value of K for KNN')\n",
    "plt.ylabel('Cross-Validated Accuracy')"
   ]
  },
  {
   "cell_type": "markdown",
   "metadata": {},
   "source": [
    "Above plot is indicating optimale value for k is 20"
   ]
  },
  {
   "cell_type": "code",
   "execution_count": 106,
   "metadata": {},
   "outputs": [
    {
     "name": "stdout",
     "output_type": "stream",
     "text": [
      "0.8154540708209207\n",
      "{'n_neighbors': 20}\n",
      "KNeighborsClassifier(algorithm='auto', leaf_size=30, metric='minkowski',\n",
      "           metric_params=None, n_jobs=None, n_neighbors=20, p=2,\n",
      "           weights='uniform')\n"
     ]
    }
   ],
   "source": [
    "# examine the best model\n",
    "print(grid.best_score_)\n",
    "print(grid.best_params_)\n",
    "print(grid.best_estimator_)"
   ]
  },
  {
   "cell_type": "markdown",
   "metadata": {},
   "source": [
    "#### Using the best parameters to make predictions in KNN"
   ]
  },
  {
   "cell_type": "code",
   "execution_count": 184,
   "metadata": {},
   "outputs": [
    {
     "name": "stdout",
     "output_type": "stream",
     "text": [
      "0.8091923431262156\n",
      "                 precision    recall  f1-score   support\n",
      "\n",
      "high-earner= no       0.85      0.90      0.88      7401\n",
      "high-earner=yes       0.63      0.51      0.57      2368\n",
      "\n",
      "      micro avg       0.81      0.81      0.81      9769\n",
      "      macro avg       0.74      0.71      0.72      9769\n",
      "   weighted avg       0.80      0.81      0.80      9769\n",
      "\n",
      "[[6687  714]\n",
      " [1150 1218]]\n"
     ]
    }
   ],
   "source": [
    "# 7th Model : k=20, metric='minkowski',p=2, weights='uniform'\n",
    "knn = KNeighborsClassifier(algorithm='auto', leaf_size=30, metric='minkowski',\n",
    "           metric_params=None, n_jobs=None, n_neighbors=20, p=2,\n",
    "           weights='uniform')\n",
    "knn.fit(income_train, income_train_target) \n",
    "# make predictions\n",
    "pred_Knn = knn.predict(income_test)\n",
    "# summarize the fit of the model\n",
    "target_names = [\"high-earner= no\", \"high-earner=yes\"]\n",
    "print(accuracy_score(income_test_target,pred_Knn))\n",
    "print(classification_report(income_test_target, pred_Knn,target_names =target_names))\n",
    "print(confusion_matrix(income_test_target, pred_Knn))\n"
   ]
  },
  {
   "cell_type": "code",
   "execution_count": 110,
   "metadata": {},
   "outputs": [
    {
     "name": "stdout",
     "output_type": "stream",
     "text": [
      "[[6687  714]\n",
      " [1150 1218]]\n"
     ]
    },
    {
     "data": {
      "text/plain": [
       "Text(0.5, 0, 'Predicted label')"
      ]
     },
     "execution_count": 110,
     "metadata": {},
     "output_type": "execute_result"
    },
    {
     "data": {
      "image/png": "[encoded data removed]",
      "text/plain": [
       "<Figure size 288x288 with 2 Axes>"
      ]
     },
     "metadata": {
      "needs_background": "light"
     },
     "output_type": "display_data"
    }
   ],
   "source": [
    "# display confusion matrix\n",
    "Knn_cm_best = confusion_matrix(income_test_target, pred_Knn)\n",
    "print(Knn_cm_best)\n",
    "plt.matshow(Knn_cm_best)\n",
    "plt.title('Confusion matrix for Knn')\n",
    "plt.colorbar()\n",
    "plt.ylabel('True label')\n",
    "plt.xlabel('Predicted label')"
   ]
  },
  {
   "cell_type": "markdown",
   "metadata": {},
   "source": [
    "### Decision Tree Model"
   ]
  },
  {
   "cell_type": "code",
   "execution_count": 124,
   "metadata": {},
   "outputs": [
    {
     "name": "stdout",
     "output_type": "stream",
     "text": [
      "DT Accuracy Score 0.7789947794042379\n",
      "                 precision    recall  f1-score   support\n",
      "\n",
      "high-earner= no       0.85      0.87      0.86      7401\n",
      "high-earner=yes       0.55      0.51      0.53      2368\n",
      "\n",
      "      micro avg       0.78      0.78      0.78      9769\n",
      "      macro avg       0.70      0.69      0.69      9769\n",
      "   weighted avg       0.77      0.78      0.78      9769\n",
      "\n"
     ]
    }
   ],
   "source": [
    "# 8th Model : 1st Decision Tree Model with all default parameters\n",
    "clf_dt = tree.DecisionTreeClassifier()\n",
    "clf_dt = clf_dt.fit(income_train, income_train_target)\n",
    "#DT test model\n",
    "pred_dt = clf_dt.predict(income_test)\n",
    "print(\"DT Accuracy Score\", accuracy_score(income_test_target, pred_dt))\n",
    "# print classification report\n",
    "target_names = [\"high-earner= no\", \"high-earner=yes\"]\n",
    "print(classification_report(income_test_target, pred_dt, target_names=target_names))"
   ]
  },
  {
   "cell_type": "code",
   "execution_count": 125,
   "metadata": {},
   "outputs": [
    {
     "name": "stdout",
     "output_type": "stream",
     "text": [
      "Features sorted by their score:\n",
      "Higher the more important\n",
      "[(0.2427, 'age'), (0.2369, 'marital_status_Married'), (0.195, 'education_num'), (0.1402, 'hours_per_week'), (0.0249, 'occupation_Admin'), (0.0195, 'workclass_Self_Employed'), (0.0177, 'workclass_Private'), (0.017, 'workclass_Govt_class'), (0.0146, 'gender_ Female'), (0.0127, 'race_White'), (0.0111, 'occupation_Tough_jobs'), (0.0108, 'race_Black'), (0.0087, 'occupation_Services'), (0.0086, 'race_Asian-Pac-Islander'), (0.0077, 'marital_status_Divorced'), (0.0049, 'marital_status_Never-married'), (0.0026, 'race_Other'), (0.0026, 'occupation_Unknown'), (0.0025, 'race_Amer-Indian-Eskimo'), (0.0024, 'marital_status_Separated'), (0.0023, 'marital_status_Widowed'), (0.0014, 'workclass_Other_Class')]\n"
     ]
    }
   ],
   "source": [
    "print(\"Features sorted by their score:\")\n",
    "print(\"Higher the more important\")\n",
    "print(sorted(zip(map(lambda x: round(x, 4), clf_dt.feature_importances_),df.columns[1:23]), \n",
    "             reverse=True))"
   ]
  },
  {
   "cell_type": "code",
   "execution_count": 126,
   "metadata": {},
   "outputs": [
    {
     "name": "stdout",
     "output_type": "stream",
     "text": [
      "Cross Validation Score for each K [0.80012281 0.79484029 0.8009828  0.79207617 0.79883292 0.7997543\n",
      " 0.81019656 0.80589681 0.80067568 0.7985258 ]\n"
     ]
    },
    {
     "data": {
      "text/plain": [
       "0.800190413918538"
      ]
     },
     "execution_count": 126,
     "metadata": {},
     "output_type": "execute_result"
    }
   ],
   "source": [
    "# 10-fold cross-validation with 5 most important features\n",
    "\n",
    "feature_cols = ['age','marital_status_Married','education_num','hours_per_week','occupation_Admin']\n",
    "#X = df.ix[:,1:].values\n",
    "X = df[feature_cols]\n",
    "#X\n",
    "y=df.ix[:,0].values\n",
    "y\n",
    "scores_rf = cross_val_score(clf_dt, X, y, cv=10)\n",
    "print(\"Cross Validation Score for each K\",scores_rf)\n",
    "scores_rf.mean()\n"
   ]
  },
  {
   "cell_type": "code",
   "execution_count": 160,
   "metadata": {},
   "outputs": [
    {
     "name": "stdout",
     "output_type": "stream",
     "text": [
      "DT Accuracy Score 0.7692701402395332\n",
      "                 precision    recall  f1-score   support\n",
      "\n",
      "high-earner= no       0.87      0.82      0.84      7401\n",
      "high-earner=yes       0.52      0.61      0.56      2368\n",
      "\n",
      "      micro avg       0.77      0.77      0.77      9769\n",
      "      macro avg       0.69      0.72      0.70      9769\n",
      "   weighted avg       0.78      0.77      0.78      9769\n",
      "\n"
     ]
    }
   ],
   "source": [
    "# 9th Model : 1st Decision Tree Model with 'information gain' & max_features=6\n",
    "clf_dt2 = tree.DecisionTreeClassifier(criterion='entropy',max_depth=3,max_features=6)\n",
    "clf_dt2 = clf_dt2.fit(income_train, income_train_target)\n",
    "#DT test model\n",
    "pred_dt2 = clf_dt2.predict(income_test)\n",
    "print(\"DT Accuracy Score\", accuracy_score(income_test_target, pred_dt2))\n",
    "# print classification report\n",
    "target_names = [\"high-earner= no\", \"high-earner=yes\"]\n",
    "print(classification_report(income_test_target, pred_dt2, target_names=target_names))"
   ]
  },
  {
   "cell_type": "code",
   "execution_count": 161,
   "metadata": {},
   "outputs": [
    {
     "name": "stdout",
     "output_type": "stream",
     "text": [
      "Cross Validation Score for each K [0.76666667 0.78903509 0.75964912 0.78279947 0.78411584 0.81702501\n",
      " 0.75998245 0.81526986 0.81658622 0.81079895]\n"
     ]
    },
    {
     "data": {
      "text/plain": [
       "0.7901928674010202"
      ]
     },
     "execution_count": 161,
     "metadata": {},
     "output_type": "execute_result"
    }
   ],
   "source": [
    "scores_dt2 = cross_val_score(clf_dt2, income_train, income_train_target, cv=10)\n",
    "print(\"Cross Validation Score for each K\",scores_dt2)\n",
    "scores_dt2.mean()"
   ]
  },
  {
   "cell_type": "code",
   "execution_count": 162,
   "metadata": {},
   "outputs": [],
   "source": [
    "from IPython.display import Image\n",
    "dot_data = tree.export_graphviz(clf_dt2, out_file=None, \n",
    "                         filled=True, rounded=True,  \n",
    "                         special_characters=True)"
   ]
  },
  {
   "cell_type": "code",
   "execution_count": 163,
   "metadata": {},
   "outputs": [
    {
     "data": {
      "image/png": "[encoded data removed]",
      "text/plain": [
       "<IPython.core.display.Image object>"
      ]
     },
     "execution_count": 163,
     "metadata": {},
     "output_type": "execute_result"
    }
   ],
   "source": [
    "import pydotplus \n",
    "graph = pydotplus.graph_from_dot_data(dot_data)\n",
    "Image(graph.create_png())"
   ]
  },
  {
   "cell_type": "markdown",
   "metadata": {},
   "source": [
    "#### Using GridSearchCV to find efficient parameter tuning for Decision Tree"
   ]
  },
  {
   "cell_type": "code",
   "execution_count": 162,
   "metadata": {},
   "outputs": [
    {
     "data": {
      "text/plain": [
       "GridSearchCV(cv=5, error_score='raise-deprecating',\n",
       "       estimator=DecisionTreeClassifier(class_weight=None, criterion='gini', max_depth=None,\n",
       "            max_features=None, max_leaf_nodes=None,\n",
       "            min_impurity_decrease=0.0, min_impurity_split=None,\n",
       "            min_samples_leaf=1, min_samples_split=2,\n",
       "            min_weight_fraction_leaf=0.0, presort=False, random_state=None,\n",
       "            splitter='best'),\n",
       "       fit_params=None, iid='warn', n_jobs=None,\n",
       "       param_grid={'criterion': ['gini', 'entropy'], 'max_depth': [3, 4, 5, 6, 7, 8, 9, 10, 11, 12, 15, 20, 30, 40, 50, 70, 90, 120, 150], 'max_features': [5, 6]},\n",
       "       pre_dispatch='2*n_jobs', refit=True, return_train_score='warn',\n",
       "       scoring=None, verbose=0)"
      ]
     },
     "execution_count": 162,
     "metadata": {},
     "output_type": "execute_result"
    }
   ],
   "source": [
    "# Tuning parameters\n",
    "tree_para = {'criterion':['gini','entropy'],'max_depth':[3,4,5,6,7,8,9,10,11,12,15,20,30,40,50,70,90,120,150],'max_features': [ 5,6]}\n",
    "# Running grid search \n",
    "clf_grid = GridSearchCV(DecisionTreeClassifier(), tree_para, cv=5)\n",
    "clf_grid.fit(X, y)"
   ]
  },
  {
   "cell_type": "code",
   "execution_count": 163,
   "metadata": {},
   "outputs": [
    {
     "name": "stdout",
     "output_type": "stream",
     "text": [
      "0.8242990080157243\n",
      "{'criterion': 'gini', 'max_depth': 9, 'max_features': 6}\n",
      "DecisionTreeClassifier(class_weight=None, criterion='gini', max_depth=9,\n",
      "            max_features=6, max_leaf_nodes=None, min_impurity_decrease=0.0,\n",
      "            min_impurity_split=None, min_samples_leaf=1,\n",
      "            min_samples_split=2, min_weight_fraction_leaf=0.0,\n",
      "            presort=False, random_state=None, splitter='best')\n"
     ]
    }
   ],
   "source": [
    "# examine the best model\n",
    "print(clf_grid.best_score_)\n",
    "print(clf_grid.best_params_)\n",
    "print(clf_grid.best_estimator_)"
   ]
  },
  {
   "cell_type": "markdown",
   "metadata": {},
   "source": [
    "#### Using the best estimators in make predictions in Decision Tree Model"
   ]
  },
  {
   "cell_type": "code",
   "execution_count": 200,
   "metadata": {},
   "outputs": [
    {
     "name": "stdout",
     "output_type": "stream",
     "text": [
      "DT Accuracy Score 0.8186098884225612\n",
      "                   precision    recall  f1-score   support\n",
      "\n",
      " high-earner = no       0.86      0.91      0.88      7401\n",
      "high-earner = yes       0.65      0.54      0.59      2368\n",
      "\n",
      "        micro avg       0.82      0.82      0.82      9769\n",
      "        macro avg       0.76      0.72      0.74      9769\n",
      "     weighted avg       0.81      0.82      0.81      9769\n",
      "\n"
     ]
    }
   ],
   "source": [
    "# 10th Model: Decision Tree with best parameters\n",
    "clf_DTbest = tree.DecisionTreeClassifier(criterion='gini', max_depth=9,\n",
    "            max_features=6)\n",
    "clf_DTbest = clf_DTbest.fit(income_train, income_train_target)\n",
    "# Deccision Tree test model\n",
    "pred_dt = clf_DTbest.predict(income_test)\n",
    "# summarize the fit of the model\n",
    "target_names = [\"high-earner = no\", \"high-earner = yes\"]\n",
    "print(\"DT Accuracy Score\", accuracy_score(income_test_target, pred_dt))\n",
    "print(classification_report(income_test_target, pred_dt, target_names=target_names))"
   ]
  },
  {
   "cell_type": "code",
   "execution_count": 138,
   "metadata": {},
   "outputs": [
    {
     "name": "stdout",
     "output_type": "stream",
     "text": [
      "[[6711  690]\n",
      " [1083 1285]]\n"
     ]
    },
    {
     "data": {
      "image/png": "[encoded data removed]",
      "text/plain": [
       "<Figure size 288x288 with 2 Axes>"
      ]
     },
     "metadata": {
      "needs_background": "light"
     },
     "output_type": "display_data"
    }
   ],
   "source": [
    "# displaying confusion matrix\n",
    "DtBest_cm = confusion_matrix(income_test_target, pred_dt)\n",
    "plt.matshow(DtBest_cm)\n",
    "plt.title('Confusion matrix for decision Tree')\n",
    "plt.colorbar()\n",
    "plt.ylabel('True label')\n",
    "plt.xlabel('Predicted label')\n",
    "print(DtBest_cm)"
   ]
  },
  {
   "cell_type": "markdown",
   "metadata": {},
   "source": [
    "Above tree with maximum depth=9 and max_features = 6"
   ]
  },
  {
   "cell_type": "markdown",
   "metadata": {},
   "source": [
    " ### Random Forest"
   ]
  },
  {
   "cell_type": "code",
   "execution_count": 109,
   "metadata": {},
   "outputs": [
    {
     "name": "stdout",
     "output_type": "stream",
     "text": [
      "0.8053024874603337\n",
      "                   precision    recall  f1-score   support\n",
      "\n",
      " high-earner = no       0.86      0.89      0.87      7401\n",
      "high-earner = yes       0.61      0.55      0.58      2368\n",
      "\n",
      "        micro avg       0.81      0.81      0.81      9769\n",
      "        macro avg       0.73      0.72      0.72      9769\n",
      "     weighted avg       0.80      0.81      0.80      9769\n",
      "\n",
      "Time to run 3.843499962385977e-05 seconds\n"
     ]
    }
   ],
   "source": [
    "# 11th Model : Training 1st Random Forest  using only one processor\n",
    "rf = RandomForestClassifier(n_estimators= 500, n_jobs=1,oob_score=True,max_features='auto')\n",
    "rf.fit(income_train, income_train_target)\n",
    "# test random forest model\n",
    "pred_rf = rf.predict(income_test)\n",
    "# summarize the fit of the model\n",
    "target_names = [\"high-earner = no\", \"high-earner = yes\"]\n",
    "print(accuracy_score(income_test_target, pred_rf))\n",
    "print(classification_report(income_test_target, pred_rf, target_names=target_names))\n",
    "start_time = time.clock()\n",
    "print(\"Time to run\", time.clock() - start_time, \"seconds\")"
   ]
  },
  {
   "cell_type": "code",
   "execution_count": 110,
   "metadata": {},
   "outputs": [
    {
     "name": "stdout",
     "output_type": "stream",
     "text": [
      "Cross Validation Score for each K [0.80789474 0.81842105 0.8122807  0.81000439 0.8056165  0.81044318\n",
      " 0.81834138 0.82711716 0.81878017 0.79850746]\n"
     ]
    },
    {
     "data": {
      "text/plain": [
       "0.8127406718284975"
      ]
     },
     "execution_count": 110,
     "metadata": {},
     "output_type": "execute_result"
    }
   ],
   "source": [
    "#verifing 1st Random Forest with 10-fold cross validation\n",
    "from sklearn.model_selection import cross_val_score\n",
    "from sklearn import metrics\n",
    "scores_rf = cross_val_score(rf, income_train, income_train_target, cv=10)\n",
    "print(\"Cross Validation Score for each K\",scores_rf)\n",
    "scores_rf.mean()"
   ]
  },
  {
   "cell_type": "code",
   "execution_count": 111,
   "metadata": {},
   "outputs": [
    {
     "name": "stdout",
     "output_type": "stream",
     "text": [
      "[[6574  827]\n",
      " [1093 1275]]\n"
     ]
    },
    {
     "data": {
      "image/png": "[encoded data removed]",
      "text/plain": [
       "<Figure size 288x288 with 2 Axes>"
      ]
     },
     "metadata": {
      "needs_background": "light"
     },
     "output_type": "display_data"
    }
   ],
   "source": [
    "# displaying confusion matrix\n",
    "rf1_cm = confusion_matrix(income_test_target, pred_rf)\n",
    "plt.matshow(rf1_cm)\n",
    "plt.title('Confusion matrix for Random Forest')\n",
    "plt.colorbar()\n",
    "plt.ylabel('True label')\n",
    "plt.xlabel('Predicted label')\n",
    "#print(rf1_cm)"
   ]
  },
  {
   "cell_type": "code",
   "execution_count": 168,
   "metadata": {},
   "outputs": [
    {
     "name": "stdout",
     "output_type": "stream",
     "text": [
      "0.7962944006551336\n",
      "                   precision    recall  f1-score   support\n",
      "\n",
      " high-earner = no       0.85      0.89      0.87      7401\n",
      "high-earner = yes       0.59      0.51      0.55      2368\n",
      "\n",
      "        micro avg       0.80      0.80      0.80      9769\n",
      "        macro avg       0.72      0.70      0.71      9769\n",
      "     weighted avg       0.79      0.80      0.79      9769\n",
      "\n",
      "Time to run 3.420399661990814e-05 seconds\n",
      "Features sorted by their score:\n",
      "Higher the more important\n",
      "[(0.3221, 'age'), (0.1689, 'marital_status_Married'), (0.1688, 'hours_per_week'), (0.1599, 'education_num'), (0.0358, 'occupation_Admin'), (0.027, 'marital_status_Never-married'), (0.0257, 'occupation_Tough_jobs'), (0.0139, 'gender_ Female'), (0.0083, 'marital_status_Divorced'), (0.008, 'workclass_Govt_class'), (0.0074, 'workclass_Private'), (0.0072, 'race_White'), (0.007, 'workclass_Self_Employed'), (0.0058, 'race_Black'), (0.0051, 'occupation_Services'), (0.0044, 'workclass_Other_Class'), (0.0042, 'race_Asian-Pac-Islander'), (0.0021, 'marital_status_Separated'), (0.002, 'race_Amer-Indian-Eskimo'), (0.002, 'marital_status_Widowed'), (0.0017, 'race_Other'), (0.0015, 'occupation_Unknown')]\n"
     ]
    }
   ],
   "source": [
    "# 11th Model : Training 2nd Random forest with all defaults\n",
    "rf2 = RandomForestClassifier()\n",
    "rf2.fit(income_train, income_train_target)\n",
    "pred_rf2 = rf2.predict(income_test)\n",
    "# summarize the fit of the model\n",
    "target_names = [\"high-earner = no\", \"high-earner = yes\"]\n",
    "print(accuracy_score(income_test_target, pred_rf2))\n",
    "print(classification_report(income_test_target, pred_rf2, target_names=target_names))\n",
    "start_time = time.clock()\n",
    "print(\"Time to run\", time.clock() - start_time, \"seconds\")\n",
    "print(\"Features sorted by their score:\")\n",
    "print(\"Higher the more important\")\n",
    "print(sorted(zip(map(lambda x: round(x, 4), rf2.feature_importances_),df.columns[1:23]), \n",
    "             reverse=True))"
   ]
  },
  {
   "cell_type": "code",
   "execution_count": 130,
   "metadata": {},
   "outputs": [
    {
     "name": "stdout",
     "output_type": "stream",
     "text": [
      "Cross Validation Score for each K [0.79950875 0.79146192 0.80712531 0.79269042 0.79944717 0.80958231\n",
      " 0.81050369 0.80804668 0.81173219 0.80589681]\n"
     ]
    },
    {
     "data": {
      "text/plain": [
       "0.8035995236870275"
      ]
     },
     "execution_count": 130,
     "metadata": {},
     "output_type": "execute_result"
    }
   ],
   "source": [
    "# Now, 10-fold cross-validation with 4 most important features\n",
    "\n",
    "feature_cols = ['age','education_num','hours_per_week','marital_status_Married']\n",
    "#X = df.ix[:,1:].values\n",
    "X = df[feature_cols]\n",
    "#X\n",
    "y=df.ix[:,0].values\n",
    "y\n",
    "scores_rf2 = cross_val_score(rf2, X, y, cv=10)\n",
    "print(\"Cross Validation Score for each K\",scores_rf2)\n",
    "scores_rf2.mean()\n",
    "\n"
   ]
  },
  {
   "cell_type": "markdown",
   "metadata": {},
   "source": [
    "#### Using GridSearchCV to find efficient parameter tuning for RandomForest Model"
   ]
  },
  {
   "cell_type": "code",
   "execution_count": 186,
   "metadata": {},
   "outputs": [],
   "source": [
    "# Preparing parameters grid \n",
    "param_grid = { \n",
    "    'n_estimators': [200, 500, 700],\n",
    "    'max_features': ['auto', 'sqrt', 'log2'],\n",
    "    'n_jobs':[-1,1,2,3,4]\n",
    "}"
   ]
  },
  {
   "cell_type": "code",
   "execution_count": 187,
   "metadata": {},
   "outputs": [],
   "source": [
    "# Running grid-search\n",
    "CV_rfc = GridSearchCV(RandomForestClassifier(), param_grid=param_grid, cv= 10)"
   ]
  },
  {
   "cell_type": "code",
   "execution_count": 189,
   "metadata": {},
   "outputs": [],
   "source": [
    "# fitting the model\n",
    "#CV_rfc.fit(X, y)\n"
   ]
  },
  {
   "cell_type": "markdown",
   "metadata": {},
   "source": [
    "Best parameters using gridsearch:\n",
    "RandomForestClassifier(bootstrap=True, class_weight=None, criterion='gini',\n",
    "            max_depth=None, max_features='auto', max_leaf_nodes=None,\n",
    "            min_impurity_decrease=0.0, min_impurity_split=None,\n",
    "            min_samples_leaf=1, min_samples_split=2,\n",
    "            min_weight_fraction_leaf=0.0, n_estimators=700, n_jobs=4,\n",
    "            oob_score=True, random_state=None, verbose=0, warm_start=False)"
   ]
  },
  {
   "cell_type": "markdown",
   "metadata": {},
   "source": [
    "#### Using the best estimators in make predictions in Random Forest Model"
   ]
  },
  {
   "cell_type": "code",
   "execution_count": 172,
   "metadata": {},
   "outputs": [
    {
     "name": "stdout",
     "output_type": "stream",
     "text": [
      "0.8036646534957519\n",
      "                   precision    recall  f1-score   support\n",
      "\n",
      " high-earner = no       0.86      0.89      0.87      7401\n",
      "high-earner = yes       0.61      0.54      0.57      2368\n",
      "\n",
      "        micro avg       0.80      0.80      0.80      9769\n",
      "        macro avg       0.73      0.72      0.72      9769\n",
      "     weighted avg       0.80      0.80      0.80      9769\n",
      "\n",
      "Time to run 4.8309000703739e-05 seconds\n"
     ]
    }
   ],
   "source": [
    "# 12th Model :  Training random forest with best estimators\n",
    "#paralleized to 4 cores \n",
    "rf_best = RandomForestClassifier(n_estimators= 700,n_jobs=4,oob_score=True, max_features = 'auto')\n",
    "rf_best.fit(income_train, income_train_target)\n",
    "# test random forest model\n",
    "pred_rf_best = rf_best.predict(income_test)\n",
    "# summarize the fit model\n",
    "print(accuracy_score(income_test_target, pred_rf_best))\n",
    "target_names = [\"high-earner = no\", \"high-earner = yes\"]\n",
    "print(classification_report(income_test_target, pred_rf_best, target_names=target_names))\n",
    "start_time = time.clock()\n",
    "print(\"Time to run\", time.clock() - start_time, \"seconds\")"
   ]
  },
  {
   "cell_type": "code",
   "execution_count": 142,
   "metadata": {},
   "outputs": [
    {
     "name": "stdout",
     "output_type": "stream",
     "text": [
      "ROC AUC: 0.715\n"
     ]
    },
    {
     "data": {
      "image/png": "[encoded data removed]",
      "text/plain": [
       "<Figure size 432x288 with 1 Axes>"
      ]
     },
     "metadata": {
      "needs_background": "light"
     },
     "output_type": "display_data"
    }
   ],
   "source": [
    "# Determine the false positive and true positive rates\n",
    "from sklearn.metrics import roc_curve, auc\n",
    "\n",
    "\n",
    "fpr, tpr, _ = roc_curve(income_test_target, pred_rf-best) \n",
    "    \n",
    "# Calculate the AUC\n",
    "roc_auc = auc(fpr, tpr)\n",
    "print('ROC AUC: %0.3f' % roc_auc)\n",
    "# here AUC is around 72% \n",
    " \n",
    "# Plot of a ROC curve for a specific class\n",
    "plt.figure()\n",
    "plt.plot(fpr, tpr, label='ROC curve (area = %0.3f)' % roc_auc)\n",
    "plt.plot([0, 1], [0, 1], 'k--')\n",
    "plt.xlim([0.0, 1.0])\n",
    "plt.ylim([0.0, 1.05])\n",
    "plt.xlabel('False Positive Rate')\n",
    "plt.ylabel('True Positive Rate')\n",
    "plt.title('ROC Curve')\n",
    "plt.legend(loc=\"lower right\")\n",
    "plt.show()"
   ]
  },
  {
   "cell_type": "markdown",
   "metadata": {},
   "source": [
    "### Bagging Classifier"
   ]
  },
  {
   "cell_type": "code",
   "execution_count": 250,
   "metadata": {},
   "outputs": [
    {
     "name": "stdout",
     "output_type": "stream",
     "text": [
      "Bagging Accuracy 0.8040741119868974\n",
      "                   precision    recall  f1-score   support\n",
      "\n",
      " high-earner = no       0.86      0.88      0.87      7401\n",
      "high-earner = yes       0.60      0.55      0.58      2368\n",
      "\n",
      "        micro avg       0.80      0.80      0.80      9769\n",
      "        macro avg       0.73      0.72      0.73      9769\n",
      "     weighted avg       0.80      0.80      0.80      9769\n",
      "\n",
      "[[6544  857]\n",
      " [1057 1311]]\n"
     ]
    }
   ],
   "source": [
    "# 13th Model : Bagging Classifer -1\n",
    "from sklearn.ensemble import BaggingClassifier\n",
    "clf_bag = BaggingClassifier(n_estimators=100, random_state=7)\n",
    "\n",
    "clf_bag.fit(income_train, income_train_target)\n",
    "predicted_bag=clf_bag.predict(income_test)\n",
    "expected = income_test_target\n",
    "target_names = [\"high-earner = no\", \"high-earner = yes\"]\n",
    "print(\"Bagging Accuracy\", accuracy_score(expected,predicted_bag ))\n",
    "print(classification_report(expected, predicted_bag,target_names=target_names))\n",
    "print(confusion_matrix(expected, predicted_bag))"
   ]
  },
  {
   "cell_type": "code",
   "execution_count": 251,
   "metadata": {},
   "outputs": [
    {
     "name": "stdout",
     "output_type": "stream",
     "text": [
      "[[6544  857]\n",
      " [1057 1311]]\n"
     ]
    },
    {
     "data": {
      "text/plain": [
       "Text(0.5, 0, 'Predicted label')"
      ]
     },
     "execution_count": 251,
     "metadata": {},
     "output_type": "execute_result"
    },
    {
     "data": {
      "image/png": "[encoded data removed]",
      "text/plain": [
       "<Figure size 288x288 with 2 Axes>"
      ]
     },
     "metadata": {
      "needs_background": "light"
     },
     "output_type": "display_data"
    }
   ],
   "source": [
    "# displaying confusion matrix\n",
    "bag_cm = confusion_matrix(income_test_target, predicted_bag)\n",
    "print(bag_cm)\n",
    "plt.matshow(bag_cm)\n",
    "plt.title('Confusion matrix for Bagging')\n",
    "plt.colorbar()\n",
    "plt.ylabel('True label')\n",
    "plt.xlabel('Predicted label')"
   ]
  },
  {
   "cell_type": "code",
   "execution_count": 172,
   "metadata": {},
   "outputs": [
    {
     "name": "stdout",
     "output_type": "stream",
     "text": [
      "Cross Validation Score for each K [0.77412281 0.78333333 0.77938596 0.77885037 0.77928916 0.77753401\n",
      " 0.77577885 0.77928916 0.78148311 0.78138718]\n"
     ]
    },
    {
     "data": {
      "text/plain": [
       "0.7790453946940095"
      ]
     },
     "execution_count": 172,
     "metadata": {},
     "output_type": "execute_result"
    }
   ],
   "source": [
    "#verifing bagging classifier-1 with cross validation \n",
    "scores_bag = cross_val_score(clf_bag, income_train, income_train_target, cv=10,scoring ='accuracy')\n",
    "print(\"Cross Validation Score for each K\",scores_bag)\n",
    "scores_bag.mean()"
   ]
  },
  {
   "cell_type": "code",
   "execution_count": 174,
   "metadata": {},
   "outputs": [
    {
     "name": "stdout",
     "output_type": "stream",
     "text": [
      "Bagging Accuracy 0.8232162964479476\n",
      "                   precision    recall  f1-score   support\n",
      "\n",
      " high-earner = no       0.84      0.94      0.89      7401\n",
      "high-earner = yes       0.71      0.45      0.55      2368\n",
      "\n",
      "        micro avg       0.82      0.82      0.82      9769\n",
      "        macro avg       0.78      0.70      0.72      9769\n",
      "     weighted avg       0.81      0.82      0.81      9769\n",
      "\n",
      "[[6976  425]\n",
      " [1302 1066]]\n"
     ]
    }
   ],
   "source": [
    "# 14th Model : Bagging Classifer -2\n",
    "from sklearn.ensemble import BaggingClassifier\n",
    "clf_bag2 = BaggingClassifier(n_estimators=500,n_jobs=-1, random_state=7,max_features=0.5)\n",
    "#print(clf_bag2)\n",
    "clf_bag2.fit(income_train, income_train_target)\n",
    "predicted_bag2=clf_bag2.predict(income_test)\n",
    "expected = income_test_target\n",
    "target_names = [\"high-earner = no\", \"high-earner = yes\"]\n",
    "print(\"Bagging Accuracy\", accuracy_score(expected,predicted_bag2))\n",
    "print(classification_report(expected, predicted_bag2,target_names=target_names))\n",
    "print(confusion_matrix(expected, predicted_bag2))"
   ]
  },
  {
   "cell_type": "code",
   "execution_count": 175,
   "metadata": {},
   "outputs": [
    {
     "name": "stdout",
     "output_type": "stream",
     "text": [
      "Cross Validation Score for each K [0.81842105 0.82763158 0.82807018 0.83238262 0.82711716 0.82887231\n",
      " 0.82053532 0.825362   0.83808688 0.82045654]\n"
     ]
    },
    {
     "data": {
      "text/plain": [
       "0.8266935644464155"
      ]
     },
     "execution_count": 175,
     "metadata": {},
     "output_type": "execute_result"
    }
   ],
   "source": [
    "#verifing bagging classifier-2 with cross validation\n",
    "scores_bag2 = cross_val_score(clf_bag2, income_train, income_train_target, cv=10,scoring ='accuracy')\n",
    "print(\"Cross Validation Score for each K\",scores_bag2)\n",
    "scores_bag2.mean()"
   ]
  },
  {
   "cell_type": "markdown",
   "metadata": {},
   "source": [
    "Range of testing accuracy is between 81.8%-83.2%  \n",
    "Our mean accuracy score is around 83%. \n",
    "Previous train tests split accuracy score = 82%.\n",
    "So, we can say that this model with cross-validation is slightly(1.0) better performing than previous train tests split."
   ]
  },
  {
   "cell_type": "code",
   "execution_count": 177,
   "metadata": {},
   "outputs": [
    {
     "name": "stdout",
     "output_type": "stream",
     "text": [
      "Bagging Accuracy 0.7760262053434334\n",
      "                   precision    recall  f1-score   support\n",
      "\n",
      " high-earner = no       0.77      0.99      0.87      7401\n",
      "high-earner = yes       0.84      0.09      0.17      2368\n",
      "\n",
      "        micro avg       0.78      0.78      0.78      9769\n",
      "        macro avg       0.81      0.54      0.52      9769\n",
      "     weighted avg       0.79      0.78      0.70      9769\n",
      "\n",
      "[[7360   41]\n",
      " [2147  221]]\n"
     ]
    }
   ],
   "source": [
    "# 15th Model : Bagging Classifer -3\n",
    "from sklearn.ensemble import BaggingClassifier\n",
    "clf_bag3 = BaggingClassifier(n_estimators=500,n_jobs=-1, random_state=7,max_features=5)\n",
    "\n",
    "clf_bag3.fit(income_train, income_train_target)\n",
    "predicted_bag3=clf_bag3.predict(income_test)\n",
    "expected = income_test_target\n",
    "target_names = [\"high-earner = no\", \"high-earner = yes\"]\n",
    "print(\"Bagging Accuracy\", accuracy_score(expected,predicted_bag3))\n",
    "print(classification_report(expected, predicted_bag3,target_names=target_names))\n",
    "print(confusion_matrix(expected, predicted_bag3))"
   ]
  },
  {
   "cell_type": "code",
   "execution_count": 178,
   "metadata": {},
   "outputs": [
    {
     "name": "stdout",
     "output_type": "stream",
     "text": [
      "Cross Validation Score for each K [0.77412281 0.78333333 0.77938596 0.77885037 0.77928916 0.77753401\n",
      " 0.77577885 0.77928916 0.78148311 0.78138718]\n"
     ]
    },
    {
     "data": {
      "text/plain": [
       "0.7790453946940095"
      ]
     },
     "execution_count": 178,
     "metadata": {},
     "output_type": "execute_result"
    }
   ],
   "source": [
    "#verifing bagging classifier with cross validation income_train, income_train_target\n",
    "scores_bag3 = cross_val_score(clf_bag3, income_train, income_train_target, cv=10,scoring ='accuracy')\n",
    "print(\"Cross Validation Score for each K\",scores_bag3)\n",
    "scores_bag3.mean()"
   ]
  },
  {
   "cell_type": "markdown",
   "metadata": {},
   "source": [
    "### Extra Trees Classifier"
   ]
  },
  {
   "cell_type": "code",
   "execution_count": 252,
   "metadata": {},
   "outputs": [
    {
     "name": "stdout",
     "output_type": "stream",
     "text": [
      "Extra Trees 0.7184972873374962\n",
      "                   precision    recall  f1-score   support\n",
      "\n",
      " high-earner = no       0.93      0.68      0.79      7401\n",
      "high-earner = yes       0.46      0.84      0.59      2368\n",
      "\n",
      "        micro avg       0.72      0.72      0.72      9769\n",
      "        macro avg       0.69      0.76      0.69      9769\n",
      "     weighted avg       0.81      0.72      0.74      9769\n",
      "\n",
      "[[5040 2361]\n",
      " [ 389 1979]]\n"
     ]
    }
   ],
   "source": [
    "# 16th Model : Extra Trees Classifier-1\n",
    "from sklearn.ensemble import ExtraTreesClassifier\n",
    "xtc = ExtraTreesClassifier(max_depth=3,\n",
    "                         n_estimators=10,n_jobs=1,class_weight='balanced')\n",
    "xtc.fit(income_train, income_train_target)\n",
    "predicted_xtc=xtc.predict(income_test)\n",
    "expected = income_test_target\n",
    "target_names = [\"high-earner = no\", \"high-earner = yes\"]\n",
    "print(\"Extra Trees\", accuracy_score(expected,predicted_xtc))\n",
    "print(classification_report(expected, predicted_xtc,target_names=target_names))\n",
    "print(confusion_matrix(expected, predicted_xtc))"
   ]
  },
  {
   "cell_type": "code",
   "execution_count": 253,
   "metadata": {},
   "outputs": [
    {
     "name": "stdout",
     "output_type": "stream",
     "text": [
      "[[5040 2361]\n",
      " [ 389 1979]]\n"
     ]
    },
    {
     "data": {
      "text/plain": [
       "Text(0.5, 0, 'Predicted label')"
      ]
     },
     "execution_count": 253,
     "metadata": {},
     "output_type": "execute_result"
    },
    {
     "data": {
      "image/png": "[encoded data removed]",
      "text/plain": [
       "<Figure size 288x288 with 2 Axes>"
      ]
     },
     "metadata": {
      "needs_background": "light"
     },
     "output_type": "display_data"
    }
   ],
   "source": [
    "# displaying confusion matrix\n",
    "xtc_cm = confusion_matrix(income_test_target, predicted_xtc)\n",
    "print(xtc_cm)\n",
    "plt.matshow(xtc_cm)\n",
    "plt.title('Confusion matrix for Bagging')\n",
    "plt.colorbar()\n",
    "plt.ylabel('True label')\n",
    "plt.xlabel('Predicted label')"
   ]
  },
  {
   "cell_type": "code",
   "execution_count": 180,
   "metadata": {},
   "outputs": [
    {
     "name": "stdout",
     "output_type": "stream",
     "text": [
      "Cross Validation Score for each K [0.7004386  0.72236842 0.7627193  0.72312418 0.68319438 0.73058359\n",
      " 0.71215445 0.74945151 0.73189996 0.71334504]\n"
     ]
    },
    {
     "data": {
      "text/plain": [
       "0.7229279429014357"
      ]
     },
     "execution_count": 180,
     "metadata": {},
     "output_type": "execute_result"
    }
   ],
   "source": [
    "#verifing Extra Trees Classifier-1 with 10-fold cross validation \n",
    "scores_xtc = cross_val_score(xdt, income_train, income_train_target, cv=10,scoring ='accuracy')\n",
    "print(\"Cross Validation Score for each K\",scores_xtc)\n",
    "scores_xtc.mean()"
   ]
  },
  {
   "cell_type": "markdown",
   "metadata": {},
   "source": [
    "Range of testing accuracy is between 68%-76%  which depicts variation\n",
    "Our mean accuracy score is around 72.29%. \n",
    "Previous train tests split accuracy score = 71.84%.\n",
    "So, we can say that this model with cross-validation is slightly(0.45) better performing than previous train tests split."
   ]
  },
  {
   "cell_type": "code",
   "execution_count": 182,
   "metadata": {},
   "outputs": [
    {
     "name": "stdout",
     "output_type": "stream",
     "text": [
      "Extra Trees 0.7050875217524823\n",
      "                   precision    recall  f1-score   support\n",
      "\n",
      " high-earner = no       0.94      0.66      0.77      7401\n",
      "high-earner = yes       0.44      0.86      0.59      2368\n",
      "\n",
      "        micro avg       0.71      0.71      0.71      9769\n",
      "        macro avg       0.69      0.76      0.68      9769\n",
      "     weighted avg       0.82      0.71      0.73      9769\n",
      "\n",
      "[[4853 2548]\n",
      " [ 333 2035]]\n"
     ]
    }
   ],
   "source": [
    "# 17th Model : Extra Trees Classifier-2\n",
    "from sklearn.ensemble import ExtraTreesClassifier\n",
    "xtc2 = ExtraTreesClassifier(max_depth=3,\n",
    "                         n_estimators=100,n_jobs=-1,class_weight='balanced')\n",
    "xtc2.fit(income_train, income_train_target)\n",
    "predicted_xtc2=xtc2.predict(income_test)\n",
    "expected = income_test_target\n",
    "target_names = [\"high-earner = no\", \"high-earner = yes\"]\n",
    "print(\"Extra Trees\", accuracy_score(expected,predicted_xtc2))\n",
    "print(classification_report(expected, predicted_xtc2,target_names=target_names))\n",
    "print(confusion_matrix(expected, predicted_xtc2))"
   ]
  },
  {
   "cell_type": "code",
   "execution_count": 183,
   "metadata": {},
   "outputs": [
    {
     "name": "stdout",
     "output_type": "stream",
     "text": [
      "Cross Validation Score for each K [0.7127193  0.71578947 0.7122807  0.71873629 0.69591926 0.71390961\n",
      " 0.71654234 0.71522598 0.71083809 0.71817384]\n"
     ]
    },
    {
     "data": {
      "text/plain": [
       "0.7130134876859595"
      ]
     },
     "execution_count": 183,
     "metadata": {},
     "output_type": "execute_result"
    }
   ],
   "source": [
    "#verifing Extra Trees Classifier-2 with 10-fold cross validation\n",
    "scores_xtc2 = cross_val_score(xtc2, income_train, income_train_target, cv=10,scoring ='accuracy')\n",
    "print(\"Cross Validation Score for each K\",scores_xtc2)\n",
    "scores_xtc2.mean()"
   ]
  },
  {
   "cell_type": "code",
   "execution_count": 179,
   "metadata": {},
   "outputs": [
    {
     "name": "stdout",
     "output_type": "stream",
     "text": [
      "Extra Trees 0.7066229910942778\n",
      "                   precision    recall  f1-score   support\n",
      "\n",
      " high-earner = no       0.93      0.66      0.77      7401\n",
      "high-earner = yes       0.44      0.85      0.58      2368\n",
      "\n",
      "        micro avg       0.71      0.71      0.71      9769\n",
      "        macro avg       0.69      0.75      0.68      9769\n",
      "     weighted avg       0.81      0.71      0.73      9769\n",
      "\n",
      "[[4901 2500]\n",
      " [ 366 2002]]\n"
     ]
    }
   ],
   "source": [
    "# 18th Model : Extra Trees Classifier-3\n",
    "from sklearn.ensemble import ExtraTreesClassifier\n",
    "xtc2 = ExtraTreesClassifier(max_depth=2,\n",
    "                         n_estimators=200,n_jobs=-1,class_weight='balanced')\n",
    "xtc2.fit(income_train, income_train_target)\n",
    "predicted_xtc2=xtc2.predict(income_test)\n",
    "expected = income_test_target\n",
    "target_names = [\"high-earner = no\", \"high-earner = yes\"]\n",
    "print(\"Extra Trees\", accuracy_score(expected,predicted_xtc2))\n",
    "print(classification_report(expected, predicted_xtc2,target_names=target_names))\n",
    "print(confusion_matrix(expected, predicted_xtc2))"
   ]
  },
  {
   "cell_type": "markdown",
   "metadata": {},
   "source": [
    "### Gradient Boosting Classification"
   ]
  },
  {
   "cell_type": "code",
   "execution_count": 157,
   "metadata": {},
   "outputs": [
    {
     "name": "stdout",
     "output_type": "stream",
     "text": [
      "Gradient Boost Accuracy 0.8251612242808886\n",
      "                   precision    recall  f1-score   support\n",
      "\n",
      " high-earner = no       0.85      0.94      0.89      7401\n",
      "high-earner = yes       0.71      0.47      0.56      2368\n",
      "\n",
      "        micro avg       0.83      0.83      0.83      9769\n",
      "        macro avg       0.78      0.70      0.73      9769\n",
      "     weighted avg       0.81      0.83      0.81      9769\n",
      "\n",
      "[[6956  445]\n",
      " [1263 1105]]\n"
     ]
    }
   ],
   "source": [
    "# 19th Model : Gradient Boosting classifier-1\n",
    "from sklearn.ensemble import GradientBoostingClassifier\n",
    "clf_GBC = GradientBoostingClassifier(n_estimators=200, learning_rate=0.01, max_depth=3, random_state=1)\n",
    "clf_GBC.fit(income_train, income_train_target)\n",
    "predicted_GBC=clf_GBC.predict(income_test)\n",
    "expected = income_test_target\n",
    "target_names = [\"high-earner = no\", \"high-earner = yes\"]\n",
    "print(\"Gradient Boost Accuracy\", accuracy_score(expected,predicted_GBC))\n",
    "print(classification_report(expected, predicted_GBC,target_names=target_names))\n",
    "print(confusion_matrix(expected, predicted_GBC))\n",
    "# when max_depth = 1, my recall & precision were 0.00 for yes class but setting max_depth = 3 changed the result"
   ]
  },
  {
   "cell_type": "code",
   "execution_count": 184,
   "metadata": {},
   "outputs": [
    {
     "name": "stdout",
     "output_type": "stream",
     "text": [
      "Cross Validation Score for each K [0.83464912 0.83289474 0.83640351 0.83369899 0.82974989 0.83984204\n",
      " 0.8372093  0.83764809 0.84335235 0.82967515]\n"
     ]
    },
    {
     "data": {
      "text/plain": [
       "0.8355123180248013"
      ]
     },
     "execution_count": 184,
     "metadata": {},
     "output_type": "execute_result"
    }
   ],
   "source": [
    "#verifing Gradient Boosting classifier-1 with 10-fold cross validation\n",
    "scores_GBC = cross_val_score(clf_GBC, income_train, income_train_target, cv=10,scoring ='accuracy')\n",
    "print(\"Cross Validation Score for each K\",scores_GBC)\n",
    "scores_GBC.mean()"
   ]
  },
  {
   "cell_type": "code",
   "execution_count": 185,
   "metadata": {},
   "outputs": [
    {
     "name": "stdout",
     "output_type": "stream",
     "text": [
      "Gradient Boost Accuracy 0.8267990582454704\n",
      "                   precision    recall  f1-score   support\n",
      "\n",
      " high-earner = no       0.86      0.91      0.89      7401\n",
      "high-earner = yes       0.67      0.55      0.61      2368\n",
      "\n",
      "        micro avg       0.83      0.83      0.83      9769\n",
      "        macro avg       0.77      0.73      0.75      9769\n",
      "     weighted avg       0.82      0.83      0.82      9769\n",
      "\n",
      "[[6770  631]\n",
      " [1061 1307]]\n"
     ]
    }
   ],
   "source": [
    "# 20th Model : Gradient Boosting classifier-2\n",
    "from sklearn.ensemble import GradientBoostingClassifier\n",
    "clf_GBC2 = GradientBoostingClassifier(n_estimators=300, learning_rate=0.1, max_depth=2, random_state=1)\n",
    "clf_GBC2.fit(income_train, income_train_target)\n",
    "predicted_GBC2=clf_GBC2.predict(income_test)\n",
    "expected = income_test_target\n",
    "target_names = [\"high-earner = no\", \"high-earner = yes\"]\n",
    "print(\"Gradient Boost Accuracy\", accuracy_score(expected,predicted_GBC2))\n",
    "print(classification_report(expected, predicted_GBC2,target_names=target_names))\n",
    "print(confusion_matrix(expected, predicted_GBC2))"
   ]
  },
  {
   "cell_type": "code",
   "execution_count": 186,
   "metadata": {},
   "outputs": [
    {
     "name": "stdout",
     "output_type": "stream",
     "text": [
      "Cross Validation Score for each K [0.83464912 0.83289474 0.83640351 0.83369899 0.82974989 0.83984204\n",
      " 0.8372093  0.83764809 0.84335235 0.82967515]\n"
     ]
    },
    {
     "data": {
      "text/plain": [
       "0.8355123180248013"
      ]
     },
     "execution_count": 186,
     "metadata": {},
     "output_type": "execute_result"
    }
   ],
   "source": [
    "#verifing Gradient Boosting classifier-2 with 10-fold cross validation\n",
    "scores_GBC2 = cross_val_score(clf_GBC2, income_train, income_train_target, cv=10,scoring ='accuracy')\n",
    "print(\"Cross Validation Score for each K\",scores_GBC2)\n",
    "scores_GBC2.mean()"
   ]
  },
  {
   "cell_type": "code",
   "execution_count": 254,
   "metadata": {},
   "outputs": [
    {
     "name": "stdout",
     "output_type": "stream",
     "text": [
      "[[7041  360]\n",
      " [1398  970]]\n"
     ]
    },
    {
     "data": {
      "text/plain": [
       "Text(0.5, 0, 'Predicted label')"
      ]
     },
     "execution_count": 254,
     "metadata": {},
     "output_type": "execute_result"
    },
    {
     "data": {
      "image/png": "[encoded data removed]",
      "text/plain": [
       "<Figure size 288x288 with 2 Axes>"
      ]
     },
     "metadata": {
      "needs_background": "light"
     },
     "output_type": "display_data"
    }
   ],
   "source": [
    "# displaying confusion matrix\n",
    "gbc2_cm = confusion_matrix(income_test_target,predicted_GBC2)\n",
    "print(gbc2_cm)\n",
    "plt.matshow(gbc2_cm)\n",
    "plt.title('Confusion matrix for Gradient Boosting')\n",
    "plt.colorbar()\n",
    "plt.ylabel('True label')\n",
    "plt.xlabel('Predicted label')"
   ]
  },
  {
   "cell_type": "code",
   "execution_count": 148,
   "metadata": {},
   "outputs": [
    {
     "name": "stdout",
     "output_type": "stream",
     "text": [
      "Gradient Boost Accuracy 0.8200429931415703\n",
      "                   precision    recall  f1-score   support\n",
      "\n",
      " high-earner = no       0.83      0.95      0.89      7401\n",
      "high-earner = yes       0.73      0.41      0.52      2368\n",
      "\n",
      "        micro avg       0.82      0.82      0.82      9769\n",
      "        macro avg       0.78      0.68      0.71      9769\n",
      "     weighted avg       0.81      0.82      0.80      9769\n",
      "\n",
      "[[7041  360]\n",
      " [1398  970]]\n"
     ]
    }
   ],
   "source": [
    "# 21st Model : Gradient Boosting classifier-3\n",
    "from sklearn.ensemble import GradientBoostingClassifier\n",
    "clf_GBC3 = GradientBoostingClassifier(n_estimators=500, learning_rate=0.01, max_depth=1, random_state=1)\n",
    "clf_GBC3.fit(income_train, income_train_target)\n",
    "predicted_GBC3=clf_GBC3.predict(income_test)\n",
    "expected = income_test_target\n",
    "target_names = [\"high-earner = no\", \"high-earner = yes\"]\n",
    "print(\"Gradient Boost Accuracy\", accuracy_score(expected,predicted_GBC3))\n",
    "print(classification_report(expected, predicted_GBC3,target_names=target_names))\n",
    "print(confusion_matrix(expected, predicted_GBC3))"
   ]
  },
  {
   "cell_type": "markdown",
   "metadata": {},
   "source": [
    "### AdaBoost Classifier"
   ]
  },
  {
   "cell_type": "code",
   "execution_count": 187,
   "metadata": {},
   "outputs": [
    {
     "name": "stdout",
     "output_type": "stream",
     "text": [
      "Adaboost Accuracy 0.8249564950353158\n",
      "                   precision    recall  f1-score   support\n",
      "\n",
      " high-earner = no       0.87      0.90      0.89      7401\n",
      "high-earner = yes       0.66      0.58      0.62      2368\n",
      "\n",
      "        micro avg       0.82      0.82      0.82      9769\n",
      "        macro avg       0.76      0.74      0.75      9769\n",
      "     weighted avg       0.82      0.82      0.82      9769\n",
      "\n",
      "[[6682  719]\n",
      " [ 991 1377]]\n"
     ]
    }
   ],
   "source": [
    "# 22nd Model : Adaboost Classifier-1\n",
    "from sklearn.ensemble import AdaBoostClassifier\n",
    "from sklearn.tree import DecisionTreeClassifier\n",
    "bdt = AdaBoostClassifier(DecisionTreeClassifier(max_depth=3),\n",
    "                         algorithm=\"SAMME\",\n",
    "                         n_estimators=200)\n",
    "bdt.fit(income_train, income_train_target)\n",
    "predicted_bdt=bdt.predict(income_test)\n",
    "expected = income_test_target\n",
    "target_names = [\"high-earner = no\", \"high-earner = yes\"]\n",
    "print(\"Adaboost Accuracy\", accuracy_score(expected,predicted_bdt))\n",
    "print(classification_report(expected, predicted_bdt,target_names=target_names))\n",
    "print(confusion_matrix(expected, predicted_bdt))"
   ]
  },
  {
   "cell_type": "code",
   "execution_count": 189,
   "metadata": {},
   "outputs": [
    {
     "name": "stdout",
     "output_type": "stream",
     "text": [
      "Cross Validation Score for each K [0.83289474 0.82894737 0.83114035 0.83896446 0.83062747 0.8372093\n",
      " 0.82623958 0.83589294 0.84598508 0.82396839]\n"
     ]
    },
    {
     "data": {
      "text/plain": [
       "0.8331869673513467"
      ]
     },
     "execution_count": 189,
     "metadata": {},
     "output_type": "execute_result"
    }
   ],
   "source": [
    "#verifing Adaboost Classifier-1 with 10-fold cross validation\n",
    "scores_bdt = cross_val_score(bdt, income_train, income_train_target, cv=10,scoring ='accuracy')\n",
    "print(\"Cross Validation Score for each K\",scores_bdt)\n",
    "scores_bdt.mean()"
   ]
  },
  {
   "cell_type": "code",
   "execution_count": 247,
   "metadata": {},
   "outputs": [
    {
     "name": "stdout",
     "output_type": "stream",
     "text": [
      "Adaboost Accuracy 0.8297676323062749\n",
      "                   precision    recall  f1-score   support\n",
      "\n",
      " high-earner = no       0.86      0.92      0.89      7401\n",
      "high-earner = yes       0.69      0.55      0.61      2368\n",
      "\n",
      "        micro avg       0.83      0.83      0.83      9769\n",
      "        macro avg       0.78      0.73      0.75      9769\n",
      "     weighted avg       0.82      0.83      0.82      9769\n",
      "\n",
      "[[6815  586]\n",
      " [1077 1291]]\n"
     ]
    }
   ],
   "source": [
    "# 23rd Model : Adaboost Classifier-2\n",
    "from sklearn.ensemble import AdaBoostClassifier\n",
    "from sklearn.tree import DecisionTreeClassifier\n",
    "bdt2 = AdaBoostClassifier(DecisionTreeClassifier(max_depth=3),\n",
    "                         algorithm=\"SAMME.R\",\n",
    "                         n_estimators=100,learning_rate=0.1)\n",
    "bdt2.fit(income_train, income_train_target)\n",
    "predicted_bdt2=bdt2.predict(income_test)\n",
    "expected = income_test_target\n",
    "target_names = [\"high-earner = no\", \"high-earner = yes\"]\n",
    "print(\"Adaboost Accuracy\", accuracy_score(expected,predicted_bdt2))\n",
    "print(classification_report(expected, predicted_bdt2,target_names=target_names))\n",
    "print(confusion_matrix(expected, predicted_bdt2))"
   ]
  },
  {
   "cell_type": "code",
   "execution_count": 198,
   "metadata": {},
   "outputs": [
    {
     "name": "stdout",
     "output_type": "stream",
     "text": [
      "Cross Validation Score for each K [0.83596491 0.83201754 0.83114035 0.83369899 0.83106626 0.84203598\n",
      " 0.83764809 0.84028082 0.84335235 0.83318701]\n"
     ]
    },
    {
     "data": {
      "text/plain": [
       "0.836039230548448"
      ]
     },
     "execution_count": 198,
     "metadata": {},
     "output_type": "execute_result"
    }
   ],
   "source": [
    "#verifing Adaboost Classifier-2 with 10-fold cross validation \n",
    "scores_bdt2 = cross_val_score(bdt2, income_train, income_train_target, cv=10,scoring ='accuracy')\n",
    "print(\"Cross Validation Score for each K\",scores_bdt2)\n",
    "scores_bdt2.mean()"
   ]
  },
  {
   "cell_type": "markdown",
   "metadata": {},
   "source": [
    "Range of testing accuracy is between 83.1%-84.3%  \n",
    "Our mean accuracy score is around 84%. \n",
    "Previous train tests split accuracy score = 83%.\n",
    "So, we can say that this model with cross-validation is slightly(1.0) better performing than previous train tests split. "
   ]
  },
  {
   "cell_type": "code",
   "execution_count": 249,
   "metadata": {},
   "outputs": [
    {
     "name": "stdout",
     "output_type": "stream",
     "text": [
      "[[6815  586]\n",
      " [1077 1291]]\n"
     ]
    },
    {
     "data": {
      "text/plain": [
       "Text(0.5, 0, 'Predicted label')"
      ]
     },
     "execution_count": 249,
     "metadata": {},
     "output_type": "execute_result"
    },
    {
     "data": {
      "image/png": "[encoded data removed]",
      "text/plain": [
       "<Figure size 288x288 with 2 Axes>"
      ]
     },
     "metadata": {
      "needs_background": "light"
     },
     "output_type": "display_data"
    }
   ],
   "source": [
    "# displaying confusion matrix\n",
    "bdt2_cm = confusion_matrix(income_test_target, predicted_bdt2)\n",
    "print(bdt2_cm)\n",
    "plt.matshow(bdt2_cm)\n",
    "plt.title('Confusion matrix for Adaboost')\n",
    "plt.colorbar()\n",
    "plt.ylabel('True label')\n",
    "plt.xlabel('Predicted label')"
   ]
  },
  {
   "cell_type": "code",
   "execution_count": 149,
   "metadata": {},
   "outputs": [
    {
     "name": "stdout",
     "output_type": "stream",
     "text": [
      "Adaboost Accuracy 0.8254683181492476\n",
      "                   precision    recall  f1-score   support\n",
      "\n",
      " high-earner = no       0.85      0.94      0.89      7401\n",
      "high-earner = yes       0.71      0.48      0.57      2368\n",
      "\n",
      "        micro avg       0.83      0.83      0.83      9769\n",
      "        macro avg       0.78      0.71      0.73      9769\n",
      "     weighted avg       0.81      0.83      0.81      9769\n",
      "\n",
      "[[6926  475]\n",
      " [1230 1138]]\n"
     ]
    }
   ],
   "source": [
    "# 24th Model : Adaboost Classifier-3\n",
    "from sklearn.ensemble import AdaBoostClassifier\n",
    "from sklearn.tree import DecisionTreeClassifier\n",
    "bdt3 = AdaBoostClassifier(DecisionTreeClassifier(max_depth=2),\n",
    "                         algorithm=\"SAMME.R\",\n",
    "                         n_estimators=300,learning_rate=0.01)\n",
    "bdt3.fit(income_train, income_train_target)\n",
    "predicted_bdt3=bdt3.predict(income_test)\n",
    "expected = income_test_target\n",
    "target_names = [\"high-earner = no\", \"high-earner = yes\"]\n",
    "print(\"Adaboost Accuracy\", accuracy_score(expected,predicted_bdt3))\n",
    "print(classification_report(expected, predicted_bdt3,target_names=target_names))\n",
    "print(confusion_matrix(expected, predicted_bdt3))"
   ]
  },
  {
   "cell_type": "code",
   "execution_count": 210,
   "metadata": {},
   "outputs": [
    {
     "name": "stdout",
     "output_type": "stream",
     "text": [
      "Mean of:0.806, std: (+/-) 0.006 [RandomForestClassifier]\n",
      "Mean of:0.824,std: (+/-) 0.006 [Bagging RandomForestClassifier]\n",
      "\n",
      "Mean of:0.802, std: (+/-) 0.008 [ExtraTreesClassifier]\n",
      "Mean of:0.823,std: (+/-) 0.006 [Bagging ExtraTreesClassifier]\n",
      "\n",
      "Mean of:0.802, std: (+/-) 0.007 [KNeighborsClassifier]\n",
      "Mean of:0.819,std: (+/-) 0.005 [Bagging KNeighborsClassifier]\n",
      "\n",
      "Mean of:0.826, std: (+/-) 0.005 [SVC]\n",
      "Mean of:0.819,std: (+/-) 0.005 [Bagging SVC]\n",
      "\n",
      "Mean of:0.829, std: (+/-) 0.005 [AdaBoostClassifier]\n",
      "Mean of:0.823,std: (+/-) 0.006 [Bagging AdaBoostClassifier]\n",
      "\n"
     ]
    }
   ],
   "source": [
    "# 25th Model : bagging with 5 classifiers\n",
    "# Get some classifiers to evaluate\n",
    "from sklearn.model_selection import cross_val_score\n",
    "from sklearn.ensemble import BaggingClassifier, ExtraTreesClassifier, RandomForestClassifier\n",
    "from sklearn.neighbors import KNeighborsClassifier\n",
    "#from sklearn.linear_model import RidgeClassifier\n",
    "from sklearn.svm import SVC\n",
    "seed = 1075\n",
    "np.random.seed(seed)\n",
    "# Five classifiers\n",
    "rf = RandomForestClassifier()\n",
    "etc = ExtraTreesClassifier()\n",
    "knn = KNeighborsClassifier()\n",
    "svc = SVC()\n",
    "bdt = AdaBoostClassifier()\n",
    "clf_array = [rf, etc, knn, svc, bdt]\n",
    "for clf in clf_array:\n",
    "    vanilla_scores = cross_val_score(clf, X, y, cv=10, n_jobs=-1)\n",
    "    bagging_clf = BaggingClassifier(clf, \n",
    "       max_samples=0.4, max_features=10, random_state=seed)\n",
    "    bagging_scores = cross_val_score(bagging_clf, X, y, cv=10, \n",
    "       n_jobs=-1)\n",
    "    \n",
    "    print(\"Mean of:{1:.3f}, std: (+/-) {2:.3f} [{0}]\".format(clf.__class__.__name__,vanilla_scores.mean(), vanilla_scores.std()))\n",
    "    print(\"Mean of:{1:.3f},std: (+/-) {2:.3f} [Bagging {0}]\\n\".format(clf.__class__.__name__,bagging_scores.mean(), bagging_scores.std()))"
   ]
  },
  {
   "cell_type": "markdown",
   "metadata": {},
   "source": [
    "### Stacking"
   ]
  },
  {
   "cell_type": "code",
   "execution_count": 180,
   "metadata": {},
   "outputs": [
    {
     "name": "stdout",
     "output_type": "stream",
     "text": [
      "Accuracy: 0.81 (+/- 0.00) [Random Forest]\n",
      "Accuracy: 0.80 (+/- 0.00) [KNN]\n",
      "Accuracy: 0.83 (+/- 0.00) [AdaBoost]\n",
      "Accuracy: 0.80 (+/- 0.00) [Extra Trees]\n",
      "Accuracy: 0.82 (+/- 0.00) [Ensemble]\n"
     ]
    }
   ],
   "source": [
    "# 26th Model : Voting Classifier \n",
    "# using hard-voting\n",
    "from sklearn.model_selection import cross_val_score\n",
    "from sklearn import metrics\n",
    "from sklearn.neighbors import KNeighborsClassifier\n",
    "from sklearn.ensemble import RandomForestClassifier\n",
    "from sklearn.ensemble import VotingClassifier\n",
    "from sklearn.ensemble import AdaBoostClassifier\n",
    "from sklearn.tree import DecisionTreeClassifier\n",
    "# Four Models RF, KNN, BDT, ETC\n",
    "rf = RandomForestClassifier()\n",
    "knn = KNeighborsClassifier()\n",
    "bdt = AdaBoostClassifier()\n",
    "etc = ExtraTreesClassifier()\n",
    "eclf2 = VotingClassifier(estimators=[('rf', rf), ('knn', knn), ('bdt', bdt),('etc', etc)],\n",
    "                         voting='hard')\n",
    "for MV, label in zip([rf, knn, bdt, etc,eclf2], ['Random Forest', 'KNN', 'AdaBoost',\n",
    "                                                 'Extra Trees' ,'Ensemble']):\n",
    "\n",
    "    scores2 = cross_val_score(MV, income_train, income_train_target, cv=5, scoring='accuracy')\n",
    "    print(\"Accuracy: %0.2f (+/- %0.2f) [%s]\" % (scores2.mean(), scores2.std(), label))"
   ]
  },
  {
   "cell_type": "markdown",
   "metadata": {},
   "source": [
    "### Artificial Neural Network (ANN)\n",
    "Scaling the data first, next tuned parameters for activation,alpha, hidden layer, solvertolerance value and maximum iteration   "
   ]
  },
  {
   "cell_type": "code",
   "execution_count": 209,
   "metadata": {
    "scrolled": true
   },
   "outputs": [
    {
     "data": {
      "text/plain": [
       "array([[-0.99400255, -0.41743765, -0.03512657, ...,  0.41647827,\n",
       "        -0.70443261,  0.70443261],\n",
       "       [-0.33523082, -0.41743765,  0.36893354, ...,  0.41647827,\n",
       "        -0.70443261,  0.70443261],\n",
       "       [ 0.25034405,  1.14208189,  0.61136961, ...,  0.41647827,\n",
       "        -0.70443261,  0.70443261],\n",
       "       ...,\n",
       "       [ 0.25034405, -0.02755776,  0.93461769, ...,  0.41647827,\n",
       "        -0.70443261,  0.70443261],\n",
       "       [-1.4331837 , -0.41743765, -0.03512657, ..., -2.40108564,\n",
       "         1.41958221, -1.41958221],\n",
       "       [-0.70121511,  0.75220201, -0.03512657, ...,  0.41647827,\n",
       "         1.41958221, -1.41958221]])"
      ]
     },
     "execution_count": 209,
     "metadata": {},
     "output_type": "execute_result"
    }
   ],
   "source": [
    "# scaling before running ANN models\n",
    "from sklearn.preprocessing import StandardScaler  \n",
    "scaler = StandardScaler()  \n",
    "# Don't cheat - fit only on training data\n",
    "scaler.fit(income_train)  \n",
    "# applying transformation\n",
    "scaler.transform(income_train)\n",
    "# applying same transformation to test data\n",
    "scaler.transform(income_test) "
   ]
  },
  {
   "cell_type": "code",
   "execution_count": 215,
   "metadata": {},
   "outputs": [
    {
     "name": "stdout",
     "output_type": "stream",
     "text": [
      "ANN Accuracy 0.8228068379568021\n",
      "                   precision    recall  f1-score   support\n",
      "\n",
      " high-earner = no       0.86      0.92      0.89      7401\n",
      "high-earner = yes       0.67      0.52      0.59      2368\n",
      "\n",
      "        micro avg       0.82      0.82      0.82      9769\n",
      "        macro avg       0.77      0.72      0.74      9769\n",
      "     weighted avg       0.81      0.82      0.81      9769\n",
      "\n",
      "[[6796  605]\n",
      " [1126 1242]]\n"
     ]
    }
   ],
   "source": [
    "# 27th Model : Multi-layer Perceptron classifier-1\n",
    "from sklearn.neural_network import MLPClassifier\n",
    "clf_NN = MLPClassifier(activation='relu', alpha=1e-05, \n",
    "       hidden_layer_sizes=(15, 5), max_iter=700, random_state=1, \n",
    "       solver='lbfgs', tol=0.0001, verbose=False)\n",
    "clf_NN.fit(income_train, income_train_target)\n",
    "# test random forest model\n",
    "pred_NN = clf_NN.predict(income_test)\n",
    "print(\"ANN Accuracy\", accuracy_score(income_test_target, pred_NN))\n",
    "target_names = [\"high-earner = no\", \"high-earner = yes\"]\n",
    "print(classification_report(income_test_target, pred_NN, target_names=target_names))\n",
    "print(confusion_matrix(income_test_target, pred_NN))"
   ]
  },
  {
   "cell_type": "code",
   "execution_count": 192,
   "metadata": {},
   "outputs": [
    {
     "name": "stdout",
     "output_type": "stream",
     "text": [
      "[[6749  652]\n",
      " [1097 1271]]\n"
     ]
    },
    {
     "data": {
      "text/plain": [
       "Text(0.5, 0, 'Predicted label')"
      ]
     },
     "execution_count": 192,
     "metadata": {},
     "output_type": "execute_result"
    },
    {
     "data": {
      "image/png": "[encoded data removed]",
      "text/plain": [
       "<Figure size 288x288 with 2 Axes>"
      ]
     },
     "metadata": {
      "needs_background": "light"
     },
     "output_type": "display_data"
    }
   ],
   "source": [
    "# displaying confusion matrix\n",
    "ANN_cm = confusion_matrix(income_test_target, pred_NN)\n",
    "print(ANN_cm)\n",
    "plt.matshow(ANN_cm)\n",
    "plt.title('Confusion matrix for ANN')\n",
    "plt.colorbar()\n",
    "plt.ylabel('True label')\n",
    "plt.xlabel('Predicted label')"
   ]
  },
  {
   "cell_type": "code",
   "execution_count": 193,
   "metadata": {},
   "outputs": [
    {
     "name": "stdout",
     "output_type": "stream",
     "text": [
      "Cross Validation Score for each K [0.82719298 0.82324561 0.82763158 0.82667837 0.82843352 0.83194384\n",
      " 0.83413778 0.82711716 0.83896446 0.82879719]\n"
     ]
    },
    {
     "data": {
      "text/plain": [
       "0.8294142486623552"
      ]
     },
     "execution_count": 193,
     "metadata": {},
     "output_type": "execute_result"
    }
   ],
   "source": [
    "#verifing ANN Classifier-1 with 10-fold cross validation \n",
    "scores_ANN = cross_val_score(clf_NN, income_train, income_train_target, cv=10,scoring ='accuracy')\n",
    "print(\"Cross Validation Score for each K\",scores_ANN)\n",
    "scores_ANN.mean()"
   ]
  },
  {
   "cell_type": "markdown",
   "metadata": {},
   "source": [
    "Range of testing accuracy is between 82.3%-83.1%  \n",
    "Our mean accuracy score is around 83%. \n",
    "Previous train tests split accuracy score = 82%.\n",
    "So, we can say that this model with cross-validation is slightly(1.0) better performing than previous train tests split. "
   ]
  },
  {
   "cell_type": "code",
   "execution_count": 212,
   "metadata": {},
   "outputs": [
    {
     "name": "stdout",
     "output_type": "stream",
     "text": [
      "Accuracy 0.8223973794656567\n",
      "                   precision    recall  f1-score   support\n",
      "\n",
      " high-earner = no       0.86      0.92      0.89      7401\n",
      "high-earner = yes       0.67      0.53      0.59      2368\n",
      "\n",
      "        micro avg       0.82      0.82      0.82      9769\n",
      "        macro avg       0.76      0.72      0.74      9769\n",
      "     weighted avg       0.81      0.82      0.81      9769\n",
      "\n",
      "[[6785  616]\n",
      " [1119 1249]]\n"
     ]
    }
   ],
   "source": [
    "# 28th Model : Multi-layer Perceptron classifier-2\n",
    "from sklearn.neural_network import MLPClassifier\n",
    "clf_NN2 = MLPClassifier(alpha=1e-05, hidden_layer_sizes=(5, 2), max_iter=200,\n",
    "        random_state=1, solver='adam', verbose=False)\n",
    "clf_NN2.fit(income_train, income_train_target)\n",
    "# test random forest model\n",
    "pred_NN2 = clf_NN2.predict(income_test)\n",
    "print(\"Accuracy\", accuracy_score(income_test_target, pred_NN2))\n",
    "target_names = [\"high-earner = no\", \"high-earner = yes\"]\n",
    "print(classification_report(income_test_target, pred_NN2, target_names=target_names))\n",
    "print(confusion_matrix(income_test_target, pred_NN2))"
   ]
  },
  {
   "cell_type": "code",
   "execution_count": 196,
   "metadata": {},
   "outputs": [
    {
     "name": "stdout",
     "output_type": "stream",
     "text": [
      "Accuracy 0.8166649605896202\n",
      "                   precision    recall  f1-score   support\n",
      "\n",
      " high-earner = no       0.87      0.89      0.88      7401\n",
      "high-earner = yes       0.63      0.58      0.61      2368\n",
      "\n",
      "        micro avg       0.82      0.82      0.82      9769\n",
      "        macro avg       0.75      0.74      0.74      9769\n",
      "     weighted avg       0.81      0.82      0.81      9769\n",
      "\n",
      "[[6603  798]\n",
      " [ 993 1375]]\n"
     ]
    }
   ],
   "source": [
    "# 29th Model : Multi-layer Perceptron classifier-3\n",
    "from sklearn.neural_network import MLPClassifier\n",
    "# the optimal number of hidden nodes in the first hidden layer is: sqrt[(m+2)N] + 2sqrt[N/(m+2)] =25\n",
    "# and in the second hidden layer, the optimal number of hidden nodes is: m*sqrt[N/(m+2)]=8, where \n",
    "# N = number of inputs, and m = number of outputs.\n",
    "clf_NN3 =MLPClassifier(activation='tanh',batch_size='auto',\n",
    "       hidden_layer_sizes=(25,8),random_state=1, \n",
    "       solver='lbfgs', verbose=False)\n",
    "       \n",
    "clf_NN3.fit(income_train, income_train_target)\n",
    "# test random forest model\n",
    "pred_NN3 = clf_NN3.predict(income_test)\n",
    "print(\"Accuracy\", accuracy_score(income_test_target, pred_NN3))\n",
    "target_names = [\"high-earner = no\", \"high-earner = yes\"]\n",
    "print(classification_report(income_test_target, pred_NN3, target_names=target_names))\n",
    "print(confusion_matrix(income_test_target, pred_NN3))"
   ]
  },
  {
   "cell_type": "code",
   "execution_count": 246,
   "metadata": {},
   "outputs": [
    {
     "name": "stdout",
     "output_type": "stream",
     "text": [
      "Cross Validation Score for each K [0.82807018 0.82631579 0.82631579 0.81439228 0.82667837 0.82799473\n",
      " 0.82843352 0.82887231 0.8411584  0.83187006]\n"
     ]
    },
    {
     "data": {
      "text/plain": [
       "0.8280101434097004"
      ]
     },
     "execution_count": 246,
     "metadata": {},
     "output_type": "execute_result"
    }
   ],
   "source": [
    "#verifing ANN Classifier-3 with 10-fold cross validation \n",
    "scores_ANN3 = cross_val_score(clf_NN3, income_train, income_train_target, cv=10,scoring ='accuracy')\n",
    "print(\"Cross Validation Score for each K\",scores_ANN3)\n",
    "scores_ANN3.mean()"
   ]
  },
  {
   "cell_type": "markdown",
   "metadata": {},
   "source": [
    "Range of testing accuracy is between 81.4%-84.1% with little variation \n",
    "Our mean accuracy score is around 83%. \n",
    "Previous train tests split accuracy score is around 82%.\n",
    "So, we can say that this model with cross-validation is slightly(1.0) better performing than previous train tests split. "
   ]
  },
  {
   "cell_type": "markdown",
   "metadata": {},
   "source": [
    "### Stochastic Gradient Descent\n",
    "\n",
    "SGDclassifier implements a plain stochastic gradient descent learning routine which supports different loss functions and penalties for classification"
   ]
  },
  {
   "cell_type": "code",
   "execution_count": 235,
   "metadata": {},
   "outputs": [
    {
     "name": "stdout",
     "output_type": "stream",
     "text": [
      "99 0 4.090661101530666 1 0 0.24012811512811513\n"
     ]
    }
   ],
   "source": [
    "# scaling the data \n",
    "from sklearn.preprocessing import StandardScaler\n",
    "StandardScaler().fit_transform(income_train)\n",
    "#y_train = StandardScaler().fit_transform((income_train_target)\n",
    "                                         \n",
    "StandardScaler().fit_transform(income_test)\n",
    "#y_test = StandardScaler().fit_transform(income_test_target)\n",
    "\n",
    "print(np.max(income_train), np.min(income_train), np.mean(income_train), np.max(income_train_target), np.min(income_train_target), np.mean(income_train_target))"
   ]
  },
  {
   "cell_type": "code",
   "execution_count": 236,
   "metadata": {},
   "outputs": [
    {
     "name": "stdout",
     "output_type": "stream",
     "text": [
      "Accuracy 0.8178933360630566\n",
      "                   precision    recall  f1-score   support\n",
      "\n",
      " high-earner = no       0.87      0.90      0.88      7401\n",
      "high-earner = yes       0.64      0.57      0.60      2368\n",
      "\n",
      "        micro avg       0.82      0.82      0.82      9769\n",
      "        macro avg       0.75      0.73      0.74      9769\n",
      "     weighted avg       0.81      0.82      0.81      9769\n",
      "\n",
      "[[6633  768]\n",
      " [1011 1357]]\n"
     ]
    }
   ],
   "source": [
    "# 30th Model : Stochastic Gradient Descent Classifier-1\n",
    "from sklearn.linear_model import SGDClassifier\n",
    "\n",
    "clf_sgd = SGDClassifier(loss=\"hinge\", penalty=\"l2\", max_iter=5,random_state=1)\n",
    "clf_sgd.fit(income_train, income_train_target)   \n",
    "pred_sgd = clf_sgd.predict(income_test)\n",
    "print(\"Accuracy\", accuracy_score(income_test_target, pred_sgd))\n",
    "target_names = [\"high-earner = no\", \"high-earner = yes\"]\n",
    "print(classification_report(income_test_target, pred_sgd, target_names=target_names))\n",
    "print(confusion_matrix(income_test_target, pred_sgd))"
   ]
  },
  {
   "cell_type": "code",
   "execution_count": 237,
   "metadata": {},
   "outputs": [
    {
     "name": "stdout",
     "output_type": "stream",
     "text": [
      "Cross Validation Score for each K [0.66315789 0.49473684 0.79605263 0.75998245 0.80342255 0.81526986\n",
      " 0.78499342 0.81439228 0.61562089 0.75987709]\n"
     ]
    },
    {
     "data": {
      "text/plain": [
       "0.7307505892811208"
      ]
     },
     "execution_count": 237,
     "metadata": {},
     "output_type": "execute_result"
    }
   ],
   "source": [
    "#verifing SGD classifier with 10-fold cross validation\n",
    "scores_sgd = cross_val_score(clf_sgd, income_train, income_train_target, cv=10,scoring ='accuracy')\n",
    "print(\"Cross Validation Score for each K\",scores_sgd)\n",
    "scores_sgd.mean()"
   ]
  },
  {
   "cell_type": "markdown",
   "metadata": {},
   "source": [
    "Range of testing accuracy is between 49%-81.5% which depicts good variation \n",
    "Our mean accuracy score is around 73%. \n",
    "Previous train tests split accuracy score = 81.78%.\n",
    "So, we can say that this model with cross-validation is under performing with 8.78 points than previous train tests split. Does this mean overfitting?"
   ]
  },
  {
   "cell_type": "code",
   "execution_count": 238,
   "metadata": {},
   "outputs": [
    {
     "name": "stdout",
     "output_type": "stream",
     "text": [
      "Accuracy 0.8066332275565564\n",
      "                   precision    recall  f1-score   support\n",
      "\n",
      " high-earner = no       0.88      0.86      0.87      7401\n",
      "high-earner = yes       0.60      0.63      0.61      2368\n",
      "\n",
      "        micro avg       0.81      0.81      0.81      9769\n",
      "        macro avg       0.74      0.75      0.74      9769\n",
      "     weighted avg       0.81      0.81      0.81      9769\n",
      "\n",
      "[[6389 1012]\n",
      " [ 877 1491]]\n"
     ]
    }
   ],
   "source": [
    "# 31st Model : Stochastic Gradient Descent Classifier-2\n",
    "from sklearn.linear_model import SGDClassifier\n",
    "clf_sgd2 = SGDClassifier(loss=\"hinge\", penalty=\"elasticnet\", class_weight='balanced',max_iter=5,random_state=1)\n",
    "clf_sgd2.fit(income_train, income_train_target)   \n",
    "pred_sgd2 = clf_sgd2.predict(income_test)\n",
    "print(\"Accuracy\", accuracy_score(income_test_target, pred_sgd2))\n",
    "target_names = [\"high-earner = no\", \"high-earner = yes\"]\n",
    "print(classification_report(income_test_target, pred_sgd2, target_names=target_names))\n",
    "print(confusion_matrix(income_test_target, pred_sgd2))"
   ]
  },
  {
   "cell_type": "code",
   "execution_count": 239,
   "metadata": {},
   "outputs": [
    {
     "name": "stdout",
     "output_type": "stream",
     "text": [
      "[[6389 1012]\n",
      " [ 877 1491]]\n"
     ]
    },
    {
     "data": {
      "text/plain": [
       "Text(0.5, 0, 'Predicted label')"
      ]
     },
     "execution_count": 239,
     "metadata": {},
     "output_type": "execute_result"
    },
    {
     "data": {
      "image/png": "[encoded data removed]",
      "text/plain": [
       "<Figure size 288x288 with 2 Axes>"
      ]
     },
     "metadata": {
      "needs_background": "light"
     },
     "output_type": "display_data"
    }
   ],
   "source": [
    "# displaying confusion matrix\n",
    "sgd_cm = confusion_matrix(income_test_target, pred_sgd2)\n",
    "print(sgd_cm)\n",
    "plt.matshow(sgd_cm)\n",
    "plt.title('Confusion matrix for Stochastic Gradient Descent')\n",
    "plt.colorbar()\n",
    "plt.ylabel('True label')\n",
    "plt.xlabel('Predicted label')"
   ]
  },
  {
   "cell_type": "code",
   "execution_count": 240,
   "metadata": {},
   "outputs": [
    {
     "name": "stdout",
     "output_type": "stream",
     "text": [
      "Cross Validation Score for each K [0.6372807  0.52149123 0.43421053 0.79947345 0.80254498 0.79991224\n",
      " 0.81439228 0.67134708 0.68758227 0.81035996]\n"
     ]
    },
    {
     "data": {
      "text/plain": [
       "0.6978594724663775"
      ]
     },
     "execution_count": 240,
     "metadata": {},
     "output_type": "execute_result"
    }
   ],
   "source": [
    "#verifing sgd classifier with cross validation income_train, income_train_target\n",
    "scores_sgd2 = cross_val_score(clf_sgd2, income_train, income_train_target, cv=10,scoring ='accuracy')\n",
    "print(\"Cross Validation Score for each K\",scores_sgd2)\n",
    "scores_sgd2.mean()"
   ]
  },
  {
   "cell_type": "markdown",
   "metadata": {},
   "source": [
    "Range of testing accuracy is between 43%-80% which depicts high variation \n",
    "Our mean accuracy score is around 69.78%. \n",
    "Previous train tests split accuracy score = 80.66%.\n",
    "So, we can say that this model with cross-validation is under performing with 10.88 points than previous train tests split. Does this mean overfitting,again?"
   ]
  },
  {
   "cell_type": "code",
   "execution_count": 241,
   "metadata": {},
   "outputs": [
    {
     "name": "stdout",
     "output_type": "stream",
     "text": [
      "Accuracy 0.7271982802743372\n",
      "                   precision    recall  f1-score   support\n",
      "\n",
      " high-earner = no       0.94      0.68      0.79      7401\n",
      "high-earner = yes       0.47      0.86      0.60      2368\n",
      "\n",
      "        micro avg       0.73      0.73      0.73      9769\n",
      "        macro avg       0.70      0.77      0.70      9769\n",
      "     weighted avg       0.82      0.73      0.75      9769\n",
      "\n",
      "[[5064 2337]\n",
      " [ 328 2040]]\n"
     ]
    }
   ],
   "source": [
    "# 32nd Model : Stochastic Gradient Descent Classifier-3\n",
    "from sklearn.linear_model import SGDClassifier\n",
    "clf_sgd3 = SGDClassifier(loss=\"hinge\", penalty=\"l1\", class_weight='balanced',max_iter=5,random_state=1)\n",
    "clf_sgd3.fit(income_train, income_train_target)   \n",
    "pred_sgd3 = clf_sgd3.predict(income_test)\n",
    "print(\"Accuracy\", accuracy_score(income_test_target, pred_sgd3))\n",
    "target_names = [\"high-earner = no\", \"high-earner = yes\"]\n",
    "print(classification_report(income_test_target, pred_sgd3, target_names=target_names))\n",
    "print(confusion_matrix(income_test_target, pred_sgd3))"
   ]
  },
  {
   "cell_type": "code",
   "execution_count": 242,
   "metadata": {},
   "outputs": [
    {
     "name": "stdout",
     "output_type": "stream",
     "text": [
      "Cross Validation Score for each K [0.72017544 0.70526316 0.79824561 0.79201404 0.7819219  0.8095656\n",
      " 0.8056165  0.74637999 0.80298376 0.78489903]\n"
     ]
    },
    {
     "data": {
      "text/plain": [
       "0.7747065035025763"
      ]
     },
     "execution_count": 242,
     "metadata": {},
     "output_type": "execute_result"
    }
   ],
   "source": [
    "#verifing sgd classifier with cross validation income_train, income_train_target\n",
    "scores_sgd3 = cross_val_score(clf_sgd3, income_train, income_train_target, cv=10,scoring ='accuracy')\n",
    "print(\"Cross Validation Score for each K\",scores_sgd3)\n",
    "scores_sgd3.mean()"
   ]
  },
  {
   "cell_type": "markdown",
   "metadata": {},
   "source": [
    "Range of testing accuracy is between 70.5%-80.9% which depicts variation \n",
    "Our mean accuracy score is around 77.47%. \n",
    "Previous train tests split accuracy score = 72.7%.\n",
    "So, we can say that this model with cross-validation is (4.77) better performing than previous train tests split."
   ]
  },
  {
   "cell_type": "markdown",
   "metadata": {},
   "source": [
    "### SUPPORT VECTOR MACHINES\n",
    " #### SVM-1 : \n",
    " A linear hyper-plane function with default values of support vector classifier"
   ]
  },
  {
   "cell_type": "code",
   "execution_count": 208,
   "metadata": {},
   "outputs": [
    {
     "name": "stdout",
     "output_type": "stream",
     "text": [
      "0.8199406285187839\n",
      "                   precision    recall  f1-score   support\n",
      "\n",
      " high-earner = no       0.86      0.91      0.88      7401\n",
      "high-earner = yes       0.66      0.53      0.59      2368\n",
      "\n",
      "        micro avg       0.82      0.82      0.82      9769\n",
      "        macro avg       0.76      0.72      0.74      9769\n",
      "     weighted avg       0.81      0.82      0.81      9769\n",
      "\n",
      "[[6762  639]\n",
      " [1120 1248]]\n",
      "14562.501422105997 seconds\n"
     ]
    }
   ],
   "source": [
    "# 33rd Model : SUPPORT VECTOR Classifier-1\n",
    "from sklearn.svm import SVC\n",
    "#standard linear SVC\n",
    "clf_svc = SVC(kernel='linear', C=1.0,class_weight=None,gamma='auto')\n",
    "clf_svc.fit(income_train, income_train_target)\n",
    "# test svm \n",
    "predicted_svc=clf_svc.predict(income_test)\n",
    "expected = income_test_target\n",
    "# summarize the fit of the model\n",
    "target_names = [\"high-earner = no\", \"high-earner = yes\"]\n",
    "print(accuracy_score(expected,predicted_svc))\n",
    "print(classification_report(expected, predicted_svc,target_names=target_names ))\n",
    "print(confusion_matrix(expected, predicted_svc))\n",
    "\n",
    "print(time.clock() - start_time, \"seconds\")"
   ]
  },
  {
   "cell_type": "code",
   "execution_count": 198,
   "metadata": {},
   "outputs": [
    {
     "name": "stdout",
     "output_type": "stream",
     "text": [
      "Cross Validation Score for each K [0.82605835 0.82276815 0.82737442 0.825362   0.82773755]\n"
     ]
    },
    {
     "data": {
      "text/plain": [
       "0.8258600937527592"
      ]
     },
     "execution_count": 198,
     "metadata": {},
     "output_type": "execute_result"
    }
   ],
   "source": [
    "#verifying svm classifier with cross validation income_train, income_train_target\n",
    "scores_svc = cross_val_score(clf_svc, income_train, income_train_target, cv=5,scoring ='accuracy')\n",
    "print(\"Cross Validation Score for each K\",scores_svc)\n",
    "scores_svc.mean()"
   ]
  },
  {
   "cell_type": "markdown",
   "metadata": {},
   "source": [
    "Range of testing accuracy is between 82.2%-82.7% which depicts very little variation \n",
    "Our mean accuracy score is around 82.58%. \n",
    "Previous train tests split accuracy score = 81.99%.\n",
    "So, we can say that this model with cross-validation is slightly(0.6) better performing than previous train tests split. "
   ]
  },
  {
   "cell_type": "markdown",
   "metadata": {},
   "source": [
    "#### SVM-2\n",
    "Another linear function and class_Weight is changed to 'balanced'"
   ]
  },
  {
   "cell_type": "code",
   "execution_count": 154,
   "metadata": {},
   "outputs": [
    {
     "name": "stdout",
     "output_type": "stream",
     "text": [
      "                   precision    recall  f1-score   support\n",
      "\n",
      " high-earner = no       0.94      0.71      0.81      7401\n",
      "high-earner = yes       0.48      0.85      0.62      2368\n",
      "\n",
      "        micro avg       0.74      0.74      0.74      9769\n",
      "        macro avg       0.71      0.78      0.71      9769\n",
      "     weighted avg       0.83      0.74      0.76      9769\n",
      "\n",
      "[[5248 2153]\n",
      " [ 359 2009]]\n",
      "0.742860067560651\n",
      "Time to run 80.76712485799908 seconds\n"
     ]
    }
   ],
   "source": [
    "# 34th Model : SUPPORT VECTOR Classifier-2\n",
    "start_time = time.clock()\n",
    "from sklearn.svm import SVC\n",
    "#standard linear SVC\n",
    "clf_svc2 = SVC(kernel='linear', C=1.0,class_weight='balanced',gamma='auto')\n",
    "clf_svc2.fit(income_train, income_train_target)\n",
    "predicted_svc2=clf_svc2.predict(income_test)\n",
    "expected = income_test_target\n",
    "# summarize the fit of the model\n",
    "target_names = [\"high-earner = no\", \"high-earner = yes\"]\n",
    "print(classification_report(expected, predicted_svc2,target_names=target_names))\n",
    "print(confusion_matrix(expected, predicted_svc2))\n",
    "print(accuracy_score(expected,predicted_svc2))\n",
    "print(\"Time to run\", time.clock() - start_time, \"seconds\")"
   ]
  },
  {
   "cell_type": "markdown",
   "metadata": {},
   "source": [
    "#### SVM-3\n",
    "\n",
    "Finally, using radial function to handle non-Linearly separable data with noise which is impossible to partition using a line."
   ]
  },
  {
   "cell_type": "code",
   "execution_count": 157,
   "metadata": {},
   "outputs": [
    {
     "name": "stdout",
     "output_type": "stream",
     "text": [
      "                   precision    recall  f1-score   support\n",
      "\n",
      " high-earner = no       0.92      0.77      0.84      7401\n",
      "high-earner = yes       0.52      0.80      0.63      2368\n",
      "\n",
      "        micro avg       0.78      0.78      0.78      9769\n",
      "        macro avg       0.72      0.79      0.74      9769\n",
      "     weighted avg       0.83      0.78      0.79      9769\n",
      "\n",
      "[[5679 1722]\n",
      " [ 467 1901]]\n",
      "0.7759238407206469\n",
      "Time to run 42.46209188099965 seconds\n"
     ]
    }
   ],
   "source": [
    "# 35th Model : SUPPORT VECTOR Classifier-3\n",
    "start_time = time.clock()\n",
    "from sklearn.svm import SVC\n",
    "#standard linear SVC\n",
    "clf_rbf = SVC(kernel='rbf', C=1.0, class_weight='balanced',gamma=0.1)\n",
    "clf_rbf.fit(income_train, income_train_target)\n",
    "predicted_rbf=clf_rbf.predict(income_test)\n",
    "expected = income_test_target\n",
    "# summarize the fit of the model\n",
    "target_names = [\"high-earner = no\", \"high-earner = yes\"]\n",
    "\n",
    "print(classification_report(expected, predicted_rbf,target_names=target_names))\n",
    "print(confusion_matrix(expected, predicted_rbf))\n",
    "print(accuracy_score(expected,predicted_rbf))\n",
    "print(\"Time to run\", time.clock() - start_time, \"seconds\")"
   ]
  },
  {
   "cell_type": "code",
   "execution_count": 199,
   "metadata": {},
   "outputs": [
    {
     "name": "stdout",
     "output_type": "stream",
     "text": [
      "Cross Validation Score for each K [0.78240842 0.78328581 0.7780215  0.78521281 0.77989906]\n"
     ]
    },
    {
     "data": {
      "text/plain": [
       "0.7817655192334035"
      ]
     },
     "execution_count": 199,
     "metadata": {},
     "output_type": "execute_result"
    }
   ],
   "source": [
    "#verifying svm classifier with cross validation income_train, income_train_target\n",
    "scores_rbf = cross_val_score(clf_rbf, income_train, income_train_target, cv=5,scoring ='accuracy')\n",
    "print(\"Cross Validation Score for each K\",scores_rbf)\n",
    "scores_rbf.mean()"
   ]
  },
  {
   "cell_type": "markdown",
   "metadata": {},
   "source": [
    "Range of testing accuracy is between 77%-78% which depicts little variation \n",
    "Our mean accuracy score is around 78%. \n",
    "Previous train tests split accuracy score = 77.59%.\n",
    "So, we can say that this model with cross-validation is slightly(0.58) better performing than previous train tests split. "
   ]
  },
  {
   "cell_type": "markdown",
   "metadata": {},
   "source": [
    "#### SVM-4\n",
    "Another radial functionfor non-linear hyper-plane with decreased tolerance for stopping criterion that is from 1e-3 to 1e-2"
   ]
  },
  {
   "cell_type": "code",
   "execution_count": 244,
   "metadata": {},
   "outputs": [
    {
     "name": "stdout",
     "output_type": "stream",
     "text": [
      "                   precision    recall  f1-score   support\n",
      "\n",
      " high-earner = no       0.93      0.76      0.83      7401\n",
      "high-earner = yes       0.52      0.82      0.64      2368\n",
      "\n",
      "        micro avg       0.77      0.77      0.77      9769\n",
      "        macro avg       0.73      0.79      0.74      9769\n",
      "     weighted avg       0.83      0.77      0.79      9769\n",
      "\n",
      "[[5607 1794]\n",
      " [ 422 1946]]\n",
      "0.7731599959054151\n",
      "Time to run 30.634741052002937 seconds\n"
     ]
    }
   ],
   "source": [
    "# 36th Model : SUPPORT VECTOR Classifier-3\n",
    "start_time = time.clock()\n",
    "from sklearn.svm import SVC\n",
    "#standard linear SVC\n",
    "clf_rbf2 = SVC(kernel='rbf', C=1.0,tol=1e-2, class_weight='balanced',gamma='auto')\n",
    "clf_rbf2.fit(income_train, income_train_target)\n",
    "predicted_rbf2=clf_rbf2.predict(income_test)\n",
    "expected = income_test_target\n",
    "# summarize the fit of the model\n",
    "target_names = [\"high-earner = no\", \"high-earner = yes\"]\n",
    "print(classification_report(expected, predicted_rbf2,target_names=target_names))\n",
    "print(confusion_matrix(expected, predicted_rbf2))\n",
    "print(accuracy_score(expected,predicted_rbf2))\n",
    "print(\"Time to run\", time.clock() - start_time, \"seconds\")"
   ]
  },
  {
   "cell_type": "code",
   "execution_count": 245,
   "metadata": {},
   "outputs": [
    {
     "name": "stdout",
     "output_type": "stream",
     "text": [
      "Cross Validation Score for each K [0.78240842 0.78328581 0.7780215  0.78521281 0.77989906]\n"
     ]
    },
    {
     "data": {
      "text/plain": [
       "0.7817655192334035"
      ]
     },
     "execution_count": 245,
     "metadata": {},
     "output_type": "execute_result"
    }
   ],
   "source": [
    "#verifying svm classifier with cross validation income_train, income_train_target\n",
    "scores_rbf2 = cross_val_score(clf_rbf2, income_train, income_train_target, cv=5,scoring ='accuracy')\n",
    "print(\"Cross Validation Score for each K\",scores_rbf2)\n",
    "scores_rbf2.mean()"
   ]
  },
  {
   "cell_type": "markdown",
   "metadata": {},
   "source": [
    "Range of testing accuracy is between 77.8%-78.5% which depicts little variation \n",
    "Our mean accuracy score is around 78.17%. \n",
    "Previous train tests split accuracy score = 77.31%.\n",
    "So, we can say that this model with cross-validation is slightly(0.86) better performing than previous train tests split. "
   ]
  },
  {
   "cell_type": "markdown",
   "metadata": {},
   "source": [
    "### The end:"
   ]
  },
  {
   "cell_type": "code",
   "execution_count": null,
   "metadata": {},
   "outputs": [],
   "source": []
  }
 ],
 "metadata": {
  "anaconda-cloud": {},
  "kernelspec": {
   "display_name": "Python 3",
   "language": "python",
   "name": "python3"
  },
  "language_info": {
   "codemirror_mode": {
    "name": "ipython",
    "version": 3
   },
   "file_extension": ".py",
   "mimetype": "text/x-python",
   "name": "python",
   "nbconvert_exporter": "python",
   "pygments_lexer": "ipython3",
   "version": "3.7.4"
  }
 },
 "nbformat": 4,
 "nbformat_minor": 1
}
